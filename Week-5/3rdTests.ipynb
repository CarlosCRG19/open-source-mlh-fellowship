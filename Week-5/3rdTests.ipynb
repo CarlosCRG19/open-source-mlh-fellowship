{
 "cells": [
  {
   "cell_type": "markdown",
   "id": "eccf1a58",
   "metadata": {},
   "source": [
    "# Effect of Different Block Sizes on Access Speed with Zstd and SquashFS"
   ]
  },
  {
   "cell_type": "markdown",
   "id": "ed28fb74",
   "metadata": {},
   "source": [
    "### Notebook Configurations"
   ]
  },
  {
   "cell_type": "markdown",
   "id": "515a88c6",
   "metadata": {},
   "source": [
    "_Imports_"
   ]
  },
  {
   "cell_type": "code",
   "execution_count": 1,
   "id": "bf903b92",
   "metadata": {},
   "outputs": [],
   "source": [
    "import os\n",
    "import time \n",
    "import random\n",
    "import getpass\n",
    "import numpy as np\n",
    "import pandas as pd\n",
    "import matplotlib.pyplot as plt"
   ]
  },
  {
   "cell_type": "markdown",
   "id": "6b5eb16b",
   "metadata": {},
   "source": [
    "_Matplotlib Figures Styles_"
   ]
  },
  {
   "cell_type": "code",
   "execution_count": 2,
   "id": "21d04023",
   "metadata": {},
   "outputs": [],
   "source": [
    "plt.rcParams['figure.figsize'] = (10, 7) # for the size of matplotlib plots\n",
    "plt.rcParams['axes.spines.top'] = False\n",
    "plt.rcParams['axes.spines.right'] = False\n",
    "plt.rcParams['axes.grid'] = True\n",
    "plt.rcParams['axes.grid.axis'] = \"y\"\n",
    "plt.rcParams['axes.axisbelow'] = True\n",
    "plt.rcParams['grid.color'] = \"#EEEEEE\""
   ]
  },
  {
   "cell_type": "markdown",
   "id": "c503ad68",
   "metadata": {},
   "source": [
    "### Initial Hyphotesis"
   ]
  },
  {
   "cell_type": "markdown",
   "id": "f3f27bd7",
   "metadata": {},
   "source": [
    "Small block sizes in compression can result in faster random reads, in this case, in a mounted SquashFS image."
   ]
  },
  {
   "cell_type": "markdown",
   "id": "77115488",
   "metadata": {},
   "source": [
    "### Initial variables"
   ]
  },
  {
   "cell_type": "markdown",
   "id": "e14fc889",
   "metadata": {},
   "source": [
    "In the use case of a read-only filesystem (such as SquashFS), the decompression latency is a lot more important than compression latency. Thus, a high compression level for Zstd, which envolves slower compression speed but higher ratios and faster decompression, is optimal. \n",
    "\n",
    "* __Zstd compression level:__ 19"
   ]
  },
  {
   "cell_type": "code",
   "execution_count": 3,
   "id": "879737bf",
   "metadata": {},
   "outputs": [],
   "source": [
    "compression_level = 19 # high compression level for Zstandard (max is 22)"
   ]
  },
  {
   "cell_type": "markdown",
   "id": "e3fefe23",
   "metadata": {},
   "source": [
    "For this tests, the next files are used:\n",
    "\n",
    "* __enwik9__: database based on Wikipedia composed of mostly english text in XML encoded with UTF-8. _Total size of file:_ 1GB"
   ]
  },
  {
   "cell_type": "code",
   "execution_count": 4,
   "id": "c2eb6dee",
   "metadata": {},
   "outputs": [],
   "source": [
    "file = \"enwik9\""
   ]
  },
  {
   "cell_type": "markdown",
   "id": "37cb5f93",
   "metadata": {},
   "source": [
    "For reproducible results, use __42__ as random seed."
   ]
  },
  {
   "cell_type": "code",
   "execution_count": 5,
   "id": "2d216b2c",
   "metadata": {},
   "outputs": [],
   "source": [
    "random.seed(42)"
   ]
  },
  {
   "cell_type": "markdown",
   "id": "34db5b96",
   "metadata": {},
   "source": [
    "_Helper functions_"
   ]
  },
  {
   "cell_type": "code",
   "execution_count": 6,
   "id": "15e25a3d",
   "metadata": {},
   "outputs": [],
   "source": [
    "def get_file_size(file):\n",
    "    \n",
    "    is_directory = os.popen(f\"./is_directory.sh {file}\").read().strip() # shell script to check if string corresponds to dir or file\n",
    "    \n",
    "    if(is_directory == \"1\"):\n",
    "        size = os.popen(f\"du -b {file}\").read().split(\"\\t\")[0]\n",
    "    else:\n",
    "        size = os.popen(f\"ls -l {file}\").read().split(\" \")[4]\n",
    "    \n",
    "    return int(size)\n",
    "\n",
    "\n",
    "def get_speed(size, time):\n",
    "    \n",
    "    size_in_mb = size / (1024*1024)\n",
    "    \n",
    "    return round((size_in_mb/time), 2)\n",
    "\n",
    "\n",
    "def get_compression_ratio(original, new):\n",
    "    return original / new\n"
   ]
  },
  {
   "cell_type": "markdown",
   "id": "d65b4c1a",
   "metadata": {},
   "source": [
    "## Effect of block sizes on Access Speed with Zstd and SquashFS"
   ]
  },
  {
   "cell_type": "markdown",
   "id": "333cadef",
   "metadata": {},
   "source": [
    "In summary, for each of the 5 block sizes a new SquashFS image is created from the enwik9 file. This image is then mounted in the _/mnt/squashfs-practice mountpoint_ from where it will be randomly accessed a N times. \n",
    "\n",
    "The following script calculates the time that it takes to complete the N lookups and stores the results in a Pandas DataFrame."
   ]
  },
  {
   "cell_type": "markdown",
   "id": "990d2d00",
   "metadata": {},
   "source": [
    "__Example Compression:__ _mksquashfs FILE FILE.sqsh -comp zstd -Xcompression-level 19 -b BLOCKSIZE_"
   ]
  },
  {
   "cell_type": "code",
   "execution_count": 8,
   "id": "292221a7",
   "metadata": {},
   "outputs": [
    {
     "name": "stdout",
     "output_type": "stream",
     "text": [
      "········\n",
      "--| RANDOM ACCESS TO enwik9 |--\n",
      "Block size => 4K:\n"
     ]
    },
    {
     "name": "stderr",
     "output_type": "stream",
     "text": [
      "[sudo] password for carloscrg19: "
     ]
    },
    {
     "name": "stdout",
     "output_type": "stream",
     "text": [
      "  (1) Sum => 881009 ; Access Time => 0.534 seconds\n"
     ]
    },
    {
     "name": "stderr",
     "output_type": "stream",
     "text": [
      "[sudo] password for carloscrg19: "
     ]
    },
    {
     "name": "stdout",
     "output_type": "stream",
     "text": [
      "  (2) Sum => 882450 ; Access Time => 0.747 seconds\n"
     ]
    },
    {
     "name": "stderr",
     "output_type": "stream",
     "text": [
      "[sudo] password for carloscrg19: "
     ]
    },
    {
     "name": "stdout",
     "output_type": "stream",
     "text": [
      "  (3) Sum => 881389 ; Access Time => 0.745 seconds\n"
     ]
    },
    {
     "name": "stderr",
     "output_type": "stream",
     "text": [
      "[sudo] password for carloscrg19: "
     ]
    },
    {
     "name": "stdout",
     "output_type": "stream",
     "text": [
      "  (4) Sum => 882381 ; Access Time => 0.747 seconds\n"
     ]
    },
    {
     "name": "stderr",
     "output_type": "stream",
     "text": [
      "[sudo] password for carloscrg19: "
     ]
    },
    {
     "name": "stdout",
     "output_type": "stream",
     "text": [
      "  (5) Sum => 881907 ; Access Time => 0.711 seconds\n"
     ]
    },
    {
     "name": "stderr",
     "output_type": "stream",
     "text": [
      "[sudo] password for carloscrg19: "
     ]
    },
    {
     "name": "stdout",
     "output_type": "stream",
     "text": [
      "  (6) Sum => 887973 ; Access Time => 0.694 seconds\n"
     ]
    },
    {
     "name": "stderr",
     "output_type": "stream",
     "text": [
      "[sudo] password for carloscrg19: "
     ]
    },
    {
     "name": "stdout",
     "output_type": "stream",
     "text": [
      "  (7) Sum => 882319 ; Access Time => 0.759 seconds\n"
     ]
    },
    {
     "name": "stderr",
     "output_type": "stream",
     "text": [
      "[sudo] password for carloscrg19: "
     ]
    },
    {
     "name": "stdout",
     "output_type": "stream",
     "text": [
      "  (8) Sum => 882283 ; Access Time => 0.754 seconds\n"
     ]
    },
    {
     "name": "stderr",
     "output_type": "stream",
     "text": [
      "[sudo] password for carloscrg19: "
     ]
    },
    {
     "name": "stdout",
     "output_type": "stream",
     "text": [
      "  (9) Sum => 886572 ; Access Time => 0.705 seconds\n"
     ]
    },
    {
     "name": "stderr",
     "output_type": "stream",
     "text": [
      "[sudo] password for carloscrg19: "
     ]
    },
    {
     "name": "stdout",
     "output_type": "stream",
     "text": [
      "  (10) Sum => 873616 ; Access Time => 0.686 seconds\n"
     ]
    },
    {
     "name": "stderr",
     "output_type": "stream",
     "text": [
      "[sudo] password for carloscrg19: "
     ]
    },
    {
     "name": "stdout",
     "output_type": "stream",
     "text": [
      "  (11) Sum => 881464 ; Access Time => 0.753 seconds\n"
     ]
    },
    {
     "name": "stderr",
     "output_type": "stream",
     "text": [
      "[sudo] password for carloscrg19: "
     ]
    },
    {
     "name": "stdout",
     "output_type": "stream",
     "text": [
      "  (12) Sum => 878293 ; Access Time => 0.695 seconds\n"
     ]
    },
    {
     "name": "stderr",
     "output_type": "stream",
     "text": [
      "[sudo] password for carloscrg19: "
     ]
    },
    {
     "name": "stdout",
     "output_type": "stream",
     "text": [
      "  (13) Sum => 883999 ; Access Time => 0.688 seconds\n"
     ]
    },
    {
     "name": "stderr",
     "output_type": "stream",
     "text": [
      "[sudo] password for carloscrg19: "
     ]
    },
    {
     "name": "stdout",
     "output_type": "stream",
     "text": [
      "  (14) Sum => 885519 ; Access Time => 0.734 seconds\n"
     ]
    },
    {
     "name": "stderr",
     "output_type": "stream",
     "text": [
      "[sudo] password for carloscrg19: "
     ]
    },
    {
     "name": "stdout",
     "output_type": "stream",
     "text": [
      "  (15) Sum => 883108 ; Access Time => 0.705 seconds\n"
     ]
    },
    {
     "name": "stderr",
     "output_type": "stream",
     "text": [
      "[sudo] password for carloscrg19: "
     ]
    },
    {
     "name": "stdout",
     "output_type": "stream",
     "text": [
      "  (16) Sum => 877613 ; Access Time => 0.75 seconds\n"
     ]
    },
    {
     "name": "stderr",
     "output_type": "stream",
     "text": [
      "[sudo] password for carloscrg19: "
     ]
    },
    {
     "name": "stdout",
     "output_type": "stream",
     "text": [
      "  (17) Sum => 884107 ; Access Time => 0.708 seconds\n"
     ]
    },
    {
     "name": "stderr",
     "output_type": "stream",
     "text": [
      "[sudo] password for carloscrg19: "
     ]
    },
    {
     "name": "stdout",
     "output_type": "stream",
     "text": [
      "  (18) Sum => 884452 ; Access Time => 0.728 seconds\n"
     ]
    },
    {
     "name": "stderr",
     "output_type": "stream",
     "text": [
      "[sudo] password for carloscrg19: "
     ]
    },
    {
     "name": "stdout",
     "output_type": "stream",
     "text": [
      "  (19) Sum => 882595 ; Access Time => 0.705 seconds\n"
     ]
    },
    {
     "name": "stderr",
     "output_type": "stream",
     "text": [
      "[sudo] password for carloscrg19: "
     ]
    },
    {
     "name": "stdout",
     "output_type": "stream",
     "text": [
      "  (20) Sum => 882489 ; Access Time => 0.681 seconds\n"
     ]
    },
    {
     "name": "stderr",
     "output_type": "stream",
     "text": [
      "[sudo] password for carloscrg19: "
     ]
    },
    {
     "name": "stdout",
     "output_type": "stream",
     "text": [
      "  (21) Sum => 880589 ; Access Time => 0.721 seconds\n"
     ]
    },
    {
     "name": "stderr",
     "output_type": "stream",
     "text": [
      "[sudo] password for carloscrg19: "
     ]
    },
    {
     "name": "stdout",
     "output_type": "stream",
     "text": [
      "  (22) Sum => 874922 ; Access Time => 0.723 seconds\n"
     ]
    },
    {
     "name": "stderr",
     "output_type": "stream",
     "text": [
      "[sudo] password for carloscrg19: "
     ]
    },
    {
     "name": "stdout",
     "output_type": "stream",
     "text": [
      "  (23) Sum => 878737 ; Access Time => 0.724 seconds\n"
     ]
    },
    {
     "name": "stderr",
     "output_type": "stream",
     "text": [
      "[sudo] password for carloscrg19: "
     ]
    },
    {
     "name": "stdout",
     "output_type": "stream",
     "text": [
      "  (24) Sum => 882483 ; Access Time => 0.749 seconds\n"
     ]
    },
    {
     "name": "stderr",
     "output_type": "stream",
     "text": [
      "[sudo] password for carloscrg19: "
     ]
    },
    {
     "name": "stdout",
     "output_type": "stream",
     "text": [
      "  (25) Sum => 884621 ; Access Time => 0.715 seconds\n"
     ]
    },
    {
     "name": "stderr",
     "output_type": "stream",
     "text": [
      "[sudo] password for carloscrg19: "
     ]
    },
    {
     "name": "stdout",
     "output_type": "stream",
     "text": [
      "  (26) Sum => 882677 ; Access Time => 0.705 seconds\n"
     ]
    },
    {
     "name": "stderr",
     "output_type": "stream",
     "text": [
      "[sudo] password for carloscrg19: "
     ]
    },
    {
     "name": "stdout",
     "output_type": "stream",
     "text": [
      "  (27) Sum => 883283 ; Access Time => 0.737 seconds\n"
     ]
    },
    {
     "name": "stderr",
     "output_type": "stream",
     "text": [
      "[sudo] password for carloscrg19: "
     ]
    },
    {
     "name": "stdout",
     "output_type": "stream",
     "text": [
      "  (28) Sum => 884498 ; Access Time => 0.717 seconds\n"
     ]
    },
    {
     "name": "stderr",
     "output_type": "stream",
     "text": [
      "[sudo] password for carloscrg19: "
     ]
    },
    {
     "name": "stdout",
     "output_type": "stream",
     "text": [
      "  (29) Sum => 882289 ; Access Time => 0.738 seconds\n"
     ]
    },
    {
     "name": "stderr",
     "output_type": "stream",
     "text": [
      "[sudo] password for carloscrg19: "
     ]
    },
    {
     "name": "stdout",
     "output_type": "stream",
     "text": [
      "  (30) Sum => 871242 ; Access Time => 0.735 seconds\n"
     ]
    },
    {
     "name": "stderr",
     "output_type": "stream",
     "text": [
      "[sudo] password for carloscrg19: "
     ]
    },
    {
     "name": "stdout",
     "output_type": "stream",
     "text": [
      "  (31) Sum => 881690 ; Access Time => 0.703 seconds\n"
     ]
    },
    {
     "name": "stderr",
     "output_type": "stream",
     "text": [
      "[sudo] password for carloscrg19: "
     ]
    },
    {
     "name": "stdout",
     "output_type": "stream",
     "text": [
      "  (32) Sum => 881734 ; Access Time => 0.766 seconds\n"
     ]
    },
    {
     "name": "stderr",
     "output_type": "stream",
     "text": [
      "[sudo] password for carloscrg19: "
     ]
    },
    {
     "name": "stdout",
     "output_type": "stream",
     "text": [
      "  (33) Sum => 885439 ; Access Time => 0.729 seconds\n"
     ]
    },
    {
     "name": "stderr",
     "output_type": "stream",
     "text": [
      "[sudo] password for carloscrg19: "
     ]
    },
    {
     "name": "stdout",
     "output_type": "stream",
     "text": [
      "  (34) Sum => 879164 ; Access Time => 0.718 seconds\n"
     ]
    },
    {
     "name": "stderr",
     "output_type": "stream",
     "text": [
      "[sudo] password for carloscrg19: "
     ]
    },
    {
     "name": "stdout",
     "output_type": "stream",
     "text": [
      "  (35) Sum => 880717 ; Access Time => 0.734 seconds\n"
     ]
    },
    {
     "name": "stderr",
     "output_type": "stream",
     "text": [
      "[sudo] password for carloscrg19: "
     ]
    },
    {
     "name": "stdout",
     "output_type": "stream",
     "text": [
      "  (36) Sum => 878335 ; Access Time => 0.734 seconds\n"
     ]
    },
    {
     "name": "stderr",
     "output_type": "stream",
     "text": [
      "[sudo] password for carloscrg19: "
     ]
    },
    {
     "name": "stdout",
     "output_type": "stream",
     "text": [
      "  (37) Sum => 873154 ; Access Time => 0.733 seconds\n"
     ]
    },
    {
     "name": "stderr",
     "output_type": "stream",
     "text": [
      "[sudo] password for carloscrg19: "
     ]
    },
    {
     "name": "stdout",
     "output_type": "stream",
     "text": [
      "  (38) Sum => 879193 ; Access Time => 0.73 seconds\n"
     ]
    },
    {
     "name": "stderr",
     "output_type": "stream",
     "text": [
      "[sudo] password for carloscrg19: "
     ]
    },
    {
     "name": "stdout",
     "output_type": "stream",
     "text": [
      "  (39) Sum => 884035 ; Access Time => 0.734 seconds\n"
     ]
    },
    {
     "name": "stderr",
     "output_type": "stream",
     "text": [
      "[sudo] password for carloscrg19: "
     ]
    },
    {
     "name": "stdout",
     "output_type": "stream",
     "text": [
      "  (40) Sum => 877591 ; Access Time => 0.726 seconds\n"
     ]
    },
    {
     "name": "stderr",
     "output_type": "stream",
     "text": [
      "[sudo] password for carloscrg19: "
     ]
    },
    {
     "name": "stdout",
     "output_type": "stream",
     "text": [
      "  (41) Sum => 883916 ; Access Time => 0.727 seconds\n"
     ]
    },
    {
     "name": "stderr",
     "output_type": "stream",
     "text": [
      "[sudo] password for carloscrg19: "
     ]
    },
    {
     "name": "stdout",
     "output_type": "stream",
     "text": [
      "  (42) Sum => 881009 ; Access Time => 0.704 seconds\n"
     ]
    },
    {
     "name": "stderr",
     "output_type": "stream",
     "text": [
      "[sudo] password for carloscrg19: "
     ]
    },
    {
     "name": "stdout",
     "output_type": "stream",
     "text": [
      "  (43) Sum => 880853 ; Access Time => 0.741 seconds\n"
     ]
    },
    {
     "name": "stderr",
     "output_type": "stream",
     "text": [
      "[sudo] password for carloscrg19: "
     ]
    },
    {
     "name": "stdout",
     "output_type": "stream",
     "text": [
      "  (44) Sum => 875575 ; Access Time => 0.699 seconds\n"
     ]
    },
    {
     "name": "stderr",
     "output_type": "stream",
     "text": [
      "[sudo] password for carloscrg19: "
     ]
    },
    {
     "name": "stdout",
     "output_type": "stream",
     "text": [
      "  (45) Sum => 882040 ; Access Time => 0.748 seconds\n"
     ]
    },
    {
     "name": "stderr",
     "output_type": "stream",
     "text": [
      "[sudo] password for carloscrg19: "
     ]
    },
    {
     "name": "stdout",
     "output_type": "stream",
     "text": [
      "  (46) Sum => 881661 ; Access Time => 0.75 seconds\n"
     ]
    },
    {
     "name": "stderr",
     "output_type": "stream",
     "text": [
      "[sudo] password for carloscrg19: "
     ]
    },
    {
     "name": "stdout",
     "output_type": "stream",
     "text": [
      "  (47) Sum => 884328 ; Access Time => 0.752 seconds\n"
     ]
    },
    {
     "name": "stderr",
     "output_type": "stream",
     "text": [
      "[sudo] password for carloscrg19: "
     ]
    },
    {
     "name": "stdout",
     "output_type": "stream",
     "text": [
      "  (48) Sum => 883289 ; Access Time => 0.708 seconds\n"
     ]
    },
    {
     "name": "stderr",
     "output_type": "stream",
     "text": [
      "[sudo] password for carloscrg19: "
     ]
    },
    {
     "name": "stdout",
     "output_type": "stream",
     "text": [
      "  (49) Sum => 879453 ; Access Time => 0.751 seconds\n"
     ]
    },
    {
     "name": "stderr",
     "output_type": "stream",
     "text": [
      "[sudo] password for carloscrg19: "
     ]
    },
    {
     "name": "stdout",
     "output_type": "stream",
     "text": [
      "  (50) Sum => 879768 ; Access Time => 0.714 seconds\n"
     ]
    },
    {
     "name": "stderr",
     "output_type": "stream",
     "text": [
      "[sudo] password for carloscrg19: "
     ]
    },
    {
     "name": "stdout",
     "output_type": "stream",
     "text": [
      "  (51) Sum => 881314 ; Access Time => 0.737 seconds\n"
     ]
    },
    {
     "name": "stderr",
     "output_type": "stream",
     "text": [
      "[sudo] password for carloscrg19: "
     ]
    },
    {
     "name": "stdout",
     "output_type": "stream",
     "text": [
      "  (52) Sum => 881124 ; Access Time => 0.724 seconds\n"
     ]
    },
    {
     "name": "stderr",
     "output_type": "stream",
     "text": [
      "[sudo] password for carloscrg19: "
     ]
    },
    {
     "name": "stdout",
     "output_type": "stream",
     "text": [
      "  (53) Sum => 881310 ; Access Time => 0.707 seconds\n"
     ]
    },
    {
     "name": "stderr",
     "output_type": "stream",
     "text": [
      "[sudo] password for carloscrg19: "
     ]
    },
    {
     "name": "stdout",
     "output_type": "stream",
     "text": [
      "  (54) Sum => 879402 ; Access Time => 0.732 seconds\n"
     ]
    },
    {
     "name": "stderr",
     "output_type": "stream",
     "text": [
      "[sudo] password for carloscrg19: "
     ]
    },
    {
     "name": "stdout",
     "output_type": "stream",
     "text": [
      "  (55) Sum => 877691 ; Access Time => 0.761 seconds\n"
     ]
    },
    {
     "name": "stderr",
     "output_type": "stream",
     "text": [
      "[sudo] password for carloscrg19: "
     ]
    },
    {
     "name": "stdout",
     "output_type": "stream",
     "text": [
      "  (56) Sum => 876618 ; Access Time => 0.725 seconds\n"
     ]
    },
    {
     "name": "stderr",
     "output_type": "stream",
     "text": [
      "[sudo] password for carloscrg19: "
     ]
    },
    {
     "name": "stdout",
     "output_type": "stream",
     "text": [
      "  (57) Sum => 883312 ; Access Time => 0.742 seconds\n"
     ]
    },
    {
     "name": "stderr",
     "output_type": "stream",
     "text": [
      "[sudo] password for carloscrg19: "
     ]
    },
    {
     "name": "stdout",
     "output_type": "stream",
     "text": [
      "  (58) Sum => 874701 ; Access Time => 0.714 seconds\n"
     ]
    },
    {
     "name": "stderr",
     "output_type": "stream",
     "text": [
      "[sudo] password for carloscrg19: "
     ]
    },
    {
     "name": "stdout",
     "output_type": "stream",
     "text": [
      "  (59) Sum => 881464 ; Access Time => 0.739 seconds\n"
     ]
    },
    {
     "name": "stderr",
     "output_type": "stream",
     "text": [
      "[sudo] password for carloscrg19: "
     ]
    },
    {
     "name": "stdout",
     "output_type": "stream",
     "text": [
      "  (60) Sum => 882510 ; Access Time => 0.735 seconds\n"
     ]
    },
    {
     "name": "stderr",
     "output_type": "stream",
     "text": [
      "[sudo] password for carloscrg19: "
     ]
    },
    {
     "name": "stdout",
     "output_type": "stream",
     "text": [
      "  (61) Sum => 879999 ; Access Time => 0.718 seconds\n"
     ]
    },
    {
     "name": "stderr",
     "output_type": "stream",
     "text": [
      "[sudo] password for carloscrg19: "
     ]
    },
    {
     "name": "stdout",
     "output_type": "stream",
     "text": [
      "  (62) Sum => 884621 ; Access Time => 0.695 seconds\n"
     ]
    },
    {
     "name": "stderr",
     "output_type": "stream",
     "text": [
      "[sudo] password for carloscrg19: "
     ]
    },
    {
     "name": "stdout",
     "output_type": "stream",
     "text": [
      "  (63) Sum => 882489 ; Access Time => 0.713 seconds\n"
     ]
    },
    {
     "name": "stderr",
     "output_type": "stream",
     "text": [
      "[sudo] password for carloscrg19: "
     ]
    },
    {
     "name": "stdout",
     "output_type": "stream",
     "text": [
      "  (64) Sum => 878117 ; Access Time => 0.733 seconds\n"
     ]
    },
    {
     "name": "stderr",
     "output_type": "stream",
     "text": [
      "[sudo] password for carloscrg19: "
     ]
    },
    {
     "name": "stdout",
     "output_type": "stream",
     "text": [
      "  (65) Sum => 878990 ; Access Time => 0.732 seconds\n"
     ]
    },
    {
     "name": "stderr",
     "output_type": "stream",
     "text": [
      "[sudo] password for carloscrg19: "
     ]
    },
    {
     "name": "stdout",
     "output_type": "stream",
     "text": [
      "  (66) Sum => 886088 ; Access Time => 0.714 seconds\n"
     ]
    },
    {
     "name": "stderr",
     "output_type": "stream",
     "text": [
      "[sudo] password for carloscrg19: "
     ]
    },
    {
     "name": "stdout",
     "output_type": "stream",
     "text": [
      "  (67) Sum => 874992 ; Access Time => 0.7 seconds\n"
     ]
    },
    {
     "name": "stderr",
     "output_type": "stream",
     "text": [
      "[sudo] password for carloscrg19: "
     ]
    },
    {
     "name": "stdout",
     "output_type": "stream",
     "text": [
      "  (68) Sum => 878202 ; Access Time => 0.726 seconds\n"
     ]
    },
    {
     "name": "stderr",
     "output_type": "stream",
     "text": [
      "[sudo] password for carloscrg19: "
     ]
    },
    {
     "name": "stdout",
     "output_type": "stream",
     "text": [
      "  (69) Sum => 882919 ; Access Time => 0.705 seconds\n"
     ]
    },
    {
     "name": "stderr",
     "output_type": "stream",
     "text": [
      "[sudo] password for carloscrg19: "
     ]
    },
    {
     "name": "stdout",
     "output_type": "stream",
     "text": [
      "  (70) Sum => 883504 ; Access Time => 0.738 seconds\n"
     ]
    },
    {
     "name": "stderr",
     "output_type": "stream",
     "text": [
      "[sudo] password for carloscrg19: "
     ]
    },
    {
     "name": "stdout",
     "output_type": "stream",
     "text": [
      "  (71) Sum => 882083 ; Access Time => 0.706 seconds\n"
     ]
    },
    {
     "name": "stderr",
     "output_type": "stream",
     "text": [
      "[sudo] password for carloscrg19: "
     ]
    },
    {
     "name": "stdout",
     "output_type": "stream",
     "text": [
      "  (72) Sum => 877911 ; Access Time => 0.704 seconds\n"
     ]
    },
    {
     "name": "stderr",
     "output_type": "stream",
     "text": [
      "[sudo] password for carloscrg19: "
     ]
    },
    {
     "name": "stdout",
     "output_type": "stream",
     "text": [
      "  (73) Sum => 879443 ; Access Time => 0.737 seconds\n"
     ]
    },
    {
     "name": "stderr",
     "output_type": "stream",
     "text": [
      "[sudo] password for carloscrg19: "
     ]
    },
    {
     "name": "stdout",
     "output_type": "stream",
     "text": [
      "  (74) Sum => 881430 ; Access Time => 0.703 seconds\n"
     ]
    },
    {
     "name": "stderr",
     "output_type": "stream",
     "text": [
      "[sudo] password for carloscrg19: "
     ]
    },
    {
     "name": "stdout",
     "output_type": "stream",
     "text": [
      "  (75) Sum => 880029 ; Access Time => 0.723 seconds\n"
     ]
    },
    {
     "name": "stderr",
     "output_type": "stream",
     "text": [
      "[sudo] password for carloscrg19: "
     ]
    },
    {
     "name": "stdout",
     "output_type": "stream",
     "text": [
      "  (76) Sum => 875563 ; Access Time => 0.717 seconds\n"
     ]
    },
    {
     "name": "stderr",
     "output_type": "stream",
     "text": [
      "[sudo] password for carloscrg19: "
     ]
    },
    {
     "name": "stdout",
     "output_type": "stream",
     "text": [
      "  (77) Sum => 879459 ; Access Time => 0.732 seconds\n"
     ]
    },
    {
     "name": "stderr",
     "output_type": "stream",
     "text": [
      "[sudo] password for carloscrg19: "
     ]
    },
    {
     "name": "stdout",
     "output_type": "stream",
     "text": [
      "  (78) Sum => 880000 ; Access Time => 0.719 seconds\n"
     ]
    },
    {
     "name": "stderr",
     "output_type": "stream",
     "text": [
      "[sudo] password for carloscrg19: "
     ]
    },
    {
     "name": "stdout",
     "output_type": "stream",
     "text": [
      "  (79) Sum => 884868 ; Access Time => 0.716 seconds\n"
     ]
    },
    {
     "name": "stderr",
     "output_type": "stream",
     "text": [
      "[sudo] password for carloscrg19: "
     ]
    },
    {
     "name": "stdout",
     "output_type": "stream",
     "text": [
      "  (80) Sum => 880586 ; Access Time => 0.699 seconds\n"
     ]
    },
    {
     "name": "stderr",
     "output_type": "stream",
     "text": [
      "[sudo] password for carloscrg19: "
     ]
    },
    {
     "name": "stdout",
     "output_type": "stream",
     "text": [
      "  (81) Sum => 879638 ; Access Time => 0.759 seconds\n"
     ]
    },
    {
     "name": "stderr",
     "output_type": "stream",
     "text": [
      "[sudo] password for carloscrg19: "
     ]
    },
    {
     "name": "stdout",
     "output_type": "stream",
     "text": [
      "  (82) Sum => 883033 ; Access Time => 0.71 seconds\n"
     ]
    },
    {
     "name": "stderr",
     "output_type": "stream",
     "text": [
      "[sudo] password for carloscrg19: "
     ]
    },
    {
     "name": "stdout",
     "output_type": "stream",
     "text": [
      "  (83) Sum => 883287 ; Access Time => 0.746 seconds\n"
     ]
    },
    {
     "name": "stderr",
     "output_type": "stream",
     "text": [
      "[sudo] password for carloscrg19: "
     ]
    },
    {
     "name": "stdout",
     "output_type": "stream",
     "text": [
      "  (84) Sum => 878711 ; Access Time => 0.719 seconds\n"
     ]
    },
    {
     "name": "stderr",
     "output_type": "stream",
     "text": [
      "[sudo] password for carloscrg19: "
     ]
    },
    {
     "name": "stdout",
     "output_type": "stream",
     "text": [
      "  (85) Sum => 877294 ; Access Time => 0.71 seconds\n"
     ]
    },
    {
     "name": "stderr",
     "output_type": "stream",
     "text": [
      "[sudo] password for carloscrg19: "
     ]
    },
    {
     "name": "stdout",
     "output_type": "stream",
     "text": [
      "  (86) Sum => 884438 ; Access Time => 0.748 seconds\n"
     ]
    },
    {
     "name": "stderr",
     "output_type": "stream",
     "text": [
      "[sudo] password for carloscrg19: "
     ]
    },
    {
     "name": "stdout",
     "output_type": "stream",
     "text": [
      "  (87) Sum => 885536 ; Access Time => 0.733 seconds\n"
     ]
    },
    {
     "name": "stderr",
     "output_type": "stream",
     "text": [
      "[sudo] password for carloscrg19: "
     ]
    },
    {
     "name": "stdout",
     "output_type": "stream",
     "text": [
      "  (88) Sum => 876025 ; Access Time => 0.77 seconds\n"
     ]
    },
    {
     "name": "stderr",
     "output_type": "stream",
     "text": [
      "[sudo] password for carloscrg19: "
     ]
    },
    {
     "name": "stdout",
     "output_type": "stream",
     "text": [
      "  (89) Sum => 877273 ; Access Time => 0.744 seconds\n"
     ]
    },
    {
     "name": "stderr",
     "output_type": "stream",
     "text": [
      "[sudo] password for carloscrg19: "
     ]
    },
    {
     "name": "stdout",
     "output_type": "stream",
     "text": [
      "  (90) Sum => 886376 ; Access Time => 0.713 seconds\n"
     ]
    },
    {
     "name": "stderr",
     "output_type": "stream",
     "text": [
      "[sudo] password for carloscrg19: "
     ]
    },
    {
     "name": "stdout",
     "output_type": "stream",
     "text": [
      "  (91) Sum => 884462 ; Access Time => 0.733 seconds\n"
     ]
    },
    {
     "name": "stderr",
     "output_type": "stream",
     "text": [
      "[sudo] password for carloscrg19: "
     ]
    },
    {
     "name": "stdout",
     "output_type": "stream",
     "text": [
      "  (92) Sum => 878782 ; Access Time => 0.741 seconds\n"
     ]
    },
    {
     "name": "stderr",
     "output_type": "stream",
     "text": [
      "[sudo] password for carloscrg19: "
     ]
    },
    {
     "name": "stdout",
     "output_type": "stream",
     "text": [
      "  (93) Sum => 882029 ; Access Time => 0.71 seconds\n"
     ]
    },
    {
     "name": "stderr",
     "output_type": "stream",
     "text": [
      "[sudo] password for carloscrg19: "
     ]
    },
    {
     "name": "stdout",
     "output_type": "stream",
     "text": [
      "  (94) Sum => 882758 ; Access Time => 0.679 seconds\n"
     ]
    },
    {
     "name": "stderr",
     "output_type": "stream",
     "text": [
      "[sudo] password for carloscrg19: "
     ]
    },
    {
     "name": "stdout",
     "output_type": "stream",
     "text": [
      "  (95) Sum => 881461 ; Access Time => 0.684 seconds\n"
     ]
    },
    {
     "name": "stderr",
     "output_type": "stream",
     "text": [
      "[sudo] password for carloscrg19: "
     ]
    },
    {
     "name": "stdout",
     "output_type": "stream",
     "text": [
      "  (96) Sum => 880927 ; Access Time => 0.695 seconds\n"
     ]
    },
    {
     "name": "stderr",
     "output_type": "stream",
     "text": [
      "[sudo] password for carloscrg19: "
     ]
    },
    {
     "name": "stdout",
     "output_type": "stream",
     "text": [
      "  (97) Sum => 880460 ; Access Time => 0.733 seconds\n"
     ]
    },
    {
     "name": "stderr",
     "output_type": "stream",
     "text": [
      "[sudo] password for carloscrg19: "
     ]
    },
    {
     "name": "stdout",
     "output_type": "stream",
     "text": [
      "  (98) Sum => 877499 ; Access Time => 0.727 seconds\n"
     ]
    },
    {
     "name": "stderr",
     "output_type": "stream",
     "text": [
      "[sudo] password for carloscrg19: "
     ]
    },
    {
     "name": "stdout",
     "output_type": "stream",
     "text": [
      "  (99) Sum => 883472 ; Access Time => 0.759 seconds\n"
     ]
    },
    {
     "name": "stderr",
     "output_type": "stream",
     "text": [
      "[sudo] password for carloscrg19: "
     ]
    },
    {
     "name": "stdout",
     "output_type": "stream",
     "text": [
      "  (100) Sum => 883219 ; Access Time => 0.733 seconds\n"
     ]
    },
    {
     "name": "stderr",
     "output_type": "stream",
     "text": [
      "[sudo] password for carloscrg19: [sudo] password for carloscrg19: "
     ]
    },
    {
     "name": "stdout",
     "output_type": "stream",
     "text": [
      "Block size => 16K:\n"
     ]
    },
    {
     "name": "stderr",
     "output_type": "stream",
     "text": [
      "[sudo] password for carloscrg19: "
     ]
    },
    {
     "name": "stdout",
     "output_type": "stream",
     "text": [
      "  (1) Sum => 881009 ; Access Time => 0.685 seconds\n"
     ]
    },
    {
     "name": "stderr",
     "output_type": "stream",
     "text": [
      "[sudo] password for carloscrg19: "
     ]
    },
    {
     "name": "stdout",
     "output_type": "stream",
     "text": [
      "  (2) Sum => 882450 ; Access Time => 0.843 seconds\n"
     ]
    },
    {
     "name": "stderr",
     "output_type": "stream",
     "text": [
      "[sudo] password for carloscrg19: "
     ]
    },
    {
     "name": "stdout",
     "output_type": "stream",
     "text": [
      "  (3) Sum => 881389 ; Access Time => 0.865 seconds\n"
     ]
    },
    {
     "name": "stderr",
     "output_type": "stream",
     "text": [
      "[sudo] password for carloscrg19: "
     ]
    },
    {
     "name": "stdout",
     "output_type": "stream",
     "text": [
      "  (4) Sum => 882381 ; Access Time => 0.872 seconds\n"
     ]
    },
    {
     "name": "stderr",
     "output_type": "stream",
     "text": [
      "[sudo] password for carloscrg19: "
     ]
    },
    {
     "name": "stdout",
     "output_type": "stream",
     "text": [
      "  (5) Sum => 881907 ; Access Time => 0.838 seconds\n"
     ]
    },
    {
     "name": "stderr",
     "output_type": "stream",
     "text": [
      "[sudo] password for carloscrg19: "
     ]
    },
    {
     "name": "stdout",
     "output_type": "stream",
     "text": [
      "  (6) Sum => 887973 ; Access Time => 0.859 seconds\n"
     ]
    },
    {
     "name": "stderr",
     "output_type": "stream",
     "text": [
      "[sudo] password for carloscrg19: "
     ]
    },
    {
     "name": "stdout",
     "output_type": "stream",
     "text": [
      "  (7) Sum => 882319 ; Access Time => 0.923 seconds\n"
     ]
    },
    {
     "name": "stderr",
     "output_type": "stream",
     "text": [
      "[sudo] password for carloscrg19: "
     ]
    },
    {
     "name": "stdout",
     "output_type": "stream",
     "text": [
      "  (8) Sum => 882283 ; Access Time => 0.837 seconds\n"
     ]
    },
    {
     "name": "stderr",
     "output_type": "stream",
     "text": [
      "[sudo] password for carloscrg19: "
     ]
    },
    {
     "name": "stdout",
     "output_type": "stream",
     "text": [
      "  (9) Sum => 886572 ; Access Time => 0.878 seconds\n"
     ]
    },
    {
     "name": "stderr",
     "output_type": "stream",
     "text": [
      "[sudo] password for carloscrg19: "
     ]
    },
    {
     "name": "stdout",
     "output_type": "stream",
     "text": [
      "  (10) Sum => 873616 ; Access Time => 0.878 seconds\n"
     ]
    },
    {
     "name": "stderr",
     "output_type": "stream",
     "text": [
      "[sudo] password for carloscrg19: "
     ]
    },
    {
     "name": "stdout",
     "output_type": "stream",
     "text": [
      "  (11) Sum => 881464 ; Access Time => 0.889 seconds\n"
     ]
    },
    {
     "name": "stderr",
     "output_type": "stream",
     "text": [
      "[sudo] password for carloscrg19: "
     ]
    },
    {
     "name": "stdout",
     "output_type": "stream",
     "text": [
      "  (12) Sum => 878293 ; Access Time => 0.872 seconds\n"
     ]
    },
    {
     "name": "stderr",
     "output_type": "stream",
     "text": [
      "[sudo] password for carloscrg19: "
     ]
    },
    {
     "name": "stdout",
     "output_type": "stream",
     "text": [
      "  (13) Sum => 883999 ; Access Time => 0.821 seconds\n"
     ]
    },
    {
     "name": "stderr",
     "output_type": "stream",
     "text": [
      "[sudo] password for carloscrg19: "
     ]
    },
    {
     "name": "stdout",
     "output_type": "stream",
     "text": [
      "  (14) Sum => 885519 ; Access Time => 0.809 seconds\n"
     ]
    },
    {
     "name": "stderr",
     "output_type": "stream",
     "text": [
      "[sudo] password for carloscrg19: "
     ]
    },
    {
     "name": "stdout",
     "output_type": "stream",
     "text": [
      "  (15) Sum => 883108 ; Access Time => 0.834 seconds\n"
     ]
    },
    {
     "name": "stderr",
     "output_type": "stream",
     "text": [
      "[sudo] password for carloscrg19: "
     ]
    },
    {
     "name": "stdout",
     "output_type": "stream",
     "text": [
      "  (16) Sum => 877613 ; Access Time => 0.815 seconds\n"
     ]
    },
    {
     "name": "stderr",
     "output_type": "stream",
     "text": [
      "[sudo] password for carloscrg19: "
     ]
    },
    {
     "name": "stdout",
     "output_type": "stream",
     "text": [
      "  (17) Sum => 884107 ; Access Time => 0.866 seconds\n"
     ]
    },
    {
     "name": "stderr",
     "output_type": "stream",
     "text": [
      "[sudo] password for carloscrg19: "
     ]
    },
    {
     "name": "stdout",
     "output_type": "stream",
     "text": [
      "  (18) Sum => 884452 ; Access Time => 0.874 seconds\n"
     ]
    },
    {
     "name": "stderr",
     "output_type": "stream",
     "text": [
      "[sudo] password for carloscrg19: "
     ]
    },
    {
     "name": "stdout",
     "output_type": "stream",
     "text": [
      "  (19) Sum => 882595 ; Access Time => 0.828 seconds\n"
     ]
    },
    {
     "name": "stderr",
     "output_type": "stream",
     "text": [
      "[sudo] password for carloscrg19: "
     ]
    },
    {
     "name": "stdout",
     "output_type": "stream",
     "text": [
      "  (20) Sum => 882489 ; Access Time => 0.877 seconds\n"
     ]
    },
    {
     "name": "stderr",
     "output_type": "stream",
     "text": [
      "[sudo] password for carloscrg19: "
     ]
    },
    {
     "name": "stdout",
     "output_type": "stream",
     "text": [
      "  (21) Sum => 880589 ; Access Time => 0.863 seconds\n"
     ]
    },
    {
     "name": "stderr",
     "output_type": "stream",
     "text": [
      "[sudo] password for carloscrg19: "
     ]
    },
    {
     "name": "stdout",
     "output_type": "stream",
     "text": [
      "  (22) Sum => 874922 ; Access Time => 0.844 seconds\n"
     ]
    },
    {
     "name": "stderr",
     "output_type": "stream",
     "text": [
      "[sudo] password for carloscrg19: "
     ]
    },
    {
     "name": "stdout",
     "output_type": "stream",
     "text": [
      "  (23) Sum => 878737 ; Access Time => 0.884 seconds\n"
     ]
    },
    {
     "name": "stderr",
     "output_type": "stream",
     "text": [
      "[sudo] password for carloscrg19: "
     ]
    },
    {
     "name": "stdout",
     "output_type": "stream",
     "text": [
      "  (24) Sum => 882483 ; Access Time => 0.835 seconds\n"
     ]
    },
    {
     "name": "stderr",
     "output_type": "stream",
     "text": [
      "[sudo] password for carloscrg19: "
     ]
    },
    {
     "name": "stdout",
     "output_type": "stream",
     "text": [
      "  (25) Sum => 884621 ; Access Time => 0.835 seconds\n"
     ]
    },
    {
     "name": "stderr",
     "output_type": "stream",
     "text": [
      "[sudo] password for carloscrg19: "
     ]
    },
    {
     "name": "stdout",
     "output_type": "stream",
     "text": [
      "  (26) Sum => 882677 ; Access Time => 0.875 seconds\n"
     ]
    },
    {
     "name": "stderr",
     "output_type": "stream",
     "text": [
      "[sudo] password for carloscrg19: "
     ]
    },
    {
     "name": "stdout",
     "output_type": "stream",
     "text": [
      "  (27) Sum => 883283 ; Access Time => 0.867 seconds\n"
     ]
    },
    {
     "name": "stderr",
     "output_type": "stream",
     "text": [
      "[sudo] password for carloscrg19: "
     ]
    },
    {
     "name": "stdout",
     "output_type": "stream",
     "text": [
      "  (28) Sum => 884498 ; Access Time => 0.856 seconds\n"
     ]
    },
    {
     "name": "stderr",
     "output_type": "stream",
     "text": [
      "[sudo] password for carloscrg19: "
     ]
    },
    {
     "name": "stdout",
     "output_type": "stream",
     "text": [
      "  (29) Sum => 882289 ; Access Time => 0.87 seconds\n"
     ]
    },
    {
     "name": "stderr",
     "output_type": "stream",
     "text": [
      "[sudo] password for carloscrg19: "
     ]
    },
    {
     "name": "stdout",
     "output_type": "stream",
     "text": [
      "  (30) Sum => 871242 ; Access Time => 0.847 seconds\n"
     ]
    },
    {
     "name": "stderr",
     "output_type": "stream",
     "text": [
      "[sudo] password for carloscrg19: "
     ]
    },
    {
     "name": "stdout",
     "output_type": "stream",
     "text": [
      "  (31) Sum => 881690 ; Access Time => 0.857 seconds\n"
     ]
    },
    {
     "name": "stderr",
     "output_type": "stream",
     "text": [
      "[sudo] password for carloscrg19: "
     ]
    },
    {
     "name": "stdout",
     "output_type": "stream",
     "text": [
      "  (32) Sum => 881734 ; Access Time => 0.827 seconds\n"
     ]
    },
    {
     "name": "stderr",
     "output_type": "stream",
     "text": [
      "[sudo] password for carloscrg19: "
     ]
    },
    {
     "name": "stdout",
     "output_type": "stream",
     "text": [
      "  (33) Sum => 885439 ; Access Time => 0.84 seconds\n"
     ]
    },
    {
     "name": "stderr",
     "output_type": "stream",
     "text": [
      "[sudo] password for carloscrg19: "
     ]
    },
    {
     "name": "stdout",
     "output_type": "stream",
     "text": [
      "  (34) Sum => 879164 ; Access Time => 0.85 seconds\n"
     ]
    },
    {
     "name": "stderr",
     "output_type": "stream",
     "text": [
      "[sudo] password for carloscrg19: "
     ]
    },
    {
     "name": "stdout",
     "output_type": "stream",
     "text": [
      "  (35) Sum => 880717 ; Access Time => 0.91 seconds\n"
     ]
    },
    {
     "name": "stderr",
     "output_type": "stream",
     "text": [
      "[sudo] password for carloscrg19: "
     ]
    },
    {
     "name": "stdout",
     "output_type": "stream",
     "text": [
      "  (36) Sum => 878335 ; Access Time => 0.86 seconds\n"
     ]
    },
    {
     "name": "stderr",
     "output_type": "stream",
     "text": [
      "[sudo] password for carloscrg19: "
     ]
    },
    {
     "name": "stdout",
     "output_type": "stream",
     "text": [
      "  (37) Sum => 873154 ; Access Time => 0.85 seconds\n"
     ]
    },
    {
     "name": "stderr",
     "output_type": "stream",
     "text": [
      "[sudo] password for carloscrg19: "
     ]
    },
    {
     "name": "stdout",
     "output_type": "stream",
     "text": [
      "  (38) Sum => 879193 ; Access Time => 0.858 seconds\n"
     ]
    },
    {
     "name": "stderr",
     "output_type": "stream",
     "text": [
      "[sudo] password for carloscrg19: "
     ]
    },
    {
     "name": "stdout",
     "output_type": "stream",
     "text": [
      "  (39) Sum => 884035 ; Access Time => 0.841 seconds\n"
     ]
    },
    {
     "name": "stderr",
     "output_type": "stream",
     "text": [
      "[sudo] password for carloscrg19: "
     ]
    },
    {
     "name": "stdout",
     "output_type": "stream",
     "text": [
      "  (40) Sum => 877591 ; Access Time => 0.834 seconds\n"
     ]
    },
    {
     "name": "stderr",
     "output_type": "stream",
     "text": [
      "[sudo] password for carloscrg19: "
     ]
    },
    {
     "name": "stdout",
     "output_type": "stream",
     "text": [
      "  (41) Sum => 883916 ; Access Time => 0.874 seconds\n"
     ]
    },
    {
     "name": "stderr",
     "output_type": "stream",
     "text": [
      "[sudo] password for carloscrg19: "
     ]
    },
    {
     "name": "stdout",
     "output_type": "stream",
     "text": [
      "  (42) Sum => 881009 ; Access Time => 0.87 seconds\n"
     ]
    },
    {
     "name": "stderr",
     "output_type": "stream",
     "text": [
      "[sudo] password for carloscrg19: "
     ]
    },
    {
     "name": "stdout",
     "output_type": "stream",
     "text": [
      "  (43) Sum => 880853 ; Access Time => 0.855 seconds\n"
     ]
    },
    {
     "name": "stderr",
     "output_type": "stream",
     "text": [
      "[sudo] password for carloscrg19: "
     ]
    },
    {
     "name": "stdout",
     "output_type": "stream",
     "text": [
      "  (44) Sum => 875575 ; Access Time => 0.899 seconds\n"
     ]
    },
    {
     "name": "stderr",
     "output_type": "stream",
     "text": [
      "[sudo] password for carloscrg19: "
     ]
    },
    {
     "name": "stdout",
     "output_type": "stream",
     "text": [
      "  (45) Sum => 882040 ; Access Time => 0.86 seconds\n"
     ]
    },
    {
     "name": "stderr",
     "output_type": "stream",
     "text": [
      "[sudo] password for carloscrg19: "
     ]
    },
    {
     "name": "stdout",
     "output_type": "stream",
     "text": [
      "  (46) Sum => 881661 ; Access Time => 0.918 seconds\n"
     ]
    },
    {
     "name": "stderr",
     "output_type": "stream",
     "text": [
      "[sudo] password for carloscrg19: "
     ]
    },
    {
     "name": "stdout",
     "output_type": "stream",
     "text": [
      "  (47) Sum => 884328 ; Access Time => 0.859 seconds\n"
     ]
    },
    {
     "name": "stderr",
     "output_type": "stream",
     "text": [
      "[sudo] password for carloscrg19: "
     ]
    },
    {
     "name": "stdout",
     "output_type": "stream",
     "text": [
      "  (48) Sum => 883289 ; Access Time => 0.845 seconds\n"
     ]
    },
    {
     "name": "stderr",
     "output_type": "stream",
     "text": [
      "[sudo] password for carloscrg19: "
     ]
    },
    {
     "name": "stdout",
     "output_type": "stream",
     "text": [
      "  (49) Sum => 879453 ; Access Time => 0.866 seconds\n"
     ]
    },
    {
     "name": "stderr",
     "output_type": "stream",
     "text": [
      "[sudo] password for carloscrg19: "
     ]
    },
    {
     "name": "stdout",
     "output_type": "stream",
     "text": [
      "  (50) Sum => 879768 ; Access Time => 0.861 seconds\n"
     ]
    },
    {
     "name": "stderr",
     "output_type": "stream",
     "text": [
      "[sudo] password for carloscrg19: "
     ]
    },
    {
     "name": "stdout",
     "output_type": "stream",
     "text": [
      "  (51) Sum => 881314 ; Access Time => 0.872 seconds\n"
     ]
    },
    {
     "name": "stderr",
     "output_type": "stream",
     "text": [
      "[sudo] password for carloscrg19: "
     ]
    },
    {
     "name": "stdout",
     "output_type": "stream",
     "text": [
      "  (52) Sum => 881124 ; Access Time => 0.81 seconds\n"
     ]
    },
    {
     "name": "stderr",
     "output_type": "stream",
     "text": [
      "[sudo] password for carloscrg19: "
     ]
    },
    {
     "name": "stdout",
     "output_type": "stream",
     "text": [
      "  (53) Sum => 881310 ; Access Time => 0.897 seconds\n"
     ]
    },
    {
     "name": "stderr",
     "output_type": "stream",
     "text": [
      "[sudo] password for carloscrg19: "
     ]
    },
    {
     "name": "stdout",
     "output_type": "stream",
     "text": [
      "  (54) Sum => 879402 ; Access Time => 0.839 seconds\n"
     ]
    },
    {
     "name": "stderr",
     "output_type": "stream",
     "text": [
      "[sudo] password for carloscrg19: "
     ]
    },
    {
     "name": "stdout",
     "output_type": "stream",
     "text": [
      "  (55) Sum => 877691 ; Access Time => 0.879 seconds\n"
     ]
    },
    {
     "name": "stderr",
     "output_type": "stream",
     "text": [
      "[sudo] password for carloscrg19: "
     ]
    },
    {
     "name": "stdout",
     "output_type": "stream",
     "text": [
      "  (56) Sum => 876618 ; Access Time => 0.845 seconds\n"
     ]
    },
    {
     "name": "stderr",
     "output_type": "stream",
     "text": [
      "[sudo] password for carloscrg19: "
     ]
    },
    {
     "name": "stdout",
     "output_type": "stream",
     "text": [
      "  (57) Sum => 883312 ; Access Time => 0.853 seconds\n"
     ]
    },
    {
     "name": "stderr",
     "output_type": "stream",
     "text": [
      "[sudo] password for carloscrg19: "
     ]
    },
    {
     "name": "stdout",
     "output_type": "stream",
     "text": [
      "  (58) Sum => 874701 ; Access Time => 0.844 seconds\n"
     ]
    },
    {
     "name": "stderr",
     "output_type": "stream",
     "text": [
      "[sudo] password for carloscrg19: "
     ]
    },
    {
     "name": "stdout",
     "output_type": "stream",
     "text": [
      "  (59) Sum => 881464 ; Access Time => 0.821 seconds\n"
     ]
    },
    {
     "name": "stderr",
     "output_type": "stream",
     "text": [
      "[sudo] password for carloscrg19: "
     ]
    },
    {
     "name": "stdout",
     "output_type": "stream",
     "text": [
      "  (60) Sum => 882510 ; Access Time => 0.86 seconds\n"
     ]
    },
    {
     "name": "stderr",
     "output_type": "stream",
     "text": [
      "[sudo] password for carloscrg19: "
     ]
    },
    {
     "name": "stdout",
     "output_type": "stream",
     "text": [
      "  (61) Sum => 879999 ; Access Time => 0.872 seconds\n"
     ]
    },
    {
     "name": "stderr",
     "output_type": "stream",
     "text": [
      "[sudo] password for carloscrg19: "
     ]
    },
    {
     "name": "stdout",
     "output_type": "stream",
     "text": [
      "  (62) Sum => 884621 ; Access Time => 0.854 seconds\n"
     ]
    },
    {
     "name": "stderr",
     "output_type": "stream",
     "text": [
      "[sudo] password for carloscrg19: "
     ]
    },
    {
     "name": "stdout",
     "output_type": "stream",
     "text": [
      "  (63) Sum => 882489 ; Access Time => 0.895 seconds\n"
     ]
    },
    {
     "name": "stderr",
     "output_type": "stream",
     "text": [
      "[sudo] password for carloscrg19: "
     ]
    },
    {
     "name": "stdout",
     "output_type": "stream",
     "text": [
      "  (64) Sum => 878117 ; Access Time => 0.813 seconds\n"
     ]
    },
    {
     "name": "stderr",
     "output_type": "stream",
     "text": [
      "[sudo] password for carloscrg19: "
     ]
    },
    {
     "name": "stdout",
     "output_type": "stream",
     "text": [
      "  (65) Sum => 878990 ; Access Time => 0.866 seconds\n"
     ]
    },
    {
     "name": "stderr",
     "output_type": "stream",
     "text": [
      "[sudo] password for carloscrg19: "
     ]
    },
    {
     "name": "stdout",
     "output_type": "stream",
     "text": [
      "  (66) Sum => 886088 ; Access Time => 0.852 seconds\n"
     ]
    },
    {
     "name": "stderr",
     "output_type": "stream",
     "text": [
      "[sudo] password for carloscrg19: "
     ]
    },
    {
     "name": "stdout",
     "output_type": "stream",
     "text": [
      "  (67) Sum => 874992 ; Access Time => 0.831 seconds\n"
     ]
    },
    {
     "name": "stderr",
     "output_type": "stream",
     "text": [
      "[sudo] password for carloscrg19: "
     ]
    },
    {
     "name": "stdout",
     "output_type": "stream",
     "text": [
      "  (68) Sum => 878202 ; Access Time => 0.847 seconds\n"
     ]
    },
    {
     "name": "stderr",
     "output_type": "stream",
     "text": [
      "[sudo] password for carloscrg19: "
     ]
    },
    {
     "name": "stdout",
     "output_type": "stream",
     "text": [
      "  (69) Sum => 882919 ; Access Time => 0.85 seconds\n"
     ]
    },
    {
     "name": "stderr",
     "output_type": "stream",
     "text": [
      "[sudo] password for carloscrg19: "
     ]
    },
    {
     "name": "stdout",
     "output_type": "stream",
     "text": [
      "  (70) Sum => 883504 ; Access Time => 0.87 seconds\n"
     ]
    },
    {
     "name": "stderr",
     "output_type": "stream",
     "text": [
      "[sudo] password for carloscrg19: "
     ]
    },
    {
     "name": "stdout",
     "output_type": "stream",
     "text": [
      "  (71) Sum => 882083 ; Access Time => 0.815 seconds\n"
     ]
    },
    {
     "name": "stderr",
     "output_type": "stream",
     "text": [
      "[sudo] password for carloscrg19: "
     ]
    },
    {
     "name": "stdout",
     "output_type": "stream",
     "text": [
      "  (72) Sum => 877911 ; Access Time => 0.85 seconds\n"
     ]
    },
    {
     "name": "stderr",
     "output_type": "stream",
     "text": [
      "[sudo] password for carloscrg19: "
     ]
    },
    {
     "name": "stdout",
     "output_type": "stream",
     "text": [
      "  (73) Sum => 879443 ; Access Time => 0.857 seconds\n"
     ]
    },
    {
     "name": "stderr",
     "output_type": "stream",
     "text": [
      "[sudo] password for carloscrg19: "
     ]
    },
    {
     "name": "stdout",
     "output_type": "stream",
     "text": [
      "  (74) Sum => 881430 ; Access Time => 0.864 seconds\n"
     ]
    },
    {
     "name": "stderr",
     "output_type": "stream",
     "text": [
      "[sudo] password for carloscrg19: "
     ]
    },
    {
     "name": "stdout",
     "output_type": "stream",
     "text": [
      "  (75) Sum => 880029 ; Access Time => 0.856 seconds\n"
     ]
    },
    {
     "name": "stderr",
     "output_type": "stream",
     "text": [
      "[sudo] password for carloscrg19: "
     ]
    },
    {
     "name": "stdout",
     "output_type": "stream",
     "text": [
      "  (76) Sum => 875563 ; Access Time => 0.852 seconds\n"
     ]
    },
    {
     "name": "stderr",
     "output_type": "stream",
     "text": [
      "[sudo] password for carloscrg19: "
     ]
    },
    {
     "name": "stdout",
     "output_type": "stream",
     "text": [
      "  (77) Sum => 879459 ; Access Time => 0.805 seconds\n"
     ]
    },
    {
     "name": "stderr",
     "output_type": "stream",
     "text": [
      "[sudo] password for carloscrg19: "
     ]
    },
    {
     "name": "stdout",
     "output_type": "stream",
     "text": [
      "  (78) Sum => 880000 ; Access Time => 0.889 seconds\n"
     ]
    },
    {
     "name": "stderr",
     "output_type": "stream",
     "text": [
      "[sudo] password for carloscrg19: "
     ]
    },
    {
     "name": "stdout",
     "output_type": "stream",
     "text": [
      "  (79) Sum => 884868 ; Access Time => 0.845 seconds\n"
     ]
    },
    {
     "name": "stderr",
     "output_type": "stream",
     "text": [
      "[sudo] password for carloscrg19: "
     ]
    },
    {
     "name": "stdout",
     "output_type": "stream",
     "text": [
      "  (80) Sum => 880586 ; Access Time => 0.857 seconds\n"
     ]
    },
    {
     "name": "stderr",
     "output_type": "stream",
     "text": [
      "[sudo] password for carloscrg19: "
     ]
    },
    {
     "name": "stdout",
     "output_type": "stream",
     "text": [
      "  (81) Sum => 879638 ; Access Time => 0.817 seconds\n"
     ]
    },
    {
     "name": "stderr",
     "output_type": "stream",
     "text": [
      "[sudo] password for carloscrg19: "
     ]
    },
    {
     "name": "stdout",
     "output_type": "stream",
     "text": [
      "  (82) Sum => 883033 ; Access Time => 0.843 seconds\n"
     ]
    },
    {
     "name": "stderr",
     "output_type": "stream",
     "text": [
      "[sudo] password for carloscrg19: "
     ]
    },
    {
     "name": "stdout",
     "output_type": "stream",
     "text": [
      "  (83) Sum => 883287 ; Access Time => 0.858 seconds\n"
     ]
    },
    {
     "name": "stderr",
     "output_type": "stream",
     "text": [
      "[sudo] password for carloscrg19: "
     ]
    },
    {
     "name": "stdout",
     "output_type": "stream",
     "text": [
      "  (84) Sum => 878711 ; Access Time => 0.892 seconds\n"
     ]
    },
    {
     "name": "stderr",
     "output_type": "stream",
     "text": [
      "[sudo] password for carloscrg19: "
     ]
    },
    {
     "name": "stdout",
     "output_type": "stream",
     "text": [
      "  (85) Sum => 877294 ; Access Time => 0.839 seconds\n"
     ]
    },
    {
     "name": "stderr",
     "output_type": "stream",
     "text": [
      "[sudo] password for carloscrg19: "
     ]
    },
    {
     "name": "stdout",
     "output_type": "stream",
     "text": [
      "  (86) Sum => 884438 ; Access Time => 0.835 seconds\n"
     ]
    },
    {
     "name": "stderr",
     "output_type": "stream",
     "text": [
      "[sudo] password for carloscrg19: "
     ]
    },
    {
     "name": "stdout",
     "output_type": "stream",
     "text": [
      "  (87) Sum => 885536 ; Access Time => 0.86 seconds\n"
     ]
    },
    {
     "name": "stderr",
     "output_type": "stream",
     "text": [
      "[sudo] password for carloscrg19: "
     ]
    },
    {
     "name": "stdout",
     "output_type": "stream",
     "text": [
      "  (88) Sum => 876025 ; Access Time => 0.831 seconds\n"
     ]
    },
    {
     "name": "stderr",
     "output_type": "stream",
     "text": [
      "[sudo] password for carloscrg19: "
     ]
    },
    {
     "name": "stdout",
     "output_type": "stream",
     "text": [
      "  (89) Sum => 877273 ; Access Time => 0.882 seconds\n"
     ]
    },
    {
     "name": "stderr",
     "output_type": "stream",
     "text": [
      "[sudo] password for carloscrg19: "
     ]
    },
    {
     "name": "stdout",
     "output_type": "stream",
     "text": [
      "  (90) Sum => 886376 ; Access Time => 0.863 seconds\n"
     ]
    },
    {
     "name": "stderr",
     "output_type": "stream",
     "text": [
      "[sudo] password for carloscrg19: "
     ]
    },
    {
     "name": "stdout",
     "output_type": "stream",
     "text": [
      "  (91) Sum => 884462 ; Access Time => 0.889 seconds\n"
     ]
    },
    {
     "name": "stderr",
     "output_type": "stream",
     "text": [
      "[sudo] password for carloscrg19: "
     ]
    },
    {
     "name": "stdout",
     "output_type": "stream",
     "text": [
      "  (92) Sum => 878782 ; Access Time => 0.846 seconds\n"
     ]
    },
    {
     "name": "stderr",
     "output_type": "stream",
     "text": [
      "[sudo] password for carloscrg19: "
     ]
    },
    {
     "name": "stdout",
     "output_type": "stream",
     "text": [
      "  (93) Sum => 882029 ; Access Time => 0.862 seconds\n"
     ]
    },
    {
     "name": "stderr",
     "output_type": "stream",
     "text": [
      "[sudo] password for carloscrg19: "
     ]
    },
    {
     "name": "stdout",
     "output_type": "stream",
     "text": [
      "  (94) Sum => 882758 ; Access Time => 0.854 seconds\n"
     ]
    },
    {
     "name": "stderr",
     "output_type": "stream",
     "text": [
      "[sudo] password for carloscrg19: "
     ]
    },
    {
     "name": "stdout",
     "output_type": "stream",
     "text": [
      "  (95) Sum => 881461 ; Access Time => 0.85 seconds\n"
     ]
    },
    {
     "name": "stderr",
     "output_type": "stream",
     "text": [
      "[sudo] password for carloscrg19: "
     ]
    },
    {
     "name": "stdout",
     "output_type": "stream",
     "text": [
      "  (96) Sum => 880927 ; Access Time => 0.861 seconds\n"
     ]
    },
    {
     "name": "stderr",
     "output_type": "stream",
     "text": [
      "[sudo] password for carloscrg19: "
     ]
    },
    {
     "name": "stdout",
     "output_type": "stream",
     "text": [
      "  (97) Sum => 880460 ; Access Time => 0.848 seconds\n"
     ]
    },
    {
     "name": "stderr",
     "output_type": "stream",
     "text": [
      "[sudo] password for carloscrg19: "
     ]
    },
    {
     "name": "stdout",
     "output_type": "stream",
     "text": [
      "  (98) Sum => 877499 ; Access Time => 0.827 seconds\n"
     ]
    },
    {
     "name": "stderr",
     "output_type": "stream",
     "text": [
      "[sudo] password for carloscrg19: "
     ]
    },
    {
     "name": "stdout",
     "output_type": "stream",
     "text": [
      "  (99) Sum => 883472 ; Access Time => 0.877 seconds\n"
     ]
    },
    {
     "name": "stderr",
     "output_type": "stream",
     "text": [
      "[sudo] password for carloscrg19: "
     ]
    },
    {
     "name": "stdout",
     "output_type": "stream",
     "text": [
      "  (100) Sum => 883219 ; Access Time => 0.859 seconds\n"
     ]
    },
    {
     "name": "stderr",
     "output_type": "stream",
     "text": [
      "[sudo] password for carloscrg19: [sudo] password for carloscrg19: "
     ]
    },
    {
     "name": "stdout",
     "output_type": "stream",
     "text": [
      "Block size => 64K:\n"
     ]
    },
    {
     "name": "stderr",
     "output_type": "stream",
     "text": [
      "[sudo] password for carloscrg19: "
     ]
    },
    {
     "name": "stdout",
     "output_type": "stream",
     "text": [
      "  (1) Sum => 881009 ; Access Time => 1.001 seconds\n"
     ]
    },
    {
     "name": "stderr",
     "output_type": "stream",
     "text": [
      "[sudo] password for carloscrg19: "
     ]
    },
    {
     "name": "stdout",
     "output_type": "stream",
     "text": [
      "  (2) Sum => 882450 ; Access Time => 1.077 seconds\n"
     ]
    },
    {
     "name": "stderr",
     "output_type": "stream",
     "text": [
      "[sudo] password for carloscrg19: "
     ]
    },
    {
     "name": "stdout",
     "output_type": "stream",
     "text": [
      "  (3) Sum => 881389 ; Access Time => 1.152 seconds\n"
     ]
    },
    {
     "name": "stderr",
     "output_type": "stream",
     "text": [
      "[sudo] password for carloscrg19: "
     ]
    },
    {
     "name": "stdout",
     "output_type": "stream",
     "text": [
      "  (4) Sum => 882381 ; Access Time => 1.094 seconds\n"
     ]
    },
    {
     "name": "stderr",
     "output_type": "stream",
     "text": [
      "[sudo] password for carloscrg19: "
     ]
    },
    {
     "name": "stdout",
     "output_type": "stream",
     "text": [
      "  (5) Sum => 881907 ; Access Time => 1.091 seconds\n"
     ]
    },
    {
     "name": "stderr",
     "output_type": "stream",
     "text": [
      "[sudo] password for carloscrg19: "
     ]
    },
    {
     "name": "stdout",
     "output_type": "stream",
     "text": [
      "  (6) Sum => 887973 ; Access Time => 1.235 seconds\n"
     ]
    },
    {
     "name": "stderr",
     "output_type": "stream",
     "text": [
      "[sudo] password for carloscrg19: "
     ]
    },
    {
     "name": "stdout",
     "output_type": "stream",
     "text": [
      "  (7) Sum => 882319 ; Access Time => 1.069 seconds\n"
     ]
    },
    {
     "name": "stderr",
     "output_type": "stream",
     "text": [
      "[sudo] password for carloscrg19: "
     ]
    },
    {
     "name": "stdout",
     "output_type": "stream",
     "text": [
      "  (8) Sum => 882283 ; Access Time => 1.078 seconds\n"
     ]
    },
    {
     "name": "stderr",
     "output_type": "stream",
     "text": [
      "[sudo] password for carloscrg19: "
     ]
    },
    {
     "name": "stdout",
     "output_type": "stream",
     "text": [
      "  (9) Sum => 886572 ; Access Time => 1.136 seconds\n"
     ]
    },
    {
     "name": "stderr",
     "output_type": "stream",
     "text": [
      "[sudo] password for carloscrg19: "
     ]
    },
    {
     "name": "stdout",
     "output_type": "stream",
     "text": [
      "  (10) Sum => 873616 ; Access Time => 1.071 seconds\n"
     ]
    },
    {
     "name": "stderr",
     "output_type": "stream",
     "text": [
      "[sudo] password for carloscrg19: "
     ]
    },
    {
     "name": "stdout",
     "output_type": "stream",
     "text": [
      "  (11) Sum => 881464 ; Access Time => 1.034 seconds\n"
     ]
    },
    {
     "name": "stderr",
     "output_type": "stream",
     "text": [
      "[sudo] password for carloscrg19: "
     ]
    },
    {
     "name": "stdout",
     "output_type": "stream",
     "text": [
      "  (12) Sum => 878293 ; Access Time => 1.031 seconds\n"
     ]
    },
    {
     "name": "stderr",
     "output_type": "stream",
     "text": [
      "[sudo] password for carloscrg19: "
     ]
    },
    {
     "name": "stdout",
     "output_type": "stream",
     "text": [
      "  (13) Sum => 883999 ; Access Time => 1.075 seconds\n"
     ]
    },
    {
     "name": "stderr",
     "output_type": "stream",
     "text": [
      "[sudo] password for carloscrg19: "
     ]
    },
    {
     "name": "stdout",
     "output_type": "stream",
     "text": [
      "  (14) Sum => 885519 ; Access Time => 1.086 seconds\n"
     ]
    },
    {
     "name": "stderr",
     "output_type": "stream",
     "text": [
      "[sudo] password for carloscrg19: "
     ]
    },
    {
     "name": "stdout",
     "output_type": "stream",
     "text": [
      "  (15) Sum => 883108 ; Access Time => 1.114 seconds\n"
     ]
    },
    {
     "name": "stderr",
     "output_type": "stream",
     "text": [
      "[sudo] password for carloscrg19: "
     ]
    },
    {
     "name": "stdout",
     "output_type": "stream",
     "text": [
      "  (16) Sum => 877613 ; Access Time => 1.084 seconds\n"
     ]
    },
    {
     "name": "stderr",
     "output_type": "stream",
     "text": [
      "[sudo] password for carloscrg19: "
     ]
    },
    {
     "name": "stdout",
     "output_type": "stream",
     "text": [
      "  (17) Sum => 884107 ; Access Time => 1.073 seconds\n"
     ]
    },
    {
     "name": "stderr",
     "output_type": "stream",
     "text": [
      "[sudo] password for carloscrg19: "
     ]
    },
    {
     "name": "stdout",
     "output_type": "stream",
     "text": [
      "  (18) Sum => 884452 ; Access Time => 1.082 seconds\n"
     ]
    },
    {
     "name": "stderr",
     "output_type": "stream",
     "text": [
      "[sudo] password for carloscrg19: "
     ]
    },
    {
     "name": "stdout",
     "output_type": "stream",
     "text": [
      "  (19) Sum => 882595 ; Access Time => 1.073 seconds\n"
     ]
    },
    {
     "name": "stderr",
     "output_type": "stream",
     "text": [
      "[sudo] password for carloscrg19: "
     ]
    },
    {
     "name": "stdout",
     "output_type": "stream",
     "text": [
      "  (20) Sum => 882489 ; Access Time => 1.045 seconds\n"
     ]
    },
    {
     "name": "stderr",
     "output_type": "stream",
     "text": [
      "[sudo] password for carloscrg19: "
     ]
    },
    {
     "name": "stdout",
     "output_type": "stream",
     "text": [
      "  (21) Sum => 880589 ; Access Time => 1.074 seconds\n"
     ]
    },
    {
     "name": "stderr",
     "output_type": "stream",
     "text": [
      "[sudo] password for carloscrg19: "
     ]
    },
    {
     "name": "stdout",
     "output_type": "stream",
     "text": [
      "  (22) Sum => 874922 ; Access Time => 1.092 seconds\n"
     ]
    },
    {
     "name": "stderr",
     "output_type": "stream",
     "text": [
      "[sudo] password for carloscrg19: "
     ]
    },
    {
     "name": "stdout",
     "output_type": "stream",
     "text": [
      "  (23) Sum => 878737 ; Access Time => 1.094 seconds\n"
     ]
    },
    {
     "name": "stderr",
     "output_type": "stream",
     "text": [
      "[sudo] password for carloscrg19: "
     ]
    },
    {
     "name": "stdout",
     "output_type": "stream",
     "text": [
      "  (24) Sum => 882483 ; Access Time => 1.058 seconds\n"
     ]
    },
    {
     "name": "stderr",
     "output_type": "stream",
     "text": [
      "[sudo] password for carloscrg19: "
     ]
    },
    {
     "name": "stdout",
     "output_type": "stream",
     "text": [
      "  (25) Sum => 884621 ; Access Time => 1.09 seconds\n"
     ]
    },
    {
     "name": "stderr",
     "output_type": "stream",
     "text": [
      "[sudo] password for carloscrg19: "
     ]
    },
    {
     "name": "stdout",
     "output_type": "stream",
     "text": [
      "  (26) Sum => 882677 ; Access Time => 1.065 seconds\n"
     ]
    },
    {
     "name": "stderr",
     "output_type": "stream",
     "text": [
      "[sudo] password for carloscrg19: "
     ]
    },
    {
     "name": "stdout",
     "output_type": "stream",
     "text": [
      "  (27) Sum => 883283 ; Access Time => 1.066 seconds\n"
     ]
    },
    {
     "name": "stderr",
     "output_type": "stream",
     "text": [
      "[sudo] password for carloscrg19: "
     ]
    },
    {
     "name": "stdout",
     "output_type": "stream",
     "text": [
      "  (28) Sum => 884498 ; Access Time => 1.021 seconds\n"
     ]
    },
    {
     "name": "stderr",
     "output_type": "stream",
     "text": [
      "[sudo] password for carloscrg19: "
     ]
    },
    {
     "name": "stdout",
     "output_type": "stream",
     "text": [
      "  (29) Sum => 882289 ; Access Time => 1.112 seconds\n"
     ]
    },
    {
     "name": "stderr",
     "output_type": "stream",
     "text": [
      "[sudo] password for carloscrg19: "
     ]
    },
    {
     "name": "stdout",
     "output_type": "stream",
     "text": [
      "  (30) Sum => 871242 ; Access Time => 1.065 seconds\n"
     ]
    },
    {
     "name": "stderr",
     "output_type": "stream",
     "text": [
      "[sudo] password for carloscrg19: "
     ]
    },
    {
     "name": "stdout",
     "output_type": "stream",
     "text": [
      "  (31) Sum => 881690 ; Access Time => 1.082 seconds\n"
     ]
    },
    {
     "name": "stderr",
     "output_type": "stream",
     "text": [
      "[sudo] password for carloscrg19: "
     ]
    },
    {
     "name": "stdout",
     "output_type": "stream",
     "text": [
      "  (32) Sum => 881734 ; Access Time => 1.077 seconds\n"
     ]
    },
    {
     "name": "stderr",
     "output_type": "stream",
     "text": [
      "[sudo] password for carloscrg19: "
     ]
    },
    {
     "name": "stdout",
     "output_type": "stream",
     "text": [
      "  (33) Sum => 885439 ; Access Time => 1.105 seconds\n"
     ]
    },
    {
     "name": "stderr",
     "output_type": "stream",
     "text": [
      "[sudo] password for carloscrg19: "
     ]
    },
    {
     "name": "stdout",
     "output_type": "stream",
     "text": [
      "  (34) Sum => 879164 ; Access Time => 1.07 seconds\n"
     ]
    },
    {
     "name": "stderr",
     "output_type": "stream",
     "text": [
      "[sudo] password for carloscrg19: "
     ]
    },
    {
     "name": "stdout",
     "output_type": "stream",
     "text": [
      "  (35) Sum => 880717 ; Access Time => 1.062 seconds\n"
     ]
    },
    {
     "name": "stderr",
     "output_type": "stream",
     "text": [
      "[sudo] password for carloscrg19: "
     ]
    },
    {
     "name": "stdout",
     "output_type": "stream",
     "text": [
      "  (36) Sum => 878335 ; Access Time => 1.09 seconds\n"
     ]
    },
    {
     "name": "stderr",
     "output_type": "stream",
     "text": [
      "[sudo] password for carloscrg19: "
     ]
    },
    {
     "name": "stdout",
     "output_type": "stream",
     "text": [
      "  (37) Sum => 873154 ; Access Time => 1.038 seconds\n"
     ]
    },
    {
     "name": "stderr",
     "output_type": "stream",
     "text": [
      "[sudo] password for carloscrg19: "
     ]
    },
    {
     "name": "stdout",
     "output_type": "stream",
     "text": [
      "  (38) Sum => 879193 ; Access Time => 1.14 seconds\n"
     ]
    },
    {
     "name": "stderr",
     "output_type": "stream",
     "text": [
      "[sudo] password for carloscrg19: "
     ]
    },
    {
     "name": "stdout",
     "output_type": "stream",
     "text": [
      "  (39) Sum => 884035 ; Access Time => 1.062 seconds\n"
     ]
    },
    {
     "name": "stderr",
     "output_type": "stream",
     "text": [
      "[sudo] password for carloscrg19: "
     ]
    },
    {
     "name": "stdout",
     "output_type": "stream",
     "text": [
      "  (40) Sum => 877591 ; Access Time => 1.078 seconds\n"
     ]
    },
    {
     "name": "stderr",
     "output_type": "stream",
     "text": [
      "[sudo] password for carloscrg19: "
     ]
    },
    {
     "name": "stdout",
     "output_type": "stream",
     "text": [
      "  (41) Sum => 883916 ; Access Time => 1.107 seconds\n"
     ]
    },
    {
     "name": "stderr",
     "output_type": "stream",
     "text": [
      "[sudo] password for carloscrg19: "
     ]
    },
    {
     "name": "stdout",
     "output_type": "stream",
     "text": [
      "  (42) Sum => 881009 ; Access Time => 1.13 seconds\n"
     ]
    },
    {
     "name": "stderr",
     "output_type": "stream",
     "text": [
      "[sudo] password for carloscrg19: "
     ]
    },
    {
     "name": "stdout",
     "output_type": "stream",
     "text": [
      "  (43) Sum => 880853 ; Access Time => 1.073 seconds\n"
     ]
    },
    {
     "name": "stderr",
     "output_type": "stream",
     "text": [
      "[sudo] password for carloscrg19: "
     ]
    },
    {
     "name": "stdout",
     "output_type": "stream",
     "text": [
      "  (44) Sum => 875575 ; Access Time => 1.112 seconds\n"
     ]
    },
    {
     "name": "stderr",
     "output_type": "stream",
     "text": [
      "[sudo] password for carloscrg19: "
     ]
    },
    {
     "name": "stdout",
     "output_type": "stream",
     "text": [
      "  (45) Sum => 882040 ; Access Time => 1.086 seconds\n"
     ]
    },
    {
     "name": "stderr",
     "output_type": "stream",
     "text": [
      "[sudo] password for carloscrg19: "
     ]
    },
    {
     "name": "stdout",
     "output_type": "stream",
     "text": [
      "  (46) Sum => 881661 ; Access Time => 1.056 seconds\n"
     ]
    },
    {
     "name": "stderr",
     "output_type": "stream",
     "text": [
      "[sudo] password for carloscrg19: "
     ]
    },
    {
     "name": "stdout",
     "output_type": "stream",
     "text": [
      "  (47) Sum => 884328 ; Access Time => 1.075 seconds\n"
     ]
    },
    {
     "name": "stderr",
     "output_type": "stream",
     "text": [
      "[sudo] password for carloscrg19: "
     ]
    },
    {
     "name": "stdout",
     "output_type": "stream",
     "text": [
      "  (48) Sum => 883289 ; Access Time => 1.159 seconds\n"
     ]
    },
    {
     "name": "stderr",
     "output_type": "stream",
     "text": [
      "[sudo] password for carloscrg19: "
     ]
    },
    {
     "name": "stdout",
     "output_type": "stream",
     "text": [
      "  (49) Sum => 879453 ; Access Time => 1.068 seconds\n"
     ]
    },
    {
     "name": "stderr",
     "output_type": "stream",
     "text": [
      "[sudo] password for carloscrg19: "
     ]
    },
    {
     "name": "stdout",
     "output_type": "stream",
     "text": [
      "  (50) Sum => 879768 ; Access Time => 1.091 seconds\n"
     ]
    },
    {
     "name": "stderr",
     "output_type": "stream",
     "text": [
      "[sudo] password for carloscrg19: "
     ]
    },
    {
     "name": "stdout",
     "output_type": "stream",
     "text": [
      "  (51) Sum => 881314 ; Access Time => 1.102 seconds\n"
     ]
    },
    {
     "name": "stderr",
     "output_type": "stream",
     "text": [
      "[sudo] password for carloscrg19: "
     ]
    },
    {
     "name": "stdout",
     "output_type": "stream",
     "text": [
      "  (52) Sum => 881124 ; Access Time => 1.066 seconds\n"
     ]
    },
    {
     "name": "stderr",
     "output_type": "stream",
     "text": [
      "[sudo] password for carloscrg19: "
     ]
    },
    {
     "name": "stdout",
     "output_type": "stream",
     "text": [
      "  (53) Sum => 881310 ; Access Time => 1.053 seconds\n"
     ]
    },
    {
     "name": "stderr",
     "output_type": "stream",
     "text": [
      "[sudo] password for carloscrg19: "
     ]
    },
    {
     "name": "stdout",
     "output_type": "stream",
     "text": [
      "  (54) Sum => 879402 ; Access Time => 1.076 seconds\n"
     ]
    },
    {
     "name": "stderr",
     "output_type": "stream",
     "text": [
      "[sudo] password for carloscrg19: "
     ]
    },
    {
     "name": "stdout",
     "output_type": "stream",
     "text": [
      "  (55) Sum => 877691 ; Access Time => 1.073 seconds\n"
     ]
    },
    {
     "name": "stderr",
     "output_type": "stream",
     "text": [
      "[sudo] password for carloscrg19: "
     ]
    },
    {
     "name": "stdout",
     "output_type": "stream",
     "text": [
      "  (56) Sum => 876618 ; Access Time => 1.057 seconds\n"
     ]
    },
    {
     "name": "stderr",
     "output_type": "stream",
     "text": [
      "[sudo] password for carloscrg19: "
     ]
    },
    {
     "name": "stdout",
     "output_type": "stream",
     "text": [
      "  (57) Sum => 883312 ; Access Time => 1.047 seconds\n"
     ]
    },
    {
     "name": "stderr",
     "output_type": "stream",
     "text": [
      "[sudo] password for carloscrg19: "
     ]
    },
    {
     "name": "stdout",
     "output_type": "stream",
     "text": [
      "  (58) Sum => 874701 ; Access Time => 1.061 seconds\n"
     ]
    },
    {
     "name": "stderr",
     "output_type": "stream",
     "text": [
      "[sudo] password for carloscrg19: "
     ]
    },
    {
     "name": "stdout",
     "output_type": "stream",
     "text": [
      "  (59) Sum => 881464 ; Access Time => 1.074 seconds\n"
     ]
    },
    {
     "name": "stderr",
     "output_type": "stream",
     "text": [
      "[sudo] password for carloscrg19: "
     ]
    },
    {
     "name": "stdout",
     "output_type": "stream",
     "text": [
      "  (60) Sum => 882510 ; Access Time => 1.089 seconds\n"
     ]
    },
    {
     "name": "stderr",
     "output_type": "stream",
     "text": [
      "[sudo] password for carloscrg19: "
     ]
    },
    {
     "name": "stdout",
     "output_type": "stream",
     "text": [
      "  (61) Sum => 879999 ; Access Time => 1.059 seconds\n"
     ]
    },
    {
     "name": "stderr",
     "output_type": "stream",
     "text": [
      "[sudo] password for carloscrg19: "
     ]
    },
    {
     "name": "stdout",
     "output_type": "stream",
     "text": [
      "  (62) Sum => 884621 ; Access Time => 1.045 seconds\n"
     ]
    },
    {
     "name": "stderr",
     "output_type": "stream",
     "text": [
      "[sudo] password for carloscrg19: "
     ]
    },
    {
     "name": "stdout",
     "output_type": "stream",
     "text": [
      "  (63) Sum => 882489 ; Access Time => 1.03 seconds\n"
     ]
    },
    {
     "name": "stderr",
     "output_type": "stream",
     "text": [
      "[sudo] password for carloscrg19: "
     ]
    },
    {
     "name": "stdout",
     "output_type": "stream",
     "text": [
      "  (64) Sum => 878117 ; Access Time => 1.08 seconds\n"
     ]
    },
    {
     "name": "stderr",
     "output_type": "stream",
     "text": [
      "[sudo] password for carloscrg19: "
     ]
    },
    {
     "name": "stdout",
     "output_type": "stream",
     "text": [
      "  (65) Sum => 878990 ; Access Time => 1.086 seconds\n"
     ]
    },
    {
     "name": "stderr",
     "output_type": "stream",
     "text": [
      "[sudo] password for carloscrg19: "
     ]
    },
    {
     "name": "stdout",
     "output_type": "stream",
     "text": [
      "  (66) Sum => 886088 ; Access Time => 1.101 seconds\n"
     ]
    },
    {
     "name": "stderr",
     "output_type": "stream",
     "text": [
      "[sudo] password for carloscrg19: "
     ]
    },
    {
     "name": "stdout",
     "output_type": "stream",
     "text": [
      "  (67) Sum => 874992 ; Access Time => 1.081 seconds\n"
     ]
    },
    {
     "name": "stderr",
     "output_type": "stream",
     "text": [
      "[sudo] password for carloscrg19: "
     ]
    },
    {
     "name": "stdout",
     "output_type": "stream",
     "text": [
      "  (68) Sum => 878202 ; Access Time => 1.063 seconds\n"
     ]
    },
    {
     "name": "stderr",
     "output_type": "stream",
     "text": [
      "[sudo] password for carloscrg19: "
     ]
    },
    {
     "name": "stdout",
     "output_type": "stream",
     "text": [
      "  (69) Sum => 882919 ; Access Time => 1.058 seconds\n"
     ]
    },
    {
     "name": "stderr",
     "output_type": "stream",
     "text": [
      "[sudo] password for carloscrg19: "
     ]
    },
    {
     "name": "stdout",
     "output_type": "stream",
     "text": [
      "  (70) Sum => 883504 ; Access Time => 1.081 seconds\n"
     ]
    },
    {
     "name": "stderr",
     "output_type": "stream",
     "text": [
      "[sudo] password for carloscrg19: "
     ]
    },
    {
     "name": "stdout",
     "output_type": "stream",
     "text": [
      "  (71) Sum => 882083 ; Access Time => 1.053 seconds\n"
     ]
    },
    {
     "name": "stderr",
     "output_type": "stream",
     "text": [
      "[sudo] password for carloscrg19: "
     ]
    },
    {
     "name": "stdout",
     "output_type": "stream",
     "text": [
      "  (72) Sum => 877911 ; Access Time => 1.061 seconds\n"
     ]
    },
    {
     "name": "stderr",
     "output_type": "stream",
     "text": [
      "[sudo] password for carloscrg19: "
     ]
    },
    {
     "name": "stdout",
     "output_type": "stream",
     "text": [
      "  (73) Sum => 879443 ; Access Time => 1.074 seconds\n"
     ]
    },
    {
     "name": "stderr",
     "output_type": "stream",
     "text": [
      "[sudo] password for carloscrg19: "
     ]
    },
    {
     "name": "stdout",
     "output_type": "stream",
     "text": [
      "  (74) Sum => 881430 ; Access Time => 1.024 seconds\n"
     ]
    },
    {
     "name": "stderr",
     "output_type": "stream",
     "text": [
      "[sudo] password for carloscrg19: "
     ]
    },
    {
     "name": "stdout",
     "output_type": "stream",
     "text": [
      "  (75) Sum => 880029 ; Access Time => 1.052 seconds\n"
     ]
    },
    {
     "name": "stderr",
     "output_type": "stream",
     "text": [
      "[sudo] password for carloscrg19: "
     ]
    },
    {
     "name": "stdout",
     "output_type": "stream",
     "text": [
      "  (76) Sum => 875563 ; Access Time => 1.107 seconds\n"
     ]
    },
    {
     "name": "stderr",
     "output_type": "stream",
     "text": [
      "[sudo] password for carloscrg19: "
     ]
    },
    {
     "name": "stdout",
     "output_type": "stream",
     "text": [
      "  (77) Sum => 879459 ; Access Time => 1.152 seconds\n"
     ]
    },
    {
     "name": "stderr",
     "output_type": "stream",
     "text": [
      "[sudo] password for carloscrg19: "
     ]
    },
    {
     "name": "stdout",
     "output_type": "stream",
     "text": [
      "  (78) Sum => 880000 ; Access Time => 1.146 seconds\n"
     ]
    },
    {
     "name": "stderr",
     "output_type": "stream",
     "text": [
      "[sudo] password for carloscrg19: "
     ]
    },
    {
     "name": "stdout",
     "output_type": "stream",
     "text": [
      "  (79) Sum => 884868 ; Access Time => 1.193 seconds\n"
     ]
    },
    {
     "name": "stderr",
     "output_type": "stream",
     "text": [
      "[sudo] password for carloscrg19: "
     ]
    },
    {
     "name": "stdout",
     "output_type": "stream",
     "text": [
      "  (80) Sum => 880586 ; Access Time => 1.144 seconds\n"
     ]
    },
    {
     "name": "stderr",
     "output_type": "stream",
     "text": [
      "[sudo] password for carloscrg19: "
     ]
    },
    {
     "name": "stdout",
     "output_type": "stream",
     "text": [
      "  (81) Sum => 879638 ; Access Time => 1.128 seconds\n"
     ]
    },
    {
     "name": "stderr",
     "output_type": "stream",
     "text": [
      "[sudo] password for carloscrg19: "
     ]
    },
    {
     "name": "stdout",
     "output_type": "stream",
     "text": [
      "  (82) Sum => 883033 ; Access Time => 1.123 seconds\n"
     ]
    },
    {
     "name": "stderr",
     "output_type": "stream",
     "text": [
      "[sudo] password for carloscrg19: "
     ]
    },
    {
     "name": "stdout",
     "output_type": "stream",
     "text": [
      "  (83) Sum => 883287 ; Access Time => 1.143 seconds\n"
     ]
    },
    {
     "name": "stderr",
     "output_type": "stream",
     "text": [
      "[sudo] password for carloscrg19: "
     ]
    },
    {
     "name": "stdout",
     "output_type": "stream",
     "text": [
      "  (84) Sum => 878711 ; Access Time => 1.174 seconds\n"
     ]
    },
    {
     "name": "stderr",
     "output_type": "stream",
     "text": [
      "[sudo] password for carloscrg19: "
     ]
    },
    {
     "name": "stdout",
     "output_type": "stream",
     "text": [
      "  (85) Sum => 877294 ; Access Time => 1.108 seconds\n"
     ]
    },
    {
     "name": "stderr",
     "output_type": "stream",
     "text": [
      "[sudo] password for carloscrg19: "
     ]
    },
    {
     "name": "stdout",
     "output_type": "stream",
     "text": [
      "  (86) Sum => 884438 ; Access Time => 1.128 seconds\n"
     ]
    },
    {
     "name": "stderr",
     "output_type": "stream",
     "text": [
      "[sudo] password for carloscrg19: "
     ]
    },
    {
     "name": "stdout",
     "output_type": "stream",
     "text": [
      "  (87) Sum => 885536 ; Access Time => 1.067 seconds\n"
     ]
    },
    {
     "name": "stderr",
     "output_type": "stream",
     "text": [
      "[sudo] password for carloscrg19: "
     ]
    },
    {
     "name": "stdout",
     "output_type": "stream",
     "text": [
      "  (88) Sum => 876025 ; Access Time => 1.028 seconds\n"
     ]
    },
    {
     "name": "stderr",
     "output_type": "stream",
     "text": [
      "[sudo] password for carloscrg19: "
     ]
    },
    {
     "name": "stdout",
     "output_type": "stream",
     "text": [
      "  (89) Sum => 877273 ; Access Time => 1.055 seconds\n"
     ]
    },
    {
     "name": "stderr",
     "output_type": "stream",
     "text": [
      "[sudo] password for carloscrg19: "
     ]
    },
    {
     "name": "stdout",
     "output_type": "stream",
     "text": [
      "  (90) Sum => 886376 ; Access Time => 1.033 seconds\n"
     ]
    },
    {
     "name": "stderr",
     "output_type": "stream",
     "text": [
      "[sudo] password for carloscrg19: "
     ]
    },
    {
     "name": "stdout",
     "output_type": "stream",
     "text": [
      "  (91) Sum => 884462 ; Access Time => 1.07 seconds\n"
     ]
    },
    {
     "name": "stderr",
     "output_type": "stream",
     "text": [
      "[sudo] password for carloscrg19: "
     ]
    },
    {
     "name": "stdout",
     "output_type": "stream",
     "text": [
      "  (92) Sum => 878782 ; Access Time => 1.083 seconds\n"
     ]
    },
    {
     "name": "stderr",
     "output_type": "stream",
     "text": [
      "[sudo] password for carloscrg19: "
     ]
    },
    {
     "name": "stdout",
     "output_type": "stream",
     "text": [
      "  (93) Sum => 882029 ; Access Time => 1.099 seconds\n"
     ]
    },
    {
     "name": "stderr",
     "output_type": "stream",
     "text": [
      "[sudo] password for carloscrg19: "
     ]
    },
    {
     "name": "stdout",
     "output_type": "stream",
     "text": [
      "  (94) Sum => 882758 ; Access Time => 1.072 seconds\n"
     ]
    },
    {
     "name": "stderr",
     "output_type": "stream",
     "text": [
      "[sudo] password for carloscrg19: "
     ]
    },
    {
     "name": "stdout",
     "output_type": "stream",
     "text": [
      "  (95) Sum => 881461 ; Access Time => 1.087 seconds\n"
     ]
    },
    {
     "name": "stderr",
     "output_type": "stream",
     "text": [
      "[sudo] password for carloscrg19: "
     ]
    },
    {
     "name": "stdout",
     "output_type": "stream",
     "text": [
      "  (96) Sum => 880927 ; Access Time => 1.08 seconds\n"
     ]
    },
    {
     "name": "stderr",
     "output_type": "stream",
     "text": [
      "[sudo] password for carloscrg19: "
     ]
    },
    {
     "name": "stdout",
     "output_type": "stream",
     "text": [
      "  (97) Sum => 880460 ; Access Time => 1.055 seconds\n"
     ]
    },
    {
     "name": "stderr",
     "output_type": "stream",
     "text": [
      "[sudo] password for carloscrg19: "
     ]
    },
    {
     "name": "stdout",
     "output_type": "stream",
     "text": [
      "  (98) Sum => 877499 ; Access Time => 1.088 seconds\n"
     ]
    },
    {
     "name": "stderr",
     "output_type": "stream",
     "text": [
      "[sudo] password for carloscrg19: "
     ]
    },
    {
     "name": "stdout",
     "output_type": "stream",
     "text": [
      "  (99) Sum => 883472 ; Access Time => 1.066 seconds\n"
     ]
    },
    {
     "name": "stderr",
     "output_type": "stream",
     "text": [
      "[sudo] password for carloscrg19: "
     ]
    },
    {
     "name": "stdout",
     "output_type": "stream",
     "text": [
      "  (100) Sum => 883219 ; Access Time => 1.07 seconds\n"
     ]
    },
    {
     "name": "stderr",
     "output_type": "stream",
     "text": [
      "[sudo] password for carloscrg19: [sudo] password for carloscrg19: "
     ]
    },
    {
     "name": "stdout",
     "output_type": "stream",
     "text": [
      "Block size => 256K:\n"
     ]
    },
    {
     "name": "stderr",
     "output_type": "stream",
     "text": [
      "[sudo] password for carloscrg19: "
     ]
    },
    {
     "name": "stdout",
     "output_type": "stream",
     "text": [
      "  (1) Sum => 881009 ; Access Time => 1.697 seconds\n"
     ]
    },
    {
     "name": "stderr",
     "output_type": "stream",
     "text": [
      "[sudo] password for carloscrg19: "
     ]
    },
    {
     "name": "stdout",
     "output_type": "stream",
     "text": [
      "  (2) Sum => 882450 ; Access Time => 2.365 seconds\n"
     ]
    },
    {
     "name": "stderr",
     "output_type": "stream",
     "text": [
      "[sudo] password for carloscrg19: "
     ]
    },
    {
     "name": "stdout",
     "output_type": "stream",
     "text": [
      "  (3) Sum => 881389 ; Access Time => 2.821 seconds\n"
     ]
    },
    {
     "name": "stderr",
     "output_type": "stream",
     "text": [
      "[sudo] password for carloscrg19: "
     ]
    },
    {
     "name": "stdout",
     "output_type": "stream",
     "text": [
      "  (4) Sum => 882381 ; Access Time => 2.058 seconds\n"
     ]
    },
    {
     "name": "stderr",
     "output_type": "stream",
     "text": [
      "[sudo] password for carloscrg19: "
     ]
    },
    {
     "name": "stdout",
     "output_type": "stream",
     "text": [
      "  (5) Sum => 881907 ; Access Time => 1.776 seconds\n"
     ]
    },
    {
     "name": "stderr",
     "output_type": "stream",
     "text": [
      "[sudo] password for carloscrg19: "
     ]
    },
    {
     "name": "stdout",
     "output_type": "stream",
     "text": [
      "  (6) Sum => 887973 ; Access Time => 1.858 seconds\n"
     ]
    },
    {
     "name": "stderr",
     "output_type": "stream",
     "text": [
      "[sudo] password for carloscrg19: "
     ]
    },
    {
     "name": "stdout",
     "output_type": "stream",
     "text": [
      "  (7) Sum => 882319 ; Access Time => 2.635 seconds\n"
     ]
    },
    {
     "name": "stderr",
     "output_type": "stream",
     "text": [
      "[sudo] password for carloscrg19: "
     ]
    },
    {
     "name": "stdout",
     "output_type": "stream",
     "text": [
      "  (8) Sum => 882283 ; Access Time => 2.963 seconds\n"
     ]
    },
    {
     "name": "stderr",
     "output_type": "stream",
     "text": [
      "[sudo] password for carloscrg19: "
     ]
    },
    {
     "name": "stdout",
     "output_type": "stream",
     "text": [
      "  (9) Sum => 886572 ; Access Time => 1.678 seconds\n"
     ]
    },
    {
     "name": "stderr",
     "output_type": "stream",
     "text": [
      "[sudo] password for carloscrg19: "
     ]
    },
    {
     "name": "stdout",
     "output_type": "stream",
     "text": [
      "  (10) Sum => 873616 ; Access Time => 2.414 seconds\n"
     ]
    },
    {
     "name": "stderr",
     "output_type": "stream",
     "text": [
      "[sudo] password for carloscrg19: "
     ]
    },
    {
     "name": "stdout",
     "output_type": "stream",
     "text": [
      "  (11) Sum => 881464 ; Access Time => 1.819 seconds\n"
     ]
    },
    {
     "name": "stderr",
     "output_type": "stream",
     "text": [
      "[sudo] password for carloscrg19: "
     ]
    },
    {
     "name": "stdout",
     "output_type": "stream",
     "text": [
      "  (12) Sum => 878293 ; Access Time => 1.858 seconds\n"
     ]
    },
    {
     "name": "stderr",
     "output_type": "stream",
     "text": [
      "[sudo] password for carloscrg19: "
     ]
    },
    {
     "name": "stdout",
     "output_type": "stream",
     "text": [
      "  (13) Sum => 883999 ; Access Time => 3.057 seconds\n"
     ]
    },
    {
     "name": "stderr",
     "output_type": "stream",
     "text": [
      "[sudo] password for carloscrg19: "
     ]
    },
    {
     "name": "stdout",
     "output_type": "stream",
     "text": [
      "  (14) Sum => 885519 ; Access Time => 1.669 seconds\n"
     ]
    },
    {
     "name": "stderr",
     "output_type": "stream",
     "text": [
      "[sudo] password for carloscrg19: "
     ]
    },
    {
     "name": "stdout",
     "output_type": "stream",
     "text": [
      "  (15) Sum => 883108 ; Access Time => 1.916 seconds\n"
     ]
    },
    {
     "name": "stderr",
     "output_type": "stream",
     "text": [
      "[sudo] password for carloscrg19: "
     ]
    },
    {
     "name": "stdout",
     "output_type": "stream",
     "text": [
      "  (16) Sum => 877613 ; Access Time => 2.505 seconds\n"
     ]
    },
    {
     "name": "stderr",
     "output_type": "stream",
     "text": [
      "[sudo] password for carloscrg19: "
     ]
    },
    {
     "name": "stdout",
     "output_type": "stream",
     "text": [
      "  (17) Sum => 884107 ; Access Time => 2.209 seconds\n"
     ]
    },
    {
     "name": "stderr",
     "output_type": "stream",
     "text": [
      "[sudo] password for carloscrg19: "
     ]
    },
    {
     "name": "stdout",
     "output_type": "stream",
     "text": [
      "  (18) Sum => 884452 ; Access Time => 1.633 seconds\n"
     ]
    },
    {
     "name": "stderr",
     "output_type": "stream",
     "text": [
      "[sudo] password for carloscrg19: "
     ]
    },
    {
     "name": "stdout",
     "output_type": "stream",
     "text": [
      "  (19) Sum => 882595 ; Access Time => 1.804 seconds\n"
     ]
    },
    {
     "name": "stderr",
     "output_type": "stream",
     "text": [
      "[sudo] password for carloscrg19: "
     ]
    },
    {
     "name": "stdout",
     "output_type": "stream",
     "text": [
      "  (20) Sum => 882489 ; Access Time => 2.049 seconds\n"
     ]
    },
    {
     "name": "stderr",
     "output_type": "stream",
     "text": [
      "[sudo] password for carloscrg19: "
     ]
    },
    {
     "name": "stdout",
     "output_type": "stream",
     "text": [
      "  (21) Sum => 880589 ; Access Time => 1.789 seconds\n"
     ]
    },
    {
     "name": "stderr",
     "output_type": "stream",
     "text": [
      "[sudo] password for carloscrg19: "
     ]
    },
    {
     "name": "stdout",
     "output_type": "stream",
     "text": [
      "  (22) Sum => 874922 ; Access Time => 1.682 seconds\n"
     ]
    },
    {
     "name": "stderr",
     "output_type": "stream",
     "text": [
      "[sudo] password for carloscrg19: "
     ]
    },
    {
     "name": "stdout",
     "output_type": "stream",
     "text": [
      "  (23) Sum => 878737 ; Access Time => 2.69 seconds\n"
     ]
    },
    {
     "name": "stderr",
     "output_type": "stream",
     "text": [
      "[sudo] password for carloscrg19: "
     ]
    },
    {
     "name": "stdout",
     "output_type": "stream",
     "text": [
      "  (24) Sum => 882483 ; Access Time => 1.925 seconds\n"
     ]
    },
    {
     "name": "stderr",
     "output_type": "stream",
     "text": [
      "[sudo] password for carloscrg19: "
     ]
    },
    {
     "name": "stdout",
     "output_type": "stream",
     "text": [
      "  (25) Sum => 884621 ; Access Time => 1.601 seconds\n"
     ]
    },
    {
     "name": "stderr",
     "output_type": "stream",
     "text": [
      "[sudo] password for carloscrg19: "
     ]
    },
    {
     "name": "stdout",
     "output_type": "stream",
     "text": [
      "  (26) Sum => 882677 ; Access Time => 1.924 seconds\n"
     ]
    },
    {
     "name": "stderr",
     "output_type": "stream",
     "text": [
      "[sudo] password for carloscrg19: "
     ]
    },
    {
     "name": "stdout",
     "output_type": "stream",
     "text": [
      "  (27) Sum => 883283 ; Access Time => 1.644 seconds\n"
     ]
    },
    {
     "name": "stderr",
     "output_type": "stream",
     "text": [
      "[sudo] password for carloscrg19: "
     ]
    },
    {
     "name": "stdout",
     "output_type": "stream",
     "text": [
      "  (28) Sum => 884498 ; Access Time => 2.795 seconds\n"
     ]
    },
    {
     "name": "stderr",
     "output_type": "stream",
     "text": [
      "[sudo] password for carloscrg19: "
     ]
    },
    {
     "name": "stdout",
     "output_type": "stream",
     "text": [
      "  (29) Sum => 882289 ; Access Time => 1.731 seconds\n"
     ]
    },
    {
     "name": "stderr",
     "output_type": "stream",
     "text": [
      "[sudo] password for carloscrg19: "
     ]
    },
    {
     "name": "stdout",
     "output_type": "stream",
     "text": [
      "  (30) Sum => 871242 ; Access Time => 1.64 seconds\n"
     ]
    },
    {
     "name": "stderr",
     "output_type": "stream",
     "text": [
      "[sudo] password for carloscrg19: "
     ]
    },
    {
     "name": "stdout",
     "output_type": "stream",
     "text": [
      "  (31) Sum => 881690 ; Access Time => 2.821 seconds\n"
     ]
    },
    {
     "name": "stderr",
     "output_type": "stream",
     "text": [
      "[sudo] password for carloscrg19: "
     ]
    },
    {
     "name": "stdout",
     "output_type": "stream",
     "text": [
      "  (32) Sum => 881734 ; Access Time => 2.519 seconds\n"
     ]
    },
    {
     "name": "stderr",
     "output_type": "stream",
     "text": [
      "[sudo] password for carloscrg19: "
     ]
    },
    {
     "name": "stdout",
     "output_type": "stream",
     "text": [
      "  (33) Sum => 885439 ; Access Time => 1.949 seconds\n"
     ]
    },
    {
     "name": "stderr",
     "output_type": "stream",
     "text": [
      "[sudo] password for carloscrg19: "
     ]
    },
    {
     "name": "stdout",
     "output_type": "stream",
     "text": [
      "  (34) Sum => 879164 ; Access Time => 1.708 seconds\n"
     ]
    },
    {
     "name": "stderr",
     "output_type": "stream",
     "text": [
      "[sudo] password for carloscrg19: "
     ]
    },
    {
     "name": "stdout",
     "output_type": "stream",
     "text": [
      "  (35) Sum => 880717 ; Access Time => 1.751 seconds\n"
     ]
    },
    {
     "name": "stderr",
     "output_type": "stream",
     "text": [
      "[sudo] password for carloscrg19: "
     ]
    },
    {
     "name": "stdout",
     "output_type": "stream",
     "text": [
      "  (36) Sum => 878335 ; Access Time => 2.601 seconds\n"
     ]
    },
    {
     "name": "stderr",
     "output_type": "stream",
     "text": [
      "[sudo] password for carloscrg19: "
     ]
    },
    {
     "name": "stdout",
     "output_type": "stream",
     "text": [
      "  (37) Sum => 873154 ; Access Time => 1.843 seconds\n"
     ]
    },
    {
     "name": "stderr",
     "output_type": "stream",
     "text": [
      "[sudo] password for carloscrg19: "
     ]
    },
    {
     "name": "stdout",
     "output_type": "stream",
     "text": [
      "  (38) Sum => 879193 ; Access Time => 1.78 seconds\n"
     ]
    },
    {
     "name": "stderr",
     "output_type": "stream",
     "text": [
      "[sudo] password for carloscrg19: "
     ]
    },
    {
     "name": "stdout",
     "output_type": "stream",
     "text": [
      "  (39) Sum => 884035 ; Access Time => 2.408 seconds\n"
     ]
    },
    {
     "name": "stderr",
     "output_type": "stream",
     "text": [
      "[sudo] password for carloscrg19: "
     ]
    },
    {
     "name": "stdout",
     "output_type": "stream",
     "text": [
      "  (40) Sum => 877591 ; Access Time => 1.726 seconds\n"
     ]
    },
    {
     "name": "stderr",
     "output_type": "stream",
     "text": [
      "[sudo] password for carloscrg19: "
     ]
    },
    {
     "name": "stdout",
     "output_type": "stream",
     "text": [
      "  (41) Sum => 883916 ; Access Time => 1.737 seconds\n"
     ]
    },
    {
     "name": "stderr",
     "output_type": "stream",
     "text": [
      "[sudo] password for carloscrg19: "
     ]
    },
    {
     "name": "stdout",
     "output_type": "stream",
     "text": [
      "  (42) Sum => 881009 ; Access Time => 1.616 seconds\n"
     ]
    },
    {
     "name": "stderr",
     "output_type": "stream",
     "text": [
      "[sudo] password for carloscrg19: "
     ]
    },
    {
     "name": "stdout",
     "output_type": "stream",
     "text": [
      "  (43) Sum => 880853 ; Access Time => 1.853 seconds\n"
     ]
    },
    {
     "name": "stderr",
     "output_type": "stream",
     "text": [
      "[sudo] password for carloscrg19: "
     ]
    },
    {
     "name": "stdout",
     "output_type": "stream",
     "text": [
      "  (44) Sum => 875575 ; Access Time => 2.456 seconds\n"
     ]
    },
    {
     "name": "stderr",
     "output_type": "stream",
     "text": [
      "[sudo] password for carloscrg19: "
     ]
    },
    {
     "name": "stdout",
     "output_type": "stream",
     "text": [
      "  (45) Sum => 882040 ; Access Time => 1.792 seconds\n"
     ]
    },
    {
     "name": "stderr",
     "output_type": "stream",
     "text": [
      "[sudo] password for carloscrg19: "
     ]
    },
    {
     "name": "stdout",
     "output_type": "stream",
     "text": [
      "  (46) Sum => 881661 ; Access Time => 1.769 seconds\n"
     ]
    },
    {
     "name": "stderr",
     "output_type": "stream",
     "text": [
      "[sudo] password for carloscrg19: "
     ]
    },
    {
     "name": "stdout",
     "output_type": "stream",
     "text": [
      "  (47) Sum => 884328 ; Access Time => 1.624 seconds\n"
     ]
    },
    {
     "name": "stderr",
     "output_type": "stream",
     "text": [
      "[sudo] password for carloscrg19: "
     ]
    },
    {
     "name": "stdout",
     "output_type": "stream",
     "text": [
      "  (48) Sum => 883289 ; Access Time => 1.611 seconds\n"
     ]
    },
    {
     "name": "stderr",
     "output_type": "stream",
     "text": [
      "[sudo] password for carloscrg19: "
     ]
    },
    {
     "name": "stdout",
     "output_type": "stream",
     "text": [
      "  (49) Sum => 879453 ; Access Time => 2.563 seconds\n"
     ]
    },
    {
     "name": "stderr",
     "output_type": "stream",
     "text": [
      "[sudo] password for carloscrg19: "
     ]
    },
    {
     "name": "stdout",
     "output_type": "stream",
     "text": [
      "  (50) Sum => 879768 ; Access Time => 1.707 seconds\n"
     ]
    },
    {
     "name": "stderr",
     "output_type": "stream",
     "text": [
      "[sudo] password for carloscrg19: "
     ]
    },
    {
     "name": "stdout",
     "output_type": "stream",
     "text": [
      "  (51) Sum => 881314 ; Access Time => 2.619 seconds\n"
     ]
    },
    {
     "name": "stderr",
     "output_type": "stream",
     "text": [
      "[sudo] password for carloscrg19: "
     ]
    },
    {
     "name": "stdout",
     "output_type": "stream",
     "text": [
      "  (52) Sum => 881124 ; Access Time => 2.126 seconds\n"
     ]
    },
    {
     "name": "stderr",
     "output_type": "stream",
     "text": [
      "[sudo] password for carloscrg19: "
     ]
    },
    {
     "name": "stdout",
     "output_type": "stream",
     "text": [
      "  (53) Sum => 881310 ; Access Time => 1.7 seconds\n"
     ]
    },
    {
     "name": "stderr",
     "output_type": "stream",
     "text": [
      "[sudo] password for carloscrg19: "
     ]
    },
    {
     "name": "stdout",
     "output_type": "stream",
     "text": [
      "  (54) Sum => 879402 ; Access Time => 2.087 seconds\n"
     ]
    },
    {
     "name": "stderr",
     "output_type": "stream",
     "text": [
      "[sudo] password for carloscrg19: "
     ]
    },
    {
     "name": "stdout",
     "output_type": "stream",
     "text": [
      "  (55) Sum => 877691 ; Access Time => 2.457 seconds\n"
     ]
    },
    {
     "name": "stderr",
     "output_type": "stream",
     "text": [
      "[sudo] password for carloscrg19: "
     ]
    },
    {
     "name": "stdout",
     "output_type": "stream",
     "text": [
      "  (56) Sum => 876618 ; Access Time => 2.794 seconds\n"
     ]
    },
    {
     "name": "stderr",
     "output_type": "stream",
     "text": [
      "[sudo] password for carloscrg19: "
     ]
    },
    {
     "name": "stdout",
     "output_type": "stream",
     "text": [
      "  (57) Sum => 883312 ; Access Time => 1.905 seconds\n"
     ]
    },
    {
     "name": "stderr",
     "output_type": "stream",
     "text": [
      "[sudo] password for carloscrg19: "
     ]
    },
    {
     "name": "stdout",
     "output_type": "stream",
     "text": [
      "  (58) Sum => 874701 ; Access Time => 2.501 seconds\n"
     ]
    },
    {
     "name": "stderr",
     "output_type": "stream",
     "text": [
      "[sudo] password for carloscrg19: "
     ]
    },
    {
     "name": "stdout",
     "output_type": "stream",
     "text": [
      "  (59) Sum => 881464 ; Access Time => 1.673 seconds\n"
     ]
    },
    {
     "name": "stderr",
     "output_type": "stream",
     "text": [
      "[sudo] password for carloscrg19: "
     ]
    },
    {
     "name": "stdout",
     "output_type": "stream",
     "text": [
      "  (60) Sum => 882510 ; Access Time => 2.797 seconds\n"
     ]
    },
    {
     "name": "stderr",
     "output_type": "stream",
     "text": [
      "[sudo] password for carloscrg19: "
     ]
    },
    {
     "name": "stdout",
     "output_type": "stream",
     "text": [
      "  (61) Sum => 879999 ; Access Time => 2.433 seconds\n"
     ]
    },
    {
     "name": "stderr",
     "output_type": "stream",
     "text": [
      "[sudo] password for carloscrg19: "
     ]
    },
    {
     "name": "stdout",
     "output_type": "stream",
     "text": [
      "  (62) Sum => 884621 ; Access Time => 2.475 seconds\n"
     ]
    },
    {
     "name": "stderr",
     "output_type": "stream",
     "text": [
      "[sudo] password for carloscrg19: "
     ]
    },
    {
     "name": "stdout",
     "output_type": "stream",
     "text": [
      "  (63) Sum => 882489 ; Access Time => 2.623 seconds\n"
     ]
    },
    {
     "name": "stderr",
     "output_type": "stream",
     "text": [
      "[sudo] password for carloscrg19: "
     ]
    },
    {
     "name": "stdout",
     "output_type": "stream",
     "text": [
      "  (64) Sum => 878117 ; Access Time => 2.662 seconds\n"
     ]
    },
    {
     "name": "stderr",
     "output_type": "stream",
     "text": [
      "[sudo] password for carloscrg19: "
     ]
    },
    {
     "name": "stdout",
     "output_type": "stream",
     "text": [
      "  (65) Sum => 878990 ; Access Time => 2.19 seconds\n"
     ]
    },
    {
     "name": "stderr",
     "output_type": "stream",
     "text": [
      "[sudo] password for carloscrg19: "
     ]
    },
    {
     "name": "stdout",
     "output_type": "stream",
     "text": [
      "  (66) Sum => 886088 ; Access Time => 1.708 seconds\n"
     ]
    },
    {
     "name": "stderr",
     "output_type": "stream",
     "text": [
      "[sudo] password for carloscrg19: "
     ]
    },
    {
     "name": "stdout",
     "output_type": "stream",
     "text": [
      "  (67) Sum => 874992 ; Access Time => 2.518 seconds\n"
     ]
    },
    {
     "name": "stderr",
     "output_type": "stream",
     "text": [
      "[sudo] password for carloscrg19: "
     ]
    },
    {
     "name": "stdout",
     "output_type": "stream",
     "text": [
      "  (68) Sum => 878202 ; Access Time => 1.682 seconds\n"
     ]
    },
    {
     "name": "stderr",
     "output_type": "stream",
     "text": [
      "[sudo] password for carloscrg19: "
     ]
    },
    {
     "name": "stdout",
     "output_type": "stream",
     "text": [
      "  (69) Sum => 882919 ; Access Time => 1.801 seconds\n"
     ]
    },
    {
     "name": "stderr",
     "output_type": "stream",
     "text": [
      "[sudo] password for carloscrg19: "
     ]
    },
    {
     "name": "stdout",
     "output_type": "stream",
     "text": [
      "  (70) Sum => 883504 ; Access Time => 2.762 seconds\n"
     ]
    },
    {
     "name": "stderr",
     "output_type": "stream",
     "text": [
      "[sudo] password for carloscrg19: "
     ]
    },
    {
     "name": "stdout",
     "output_type": "stream",
     "text": [
      "  (71) Sum => 882083 ; Access Time => 1.751 seconds\n"
     ]
    },
    {
     "name": "stderr",
     "output_type": "stream",
     "text": [
      "[sudo] password for carloscrg19: "
     ]
    },
    {
     "name": "stdout",
     "output_type": "stream",
     "text": [
      "  (72) Sum => 877911 ; Access Time => 1.75 seconds\n"
     ]
    },
    {
     "name": "stderr",
     "output_type": "stream",
     "text": [
      "[sudo] password for carloscrg19: "
     ]
    },
    {
     "name": "stdout",
     "output_type": "stream",
     "text": [
      "  (73) Sum => 879443 ; Access Time => 1.652 seconds\n"
     ]
    },
    {
     "name": "stderr",
     "output_type": "stream",
     "text": [
      "[sudo] password for carloscrg19: "
     ]
    },
    {
     "name": "stdout",
     "output_type": "stream",
     "text": [
      "  (74) Sum => 881430 ; Access Time => 2.505 seconds\n"
     ]
    },
    {
     "name": "stderr",
     "output_type": "stream",
     "text": [
      "[sudo] password for carloscrg19: "
     ]
    },
    {
     "name": "stdout",
     "output_type": "stream",
     "text": [
      "  (75) Sum => 880029 ; Access Time => 1.614 seconds\n"
     ]
    },
    {
     "name": "stderr",
     "output_type": "stream",
     "text": [
      "[sudo] password for carloscrg19: "
     ]
    },
    {
     "name": "stdout",
     "output_type": "stream",
     "text": [
      "  (76) Sum => 875563 ; Access Time => 2.221 seconds\n"
     ]
    },
    {
     "name": "stderr",
     "output_type": "stream",
     "text": [
      "[sudo] password for carloscrg19: "
     ]
    },
    {
     "name": "stdout",
     "output_type": "stream",
     "text": [
      "  (77) Sum => 879459 ; Access Time => 2.759 seconds\n"
     ]
    },
    {
     "name": "stderr",
     "output_type": "stream",
     "text": [
      "[sudo] password for carloscrg19: "
     ]
    },
    {
     "name": "stdout",
     "output_type": "stream",
     "text": [
      "  (78) Sum => 880000 ; Access Time => 2.725 seconds\n"
     ]
    },
    {
     "name": "stderr",
     "output_type": "stream",
     "text": [
      "[sudo] password for carloscrg19: "
     ]
    },
    {
     "name": "stdout",
     "output_type": "stream",
     "text": [
      "  (79) Sum => 884868 ; Access Time => 1.75 seconds\n"
     ]
    },
    {
     "name": "stderr",
     "output_type": "stream",
     "text": [
      "[sudo] password for carloscrg19: "
     ]
    },
    {
     "name": "stdout",
     "output_type": "stream",
     "text": [
      "  (80) Sum => 880586 ; Access Time => 1.786 seconds\n"
     ]
    },
    {
     "name": "stderr",
     "output_type": "stream",
     "text": [
      "[sudo] password for carloscrg19: "
     ]
    },
    {
     "name": "stdout",
     "output_type": "stream",
     "text": [
      "  (81) Sum => 879638 ; Access Time => 1.62 seconds\n"
     ]
    },
    {
     "name": "stderr",
     "output_type": "stream",
     "text": [
      "[sudo] password for carloscrg19: "
     ]
    },
    {
     "name": "stdout",
     "output_type": "stream",
     "text": [
      "  (82) Sum => 883033 ; Access Time => 2.866 seconds\n"
     ]
    },
    {
     "name": "stderr",
     "output_type": "stream",
     "text": [
      "[sudo] password for carloscrg19: "
     ]
    },
    {
     "name": "stdout",
     "output_type": "stream",
     "text": [
      "  (83) Sum => 883287 ; Access Time => 1.763 seconds\n"
     ]
    },
    {
     "name": "stderr",
     "output_type": "stream",
     "text": [
      "[sudo] password for carloscrg19: "
     ]
    },
    {
     "name": "stdout",
     "output_type": "stream",
     "text": [
      "  (84) Sum => 878711 ; Access Time => 2.703 seconds\n"
     ]
    },
    {
     "name": "stderr",
     "output_type": "stream",
     "text": [
      "[sudo] password for carloscrg19: "
     ]
    },
    {
     "name": "stdout",
     "output_type": "stream",
     "text": [
      "  (85) Sum => 877294 ; Access Time => 2.275 seconds\n"
     ]
    },
    {
     "name": "stderr",
     "output_type": "stream",
     "text": [
      "[sudo] password for carloscrg19: "
     ]
    },
    {
     "name": "stdout",
     "output_type": "stream",
     "text": [
      "  (86) Sum => 884438 ; Access Time => 2.826 seconds\n"
     ]
    },
    {
     "name": "stderr",
     "output_type": "stream",
     "text": [
      "[sudo] password for carloscrg19: "
     ]
    },
    {
     "name": "stdout",
     "output_type": "stream",
     "text": [
      "  (87) Sum => 885536 ; Access Time => 2.835 seconds\n"
     ]
    },
    {
     "name": "stderr",
     "output_type": "stream",
     "text": [
      "[sudo] password for carloscrg19: "
     ]
    },
    {
     "name": "stdout",
     "output_type": "stream",
     "text": [
      "  (88) Sum => 876025 ; Access Time => 1.678 seconds\n"
     ]
    },
    {
     "name": "stderr",
     "output_type": "stream",
     "text": [
      "[sudo] password for carloscrg19: "
     ]
    },
    {
     "name": "stdout",
     "output_type": "stream",
     "text": [
      "  (89) Sum => 877273 ; Access Time => 2.216 seconds\n"
     ]
    },
    {
     "name": "stderr",
     "output_type": "stream",
     "text": [
      "[sudo] password for carloscrg19: "
     ]
    },
    {
     "name": "stdout",
     "output_type": "stream",
     "text": [
      "  (90) Sum => 886376 ; Access Time => 2.797 seconds\n"
     ]
    },
    {
     "name": "stderr",
     "output_type": "stream",
     "text": [
      "[sudo] password for carloscrg19: "
     ]
    },
    {
     "name": "stdout",
     "output_type": "stream",
     "text": [
      "  (91) Sum => 884462 ; Access Time => 2.517 seconds\n"
     ]
    },
    {
     "name": "stderr",
     "output_type": "stream",
     "text": [
      "[sudo] password for carloscrg19: "
     ]
    },
    {
     "name": "stdout",
     "output_type": "stream",
     "text": [
      "  (92) Sum => 878782 ; Access Time => 1.637 seconds\n"
     ]
    },
    {
     "name": "stderr",
     "output_type": "stream",
     "text": [
      "[sudo] password for carloscrg19: "
     ]
    },
    {
     "name": "stdout",
     "output_type": "stream",
     "text": [
      "  (93) Sum => 882029 ; Access Time => 2.493 seconds\n"
     ]
    },
    {
     "name": "stderr",
     "output_type": "stream",
     "text": [
      "[sudo] password for carloscrg19: "
     ]
    },
    {
     "name": "stdout",
     "output_type": "stream",
     "text": [
      "  (94) Sum => 882758 ; Access Time => 2.658 seconds\n"
     ]
    },
    {
     "name": "stderr",
     "output_type": "stream",
     "text": [
      "[sudo] password for carloscrg19: "
     ]
    },
    {
     "name": "stdout",
     "output_type": "stream",
     "text": [
      "  (95) Sum => 881461 ; Access Time => 1.743 seconds\n"
     ]
    },
    {
     "name": "stderr",
     "output_type": "stream",
     "text": [
      "[sudo] password for carloscrg19: "
     ]
    },
    {
     "name": "stdout",
     "output_type": "stream",
     "text": [
      "  (96) Sum => 880927 ; Access Time => 1.841 seconds\n"
     ]
    },
    {
     "name": "stderr",
     "output_type": "stream",
     "text": [
      "[sudo] password for carloscrg19: "
     ]
    },
    {
     "name": "stdout",
     "output_type": "stream",
     "text": [
      "  (97) Sum => 880460 ; Access Time => 1.692 seconds\n"
     ]
    },
    {
     "name": "stderr",
     "output_type": "stream",
     "text": [
      "[sudo] password for carloscrg19: "
     ]
    },
    {
     "name": "stdout",
     "output_type": "stream",
     "text": [
      "  (98) Sum => 877499 ; Access Time => 2.217 seconds\n"
     ]
    },
    {
     "name": "stderr",
     "output_type": "stream",
     "text": [
      "[sudo] password for carloscrg19: "
     ]
    },
    {
     "name": "stdout",
     "output_type": "stream",
     "text": [
      "  (99) Sum => 883472 ; Access Time => 2.837 seconds\n"
     ]
    },
    {
     "name": "stderr",
     "output_type": "stream",
     "text": [
      "[sudo] password for carloscrg19: "
     ]
    },
    {
     "name": "stdout",
     "output_type": "stream",
     "text": [
      "  (100) Sum => 883219 ; Access Time => 2.575 seconds\n"
     ]
    },
    {
     "name": "stderr",
     "output_type": "stream",
     "text": [
      "[sudo] password for carloscrg19: [sudo] password for carloscrg19: "
     ]
    },
    {
     "name": "stdout",
     "output_type": "stream",
     "text": [
      "Block size => 1M:\n"
     ]
    },
    {
     "name": "stderr",
     "output_type": "stream",
     "text": [
      "[sudo] password for carloscrg19: "
     ]
    },
    {
     "name": "stdout",
     "output_type": "stream",
     "text": [
      "  (1) Sum => 881009 ; Access Time => 1.695 seconds\n"
     ]
    },
    {
     "name": "stderr",
     "output_type": "stream",
     "text": [
      "[sudo] password for carloscrg19: "
     ]
    },
    {
     "name": "stdout",
     "output_type": "stream",
     "text": [
      "  (2) Sum => 882450 ; Access Time => 1.777 seconds\n"
     ]
    },
    {
     "name": "stderr",
     "output_type": "stream",
     "text": [
      "[sudo] password for carloscrg19: "
     ]
    },
    {
     "name": "stdout",
     "output_type": "stream",
     "text": [
      "  (3) Sum => 881389 ; Access Time => 1.771 seconds\n"
     ]
    },
    {
     "name": "stderr",
     "output_type": "stream",
     "text": [
      "[sudo] password for carloscrg19: "
     ]
    },
    {
     "name": "stdout",
     "output_type": "stream",
     "text": [
      "  (4) Sum => 882381 ; Access Time => 1.732 seconds\n"
     ]
    },
    {
     "name": "stderr",
     "output_type": "stream",
     "text": [
      "[sudo] password for carloscrg19: "
     ]
    },
    {
     "name": "stdout",
     "output_type": "stream",
     "text": [
      "  (5) Sum => 881907 ; Access Time => 1.719 seconds\n"
     ]
    },
    {
     "name": "stderr",
     "output_type": "stream",
     "text": [
      "[sudo] password for carloscrg19: "
     ]
    },
    {
     "name": "stdout",
     "output_type": "stream",
     "text": [
      "  (6) Sum => 887973 ; Access Time => 1.786 seconds\n"
     ]
    },
    {
     "name": "stderr",
     "output_type": "stream",
     "text": [
      "[sudo] password for carloscrg19: "
     ]
    },
    {
     "name": "stdout",
     "output_type": "stream",
     "text": [
      "  (7) Sum => 882319 ; Access Time => 1.724 seconds\n"
     ]
    },
    {
     "name": "stderr",
     "output_type": "stream",
     "text": [
      "[sudo] password for carloscrg19: "
     ]
    },
    {
     "name": "stdout",
     "output_type": "stream",
     "text": [
      "  (8) Sum => 882283 ; Access Time => 1.77 seconds\n"
     ]
    },
    {
     "name": "stderr",
     "output_type": "stream",
     "text": [
      "[sudo] password for carloscrg19: "
     ]
    },
    {
     "name": "stdout",
     "output_type": "stream",
     "text": [
      "  (9) Sum => 886572 ; Access Time => 1.75 seconds\n"
     ]
    },
    {
     "name": "stderr",
     "output_type": "stream",
     "text": [
      "[sudo] password for carloscrg19: "
     ]
    },
    {
     "name": "stdout",
     "output_type": "stream",
     "text": [
      "  (10) Sum => 873616 ; Access Time => 1.721 seconds\n"
     ]
    },
    {
     "name": "stderr",
     "output_type": "stream",
     "text": [
      "[sudo] password for carloscrg19: "
     ]
    },
    {
     "name": "stdout",
     "output_type": "stream",
     "text": [
      "  (11) Sum => 881464 ; Access Time => 1.742 seconds\n"
     ]
    },
    {
     "name": "stderr",
     "output_type": "stream",
     "text": [
      "[sudo] password for carloscrg19: "
     ]
    },
    {
     "name": "stdout",
     "output_type": "stream",
     "text": [
      "  (12) Sum => 878293 ; Access Time => 1.692 seconds\n"
     ]
    },
    {
     "name": "stderr",
     "output_type": "stream",
     "text": [
      "[sudo] password for carloscrg19: "
     ]
    },
    {
     "name": "stdout",
     "output_type": "stream",
     "text": [
      "  (13) Sum => 883999 ; Access Time => 1.678 seconds\n"
     ]
    },
    {
     "name": "stderr",
     "output_type": "stream",
     "text": [
      "[sudo] password for carloscrg19: "
     ]
    },
    {
     "name": "stdout",
     "output_type": "stream",
     "text": [
      "  (14) Sum => 885519 ; Access Time => 1.764 seconds\n"
     ]
    },
    {
     "name": "stderr",
     "output_type": "stream",
     "text": [
      "[sudo] password for carloscrg19: "
     ]
    },
    {
     "name": "stdout",
     "output_type": "stream",
     "text": [
      "  (15) Sum => 883108 ; Access Time => 1.682 seconds\n"
     ]
    },
    {
     "name": "stderr",
     "output_type": "stream",
     "text": [
      "[sudo] password for carloscrg19: "
     ]
    },
    {
     "name": "stdout",
     "output_type": "stream",
     "text": [
      "  (16) Sum => 877613 ; Access Time => 1.807 seconds\n"
     ]
    },
    {
     "name": "stderr",
     "output_type": "stream",
     "text": [
      "[sudo] password for carloscrg19: "
     ]
    },
    {
     "name": "stdout",
     "output_type": "stream",
     "text": [
      "  (17) Sum => 884107 ; Access Time => 1.822 seconds\n"
     ]
    },
    {
     "name": "stderr",
     "output_type": "stream",
     "text": [
      "[sudo] password for carloscrg19: "
     ]
    },
    {
     "name": "stdout",
     "output_type": "stream",
     "text": [
      "  (18) Sum => 884452 ; Access Time => 1.782 seconds\n"
     ]
    },
    {
     "name": "stderr",
     "output_type": "stream",
     "text": [
      "[sudo] password for carloscrg19: "
     ]
    },
    {
     "name": "stdout",
     "output_type": "stream",
     "text": [
      "  (19) Sum => 882595 ; Access Time => 1.697 seconds\n"
     ]
    },
    {
     "name": "stderr",
     "output_type": "stream",
     "text": [
      "[sudo] password for carloscrg19: "
     ]
    },
    {
     "name": "stdout",
     "output_type": "stream",
     "text": [
      "  (20) Sum => 882489 ; Access Time => 1.681 seconds\n"
     ]
    },
    {
     "name": "stderr",
     "output_type": "stream",
     "text": [
      "[sudo] password for carloscrg19: "
     ]
    },
    {
     "name": "stdout",
     "output_type": "stream",
     "text": [
      "  (21) Sum => 880589 ; Access Time => 1.797 seconds\n"
     ]
    },
    {
     "name": "stderr",
     "output_type": "stream",
     "text": [
      "[sudo] password for carloscrg19: "
     ]
    },
    {
     "name": "stdout",
     "output_type": "stream",
     "text": [
      "  (22) Sum => 874922 ; Access Time => 1.804 seconds\n"
     ]
    },
    {
     "name": "stderr",
     "output_type": "stream",
     "text": [
      "[sudo] password for carloscrg19: "
     ]
    },
    {
     "name": "stdout",
     "output_type": "stream",
     "text": [
      "  (23) Sum => 878737 ; Access Time => 1.782 seconds\n"
     ]
    },
    {
     "name": "stderr",
     "output_type": "stream",
     "text": [
      "[sudo] password for carloscrg19: "
     ]
    },
    {
     "name": "stdout",
     "output_type": "stream",
     "text": [
      "  (24) Sum => 882483 ; Access Time => 1.758 seconds\n"
     ]
    },
    {
     "name": "stderr",
     "output_type": "stream",
     "text": [
      "[sudo] password for carloscrg19: "
     ]
    },
    {
     "name": "stdout",
     "output_type": "stream",
     "text": [
      "  (25) Sum => 884621 ; Access Time => 1.864 seconds\n"
     ]
    },
    {
     "name": "stderr",
     "output_type": "stream",
     "text": [
      "[sudo] password for carloscrg19: "
     ]
    },
    {
     "name": "stdout",
     "output_type": "stream",
     "text": [
      "  (26) Sum => 882677 ; Access Time => 1.754 seconds\n"
     ]
    },
    {
     "name": "stderr",
     "output_type": "stream",
     "text": [
      "[sudo] password for carloscrg19: "
     ]
    },
    {
     "name": "stdout",
     "output_type": "stream",
     "text": [
      "  (27) Sum => 883283 ; Access Time => 1.774 seconds\n"
     ]
    },
    {
     "name": "stderr",
     "output_type": "stream",
     "text": [
      "[sudo] password for carloscrg19: "
     ]
    },
    {
     "name": "stdout",
     "output_type": "stream",
     "text": [
      "  (28) Sum => 884498 ; Access Time => 1.809 seconds\n"
     ]
    },
    {
     "name": "stderr",
     "output_type": "stream",
     "text": [
      "[sudo] password for carloscrg19: "
     ]
    },
    {
     "name": "stdout",
     "output_type": "stream",
     "text": [
      "  (29) Sum => 882289 ; Access Time => 1.759 seconds\n"
     ]
    },
    {
     "name": "stderr",
     "output_type": "stream",
     "text": [
      "[sudo] password for carloscrg19: "
     ]
    },
    {
     "name": "stdout",
     "output_type": "stream",
     "text": [
      "  (30) Sum => 871242 ; Access Time => 1.634 seconds\n"
     ]
    },
    {
     "name": "stderr",
     "output_type": "stream",
     "text": [
      "[sudo] password for carloscrg19: "
     ]
    },
    {
     "name": "stdout",
     "output_type": "stream",
     "text": [
      "  (31) Sum => 881690 ; Access Time => 1.699 seconds\n"
     ]
    },
    {
     "name": "stderr",
     "output_type": "stream",
     "text": [
      "[sudo] password for carloscrg19: "
     ]
    },
    {
     "name": "stdout",
     "output_type": "stream",
     "text": [
      "  (32) Sum => 881734 ; Access Time => 1.797 seconds\n"
     ]
    },
    {
     "name": "stderr",
     "output_type": "stream",
     "text": [
      "[sudo] password for carloscrg19: "
     ]
    },
    {
     "name": "stdout",
     "output_type": "stream",
     "text": [
      "  (33) Sum => 885439 ; Access Time => 1.764 seconds\n"
     ]
    },
    {
     "name": "stderr",
     "output_type": "stream",
     "text": [
      "[sudo] password for carloscrg19: "
     ]
    },
    {
     "name": "stdout",
     "output_type": "stream",
     "text": [
      "  (34) Sum => 879164 ; Access Time => 1.792 seconds\n"
     ]
    },
    {
     "name": "stderr",
     "output_type": "stream",
     "text": [
      "[sudo] password for carloscrg19: "
     ]
    },
    {
     "name": "stdout",
     "output_type": "stream",
     "text": [
      "  (35) Sum => 880717 ; Access Time => 1.729 seconds\n"
     ]
    },
    {
     "name": "stderr",
     "output_type": "stream",
     "text": [
      "[sudo] password for carloscrg19: "
     ]
    },
    {
     "name": "stdout",
     "output_type": "stream",
     "text": [
      "  (36) Sum => 878335 ; Access Time => 1.74 seconds\n"
     ]
    },
    {
     "name": "stderr",
     "output_type": "stream",
     "text": [
      "[sudo] password for carloscrg19: "
     ]
    },
    {
     "name": "stdout",
     "output_type": "stream",
     "text": [
      "  (37) Sum => 873154 ; Access Time => 1.722 seconds\n"
     ]
    },
    {
     "name": "stderr",
     "output_type": "stream",
     "text": [
      "[sudo] password for carloscrg19: "
     ]
    },
    {
     "name": "stdout",
     "output_type": "stream",
     "text": [
      "  (38) Sum => 879193 ; Access Time => 1.773 seconds\n"
     ]
    },
    {
     "name": "stderr",
     "output_type": "stream",
     "text": [
      "[sudo] password for carloscrg19: "
     ]
    },
    {
     "name": "stdout",
     "output_type": "stream",
     "text": [
      "  (39) Sum => 884035 ; Access Time => 1.775 seconds\n"
     ]
    },
    {
     "name": "stderr",
     "output_type": "stream",
     "text": [
      "[sudo] password for carloscrg19: "
     ]
    },
    {
     "name": "stdout",
     "output_type": "stream",
     "text": [
      "  (40) Sum => 877591 ; Access Time => 1.729 seconds\n"
     ]
    },
    {
     "name": "stderr",
     "output_type": "stream",
     "text": [
      "[sudo] password for carloscrg19: "
     ]
    },
    {
     "name": "stdout",
     "output_type": "stream",
     "text": [
      "  (41) Sum => 883916 ; Access Time => 1.778 seconds\n"
     ]
    },
    {
     "name": "stderr",
     "output_type": "stream",
     "text": [
      "[sudo] password for carloscrg19: "
     ]
    },
    {
     "name": "stdout",
     "output_type": "stream",
     "text": [
      "  (42) Sum => 881009 ; Access Time => 1.758 seconds\n"
     ]
    },
    {
     "name": "stderr",
     "output_type": "stream",
     "text": [
      "[sudo] password for carloscrg19: "
     ]
    },
    {
     "name": "stdout",
     "output_type": "stream",
     "text": [
      "  (43) Sum => 880853 ; Access Time => 1.74 seconds\n"
     ]
    },
    {
     "name": "stderr",
     "output_type": "stream",
     "text": [
      "[sudo] password for carloscrg19: "
     ]
    },
    {
     "name": "stdout",
     "output_type": "stream",
     "text": [
      "  (44) Sum => 875575 ; Access Time => 1.716 seconds\n"
     ]
    },
    {
     "name": "stderr",
     "output_type": "stream",
     "text": [
      "[sudo] password for carloscrg19: "
     ]
    },
    {
     "name": "stdout",
     "output_type": "stream",
     "text": [
      "  (45) Sum => 882040 ; Access Time => 1.765 seconds\n"
     ]
    },
    {
     "name": "stderr",
     "output_type": "stream",
     "text": [
      "[sudo] password for carloscrg19: "
     ]
    },
    {
     "name": "stdout",
     "output_type": "stream",
     "text": [
      "  (46) Sum => 881661 ; Access Time => 1.694 seconds\n"
     ]
    },
    {
     "name": "stderr",
     "output_type": "stream",
     "text": [
      "[sudo] password for carloscrg19: "
     ]
    },
    {
     "name": "stdout",
     "output_type": "stream",
     "text": [
      "  (47) Sum => 884328 ; Access Time => 1.778 seconds\n"
     ]
    },
    {
     "name": "stderr",
     "output_type": "stream",
     "text": [
      "[sudo] password for carloscrg19: "
     ]
    },
    {
     "name": "stdout",
     "output_type": "stream",
     "text": [
      "  (48) Sum => 883289 ; Access Time => 1.805 seconds\n"
     ]
    },
    {
     "name": "stderr",
     "output_type": "stream",
     "text": [
      "[sudo] password for carloscrg19: "
     ]
    },
    {
     "name": "stdout",
     "output_type": "stream",
     "text": [
      "  (49) Sum => 879453 ; Access Time => 1.723 seconds\n"
     ]
    },
    {
     "name": "stderr",
     "output_type": "stream",
     "text": [
      "[sudo] password for carloscrg19: "
     ]
    },
    {
     "name": "stdout",
     "output_type": "stream",
     "text": [
      "  (50) Sum => 879768 ; Access Time => 1.747 seconds\n"
     ]
    },
    {
     "name": "stderr",
     "output_type": "stream",
     "text": [
      "[sudo] password for carloscrg19: "
     ]
    },
    {
     "name": "stdout",
     "output_type": "stream",
     "text": [
      "  (51) Sum => 881314 ; Access Time => 1.71 seconds\n"
     ]
    },
    {
     "name": "stderr",
     "output_type": "stream",
     "text": [
      "[sudo] password for carloscrg19: "
     ]
    },
    {
     "name": "stdout",
     "output_type": "stream",
     "text": [
      "  (52) Sum => 881124 ; Access Time => 1.755 seconds\n"
     ]
    },
    {
     "name": "stderr",
     "output_type": "stream",
     "text": [
      "[sudo] password for carloscrg19: "
     ]
    },
    {
     "name": "stdout",
     "output_type": "stream",
     "text": [
      "  (53) Sum => 881310 ; Access Time => 1.707 seconds\n"
     ]
    },
    {
     "name": "stderr",
     "output_type": "stream",
     "text": [
      "[sudo] password for carloscrg19: "
     ]
    },
    {
     "name": "stdout",
     "output_type": "stream",
     "text": [
      "  (54) Sum => 879402 ; Access Time => 1.696 seconds\n"
     ]
    },
    {
     "name": "stderr",
     "output_type": "stream",
     "text": [
      "[sudo] password for carloscrg19: "
     ]
    },
    {
     "name": "stdout",
     "output_type": "stream",
     "text": [
      "  (55) Sum => 877691 ; Access Time => 1.774 seconds\n"
     ]
    },
    {
     "name": "stderr",
     "output_type": "stream",
     "text": [
      "[sudo] password for carloscrg19: "
     ]
    },
    {
     "name": "stdout",
     "output_type": "stream",
     "text": [
      "  (56) Sum => 876618 ; Access Time => 1.773 seconds\n"
     ]
    },
    {
     "name": "stderr",
     "output_type": "stream",
     "text": [
      "[sudo] password for carloscrg19: "
     ]
    },
    {
     "name": "stdout",
     "output_type": "stream",
     "text": [
      "  (57) Sum => 883312 ; Access Time => 1.722 seconds\n"
     ]
    },
    {
     "name": "stderr",
     "output_type": "stream",
     "text": [
      "[sudo] password for carloscrg19: "
     ]
    },
    {
     "name": "stdout",
     "output_type": "stream",
     "text": [
      "  (58) Sum => 874701 ; Access Time => 1.744 seconds\n"
     ]
    },
    {
     "name": "stderr",
     "output_type": "stream",
     "text": [
      "[sudo] password for carloscrg19: "
     ]
    },
    {
     "name": "stdout",
     "output_type": "stream",
     "text": [
      "  (59) Sum => 881464 ; Access Time => 1.745 seconds\n"
     ]
    },
    {
     "name": "stderr",
     "output_type": "stream",
     "text": [
      "[sudo] password for carloscrg19: "
     ]
    },
    {
     "name": "stdout",
     "output_type": "stream",
     "text": [
      "  (60) Sum => 882510 ; Access Time => 1.755 seconds\n"
     ]
    },
    {
     "name": "stderr",
     "output_type": "stream",
     "text": [
      "[sudo] password for carloscrg19: "
     ]
    },
    {
     "name": "stdout",
     "output_type": "stream",
     "text": [
      "  (61) Sum => 879999 ; Access Time => 1.801 seconds\n"
     ]
    },
    {
     "name": "stderr",
     "output_type": "stream",
     "text": [
      "[sudo] password for carloscrg19: "
     ]
    },
    {
     "name": "stdout",
     "output_type": "stream",
     "text": [
      "  (62) Sum => 884621 ; Access Time => 1.759 seconds\n"
     ]
    },
    {
     "name": "stderr",
     "output_type": "stream",
     "text": [
      "[sudo] password for carloscrg19: "
     ]
    },
    {
     "name": "stdout",
     "output_type": "stream",
     "text": [
      "  (63) Sum => 882489 ; Access Time => 1.68 seconds\n"
     ]
    },
    {
     "name": "stderr",
     "output_type": "stream",
     "text": [
      "[sudo] password for carloscrg19: "
     ]
    },
    {
     "name": "stdout",
     "output_type": "stream",
     "text": [
      "  (64) Sum => 878117 ; Access Time => 1.806 seconds\n"
     ]
    },
    {
     "name": "stderr",
     "output_type": "stream",
     "text": [
      "[sudo] password for carloscrg19: "
     ]
    },
    {
     "name": "stdout",
     "output_type": "stream",
     "text": [
      "  (65) Sum => 878990 ; Access Time => 1.758 seconds\n"
     ]
    },
    {
     "name": "stderr",
     "output_type": "stream",
     "text": [
      "[sudo] password for carloscrg19: "
     ]
    },
    {
     "name": "stdout",
     "output_type": "stream",
     "text": [
      "  (66) Sum => 886088 ; Access Time => 1.766 seconds\n"
     ]
    },
    {
     "name": "stderr",
     "output_type": "stream",
     "text": [
      "[sudo] password for carloscrg19: "
     ]
    },
    {
     "name": "stdout",
     "output_type": "stream",
     "text": [
      "  (67) Sum => 874992 ; Access Time => 1.774 seconds\n"
     ]
    },
    {
     "name": "stderr",
     "output_type": "stream",
     "text": [
      "[sudo] password for carloscrg19: "
     ]
    },
    {
     "name": "stdout",
     "output_type": "stream",
     "text": [
      "  (68) Sum => 878202 ; Access Time => 1.786 seconds\n"
     ]
    },
    {
     "name": "stderr",
     "output_type": "stream",
     "text": [
      "[sudo] password for carloscrg19: "
     ]
    },
    {
     "name": "stdout",
     "output_type": "stream",
     "text": [
      "  (69) Sum => 882919 ; Access Time => 1.756 seconds\n"
     ]
    },
    {
     "name": "stderr",
     "output_type": "stream",
     "text": [
      "[sudo] password for carloscrg19: "
     ]
    },
    {
     "name": "stdout",
     "output_type": "stream",
     "text": [
      "  (70) Sum => 883504 ; Access Time => 1.82 seconds\n"
     ]
    },
    {
     "name": "stderr",
     "output_type": "stream",
     "text": [
      "[sudo] password for carloscrg19: "
     ]
    },
    {
     "name": "stdout",
     "output_type": "stream",
     "text": [
      "  (71) Sum => 882083 ; Access Time => 1.743 seconds\n"
     ]
    },
    {
     "name": "stderr",
     "output_type": "stream",
     "text": [
      "[sudo] password for carloscrg19: "
     ]
    },
    {
     "name": "stdout",
     "output_type": "stream",
     "text": [
      "  (72) Sum => 877911 ; Access Time => 1.761 seconds\n"
     ]
    },
    {
     "name": "stderr",
     "output_type": "stream",
     "text": [
      "[sudo] password for carloscrg19: "
     ]
    },
    {
     "name": "stdout",
     "output_type": "stream",
     "text": [
      "  (73) Sum => 879443 ; Access Time => 1.796 seconds\n"
     ]
    },
    {
     "name": "stderr",
     "output_type": "stream",
     "text": [
      "[sudo] password for carloscrg19: "
     ]
    },
    {
     "name": "stdout",
     "output_type": "stream",
     "text": [
      "  (74) Sum => 881430 ; Access Time => 1.709 seconds\n"
     ]
    },
    {
     "name": "stderr",
     "output_type": "stream",
     "text": [
      "[sudo] password for carloscrg19: "
     ]
    },
    {
     "name": "stdout",
     "output_type": "stream",
     "text": [
      "  (75) Sum => 880029 ; Access Time => 1.78 seconds\n"
     ]
    },
    {
     "name": "stderr",
     "output_type": "stream",
     "text": [
      "[sudo] password for carloscrg19: "
     ]
    },
    {
     "name": "stdout",
     "output_type": "stream",
     "text": [
      "  (76) Sum => 875563 ; Access Time => 1.723 seconds\n"
     ]
    },
    {
     "name": "stderr",
     "output_type": "stream",
     "text": [
      "[sudo] password for carloscrg19: "
     ]
    },
    {
     "name": "stdout",
     "output_type": "stream",
     "text": [
      "  (77) Sum => 879459 ; Access Time => 1.704 seconds\n"
     ]
    },
    {
     "name": "stderr",
     "output_type": "stream",
     "text": [
      "[sudo] password for carloscrg19: "
     ]
    },
    {
     "name": "stdout",
     "output_type": "stream",
     "text": [
      "  (78) Sum => 880000 ; Access Time => 1.697 seconds\n"
     ]
    },
    {
     "name": "stderr",
     "output_type": "stream",
     "text": [
      "[sudo] password for carloscrg19: "
     ]
    },
    {
     "name": "stdout",
     "output_type": "stream",
     "text": [
      "  (79) Sum => 884868 ; Access Time => 1.738 seconds\n"
     ]
    },
    {
     "name": "stderr",
     "output_type": "stream",
     "text": [
      "[sudo] password for carloscrg19: "
     ]
    },
    {
     "name": "stdout",
     "output_type": "stream",
     "text": [
      "  (80) Sum => 880586 ; Access Time => 1.736 seconds\n"
     ]
    },
    {
     "name": "stderr",
     "output_type": "stream",
     "text": [
      "[sudo] password for carloscrg19: "
     ]
    },
    {
     "name": "stdout",
     "output_type": "stream",
     "text": [
      "  (81) Sum => 879638 ; Access Time => 1.771 seconds\n"
     ]
    },
    {
     "name": "stderr",
     "output_type": "stream",
     "text": [
      "[sudo] password for carloscrg19: "
     ]
    },
    {
     "name": "stdout",
     "output_type": "stream",
     "text": [
      "  (82) Sum => 883033 ; Access Time => 1.784 seconds\n"
     ]
    },
    {
     "name": "stderr",
     "output_type": "stream",
     "text": [
      "[sudo] password for carloscrg19: "
     ]
    },
    {
     "name": "stdout",
     "output_type": "stream",
     "text": [
      "  (83) Sum => 883287 ; Access Time => 1.775 seconds\n"
     ]
    },
    {
     "name": "stderr",
     "output_type": "stream",
     "text": [
      "[sudo] password for carloscrg19: "
     ]
    },
    {
     "name": "stdout",
     "output_type": "stream",
     "text": [
      "  (84) Sum => 878711 ; Access Time => 1.77 seconds\n"
     ]
    },
    {
     "name": "stderr",
     "output_type": "stream",
     "text": [
      "[sudo] password for carloscrg19: "
     ]
    },
    {
     "name": "stdout",
     "output_type": "stream",
     "text": [
      "  (85) Sum => 877294 ; Access Time => 1.779 seconds\n"
     ]
    },
    {
     "name": "stderr",
     "output_type": "stream",
     "text": [
      "[sudo] password for carloscrg19: "
     ]
    },
    {
     "name": "stdout",
     "output_type": "stream",
     "text": [
      "  (86) Sum => 884438 ; Access Time => 1.788 seconds\n"
     ]
    },
    {
     "name": "stderr",
     "output_type": "stream",
     "text": [
      "[sudo] password for carloscrg19: "
     ]
    },
    {
     "name": "stdout",
     "output_type": "stream",
     "text": [
      "  (87) Sum => 885536 ; Access Time => 1.702 seconds\n"
     ]
    },
    {
     "name": "stderr",
     "output_type": "stream",
     "text": [
      "[sudo] password for carloscrg19: "
     ]
    },
    {
     "name": "stdout",
     "output_type": "stream",
     "text": [
      "  (88) Sum => 876025 ; Access Time => 1.737 seconds\n"
     ]
    },
    {
     "name": "stderr",
     "output_type": "stream",
     "text": [
      "[sudo] password for carloscrg19: "
     ]
    },
    {
     "name": "stdout",
     "output_type": "stream",
     "text": [
      "  (89) Sum => 877273 ; Access Time => 1.713 seconds\n"
     ]
    },
    {
     "name": "stderr",
     "output_type": "stream",
     "text": [
      "[sudo] password for carloscrg19: "
     ]
    },
    {
     "name": "stdout",
     "output_type": "stream",
     "text": [
      "  (90) Sum => 886376 ; Access Time => 1.728 seconds\n"
     ]
    },
    {
     "name": "stderr",
     "output_type": "stream",
     "text": [
      "[sudo] password for carloscrg19: "
     ]
    },
    {
     "name": "stdout",
     "output_type": "stream",
     "text": [
      "  (91) Sum => 884462 ; Access Time => 1.726 seconds\n"
     ]
    },
    {
     "name": "stderr",
     "output_type": "stream",
     "text": [
      "[sudo] password for carloscrg19: "
     ]
    },
    {
     "name": "stdout",
     "output_type": "stream",
     "text": [
      "  (92) Sum => 878782 ; Access Time => 1.713 seconds\n"
     ]
    },
    {
     "name": "stderr",
     "output_type": "stream",
     "text": [
      "[sudo] password for carloscrg19: "
     ]
    },
    {
     "name": "stdout",
     "output_type": "stream",
     "text": [
      "  (93) Sum => 882029 ; Access Time => 1.717 seconds\n"
     ]
    },
    {
     "name": "stderr",
     "output_type": "stream",
     "text": [
      "[sudo] password for carloscrg19: "
     ]
    },
    {
     "name": "stdout",
     "output_type": "stream",
     "text": [
      "  (94) Sum => 882758 ; Access Time => 1.697 seconds\n"
     ]
    },
    {
     "name": "stderr",
     "output_type": "stream",
     "text": [
      "[sudo] password for carloscrg19: "
     ]
    },
    {
     "name": "stdout",
     "output_type": "stream",
     "text": [
      "  (95) Sum => 881461 ; Access Time => 1.779 seconds\n"
     ]
    },
    {
     "name": "stderr",
     "output_type": "stream",
     "text": [
      "[sudo] password for carloscrg19: "
     ]
    },
    {
     "name": "stdout",
     "output_type": "stream",
     "text": [
      "  (96) Sum => 880927 ; Access Time => 1.75 seconds\n"
     ]
    },
    {
     "name": "stderr",
     "output_type": "stream",
     "text": [
      "[sudo] password for carloscrg19: "
     ]
    },
    {
     "name": "stdout",
     "output_type": "stream",
     "text": [
      "  (97) Sum => 880460 ; Access Time => 1.744 seconds\n"
     ]
    },
    {
     "name": "stderr",
     "output_type": "stream",
     "text": [
      "[sudo] password for carloscrg19: "
     ]
    },
    {
     "name": "stdout",
     "output_type": "stream",
     "text": [
      "  (98) Sum => 877499 ; Access Time => 1.718 seconds\n"
     ]
    },
    {
     "name": "stderr",
     "output_type": "stream",
     "text": [
      "[sudo] password for carloscrg19: "
     ]
    },
    {
     "name": "stdout",
     "output_type": "stream",
     "text": [
      "  (99) Sum => 883472 ; Access Time => 1.777 seconds\n"
     ]
    },
    {
     "name": "stderr",
     "output_type": "stream",
     "text": [
      "[sudo] password for carloscrg19: "
     ]
    },
    {
     "name": "stdout",
     "output_type": "stream",
     "text": [
      "  (100) Sum => 883219 ; Access Time => 1.709 seconds\n"
     ]
    },
    {
     "name": "stderr",
     "output_type": "stream",
     "text": [
      "[sudo] password for carloscrg19: [sudo] password for carloscrg19: "
     ]
    },
    {
     "data": {
      "text/plain": [
       "0"
      ]
     },
     "execution_count": 8,
     "metadata": {},
     "output_type": "execute_result"
    }
   ],
   "source": [
    "password = getpass.getpass() # Root user is needed to perform mounting/unmounting\n",
    "\n",
    "block_sizes = [\"4K\", \"16K\", \"64K\", \"256K\", \"1M\"] # different block sizes, powers of 4\n",
    "NB_LOOKUPS = 10000 # Number of random accesses to the file\n",
    "NB_RAND_RUNS = 100\n",
    "\n",
    "df_19 = pd.DataFrame() # new DataFrame to store the data\n",
    "\n",
    "print(f\"--| RANDOM ACCESS TO {file} |--\")\n",
    " \n",
    "size_original = get_file_size(file)\n",
    "filename = file.split(\".\")[0] # in case file has file format extension\n",
    "\n",
    "for size in block_sizes:\n",
    "\n",
    "    print(f\"Block size => {size}:\")\n",
    "    \n",
    "    # -- COMPRESSION PROCESS -- #\n",
    "    new_file = f\"{filename}-{size}\"\n",
    "\n",
    "    compression_command = f\"mksquashfs {file} {new_file}.sqsh -comp zstd -Xcompression-level {compression_level} -b {size} > /dev/null\"\n",
    "\n",
    "    # Compress and calculate time\n",
    "    start_time = time.time()\n",
    "    os.system(compression_command)\n",
    "    compression_time = time.time() - start_time\n",
    "\n",
    "    size_new = get_file_size(f\"{new_file}.sqsh\")\n",
    "\n",
    "    # Calc metrics\n",
    "    compression_ratio = get_compression_ratio(size_original, size_new)\n",
    "    compression_speed = get_speed(size_original, compression_time)\n",
    "\n",
    "    # -- MOUNTING PROCESS -- #\n",
    "    mounting_command = f\"sudo -S mount {new_file}.sqsh /mnt/squashfs-practice/ -t squashfs -o loop\"\n",
    "    os.system(\"echo %s | %s > /dev/null\" % (password, mounting_command))\n",
    "\n",
    "    # -- RANDOM ACCESS PATTERN -- #\n",
    "    for seed in range(1, NB_RAND_RUNS + 1):    \n",
    "        # Run C program and capture output\n",
    "        access_stream = os.popen(f\"./read /mnt/squashfs-practice/{filename} {NB_LOOKUPS} {seed}\")\n",
    "        results = access_stream.read().split(\" \")\n",
    "                \n",
    "        access_time = float(results[0])\n",
    "        access_sum = results[1]\n",
    "        \n",
    "        print(f\"  ({seed}) Sum => {access_sum} ; Access Time => {access_time} seconds\")\n",
    "        \n",
    "        # -- RESULTS STORING -- #\n",
    "        df_19 = df_19.append({\"block_size\": size, \"access_time\": access_time}, ignore_index=True)\n",
    "\n",
    "        flush_command = 'sudo -S sh -c \"echo 1 > /proc/sys/vm/drop_caches\"'\n",
    "        \n",
    "        os.system(f\"sync; echo {password} | {flush_command}\") # flush cache to reaload after each mount\n",
    "\n",
    "    # -- UNMOUNTING PROCESS -- #\n",
    "    unmounting_command = f\"sudo -S umount -l /mnt/squashfs-practice/\"\n",
    "    os.system(f\"echo {password} | {unmounting_command}\")\n",
    "\n",
    "os.system(f\"ls | grep {filename}- | xargs rm -R\") # Code to remove the created files "
   ]
  },
  {
   "cell_type": "markdown",
   "id": "3ab09178",
   "metadata": {},
   "source": [
    "### Results"
   ]
  },
  {
   "cell_type": "markdown",
   "id": "9cfb129e",
   "metadata": {},
   "source": [
    "The obtained data stored in the main DataFrame."
   ]
  },
  {
   "cell_type": "code",
   "execution_count": 9,
   "id": "3baf502e",
   "metadata": {
    "scrolled": false
   },
   "outputs": [
    {
     "data": {
      "text/html": [
       "<div>\n",
       "<style scoped>\n",
       "    .dataframe tbody tr th:only-of-type {\n",
       "        vertical-align: middle;\n",
       "    }\n",
       "\n",
       "    .dataframe tbody tr th {\n",
       "        vertical-align: top;\n",
       "    }\n",
       "\n",
       "    .dataframe thead th {\n",
       "        text-align: right;\n",
       "    }\n",
       "</style>\n",
       "<table border=\"1\" class=\"dataframe\">\n",
       "  <thead>\n",
       "    <tr style=\"text-align: right;\">\n",
       "      <th></th>\n",
       "      <th>block_size</th>\n",
       "      <th>access_time</th>\n",
       "    </tr>\n",
       "  </thead>\n",
       "  <tbody>\n",
       "    <tr>\n",
       "      <th>0</th>\n",
       "      <td>4K</td>\n",
       "      <td>0.534</td>\n",
       "    </tr>\n",
       "    <tr>\n",
       "      <th>1</th>\n",
       "      <td>4K</td>\n",
       "      <td>0.747</td>\n",
       "    </tr>\n",
       "    <tr>\n",
       "      <th>2</th>\n",
       "      <td>4K</td>\n",
       "      <td>0.745</td>\n",
       "    </tr>\n",
       "    <tr>\n",
       "      <th>3</th>\n",
       "      <td>4K</td>\n",
       "      <td>0.747</td>\n",
       "    </tr>\n",
       "    <tr>\n",
       "      <th>4</th>\n",
       "      <td>4K</td>\n",
       "      <td>0.711</td>\n",
       "    </tr>\n",
       "    <tr>\n",
       "      <th>...</th>\n",
       "      <td>...</td>\n",
       "      <td>...</td>\n",
       "    </tr>\n",
       "    <tr>\n",
       "      <th>495</th>\n",
       "      <td>1M</td>\n",
       "      <td>1.750</td>\n",
       "    </tr>\n",
       "    <tr>\n",
       "      <th>496</th>\n",
       "      <td>1M</td>\n",
       "      <td>1.744</td>\n",
       "    </tr>\n",
       "    <tr>\n",
       "      <th>497</th>\n",
       "      <td>1M</td>\n",
       "      <td>1.718</td>\n",
       "    </tr>\n",
       "    <tr>\n",
       "      <th>498</th>\n",
       "      <td>1M</td>\n",
       "      <td>1.777</td>\n",
       "    </tr>\n",
       "    <tr>\n",
       "      <th>499</th>\n",
       "      <td>1M</td>\n",
       "      <td>1.709</td>\n",
       "    </tr>\n",
       "  </tbody>\n",
       "</table>\n",
       "<p>500 rows × 2 columns</p>\n",
       "</div>"
      ],
      "text/plain": [
       "    block_size  access_time\n",
       "0           4K        0.534\n",
       "1           4K        0.747\n",
       "2           4K        0.745\n",
       "3           4K        0.747\n",
       "4           4K        0.711\n",
       "..         ...          ...\n",
       "495         1M        1.750\n",
       "496         1M        1.744\n",
       "497         1M        1.718\n",
       "498         1M        1.777\n",
       "499         1M        1.709\n",
       "\n",
       "[500 rows x 2 columns]"
      ]
     },
     "execution_count": 9,
     "metadata": {},
     "output_type": "execute_result"
    }
   ],
   "source": [
    "df_19"
   ]
  },
  {
   "cell_type": "markdown",
   "id": "168c684f",
   "metadata": {},
   "source": [
    "Access Time Results for every Block Size."
   ]
  },
  {
   "cell_type": "code",
   "execution_count": 10,
   "id": "b0ef16fd",
   "metadata": {
    "scrolled": false
   },
   "outputs": [
    {
     "name": "stdout",
     "output_type": "stream",
     "text": [
      "Average results for Acess Time\n"
     ]
    },
    {
     "data": {
      "text/html": [
       "<div>\n",
       "<style scoped>\n",
       "    .dataframe tbody tr th:only-of-type {\n",
       "        vertical-align: middle;\n",
       "    }\n",
       "\n",
       "    .dataframe tbody tr th {\n",
       "        vertical-align: top;\n",
       "    }\n",
       "\n",
       "    .dataframe thead th {\n",
       "        text-align: right;\n",
       "    }\n",
       "</style>\n",
       "<table border=\"1\" class=\"dataframe\">\n",
       "  <thead>\n",
       "    <tr style=\"text-align: right;\">\n",
       "      <th></th>\n",
       "      <th>min</th>\n",
       "      <th>max</th>\n",
       "      <th>mean</th>\n",
       "      <th>std</th>\n",
       "    </tr>\n",
       "    <tr>\n",
       "      <th>block_size</th>\n",
       "      <th></th>\n",
       "      <th></th>\n",
       "      <th></th>\n",
       "      <th></th>\n",
       "    </tr>\n",
       "  </thead>\n",
       "  <tbody>\n",
       "    <tr>\n",
       "      <th>4K</th>\n",
       "      <td>0.534</td>\n",
       "      <td>0.770</td>\n",
       "      <td>0.72286</td>\n",
       "      <td>0.027863</td>\n",
       "    </tr>\n",
       "    <tr>\n",
       "      <th>16K</th>\n",
       "      <td>0.685</td>\n",
       "      <td>0.923</td>\n",
       "      <td>0.85426</td>\n",
       "      <td>0.028871</td>\n",
       "    </tr>\n",
       "    <tr>\n",
       "      <th>64K</th>\n",
       "      <td>1.001</td>\n",
       "      <td>1.235</td>\n",
       "      <td>1.08344</td>\n",
       "      <td>0.037323</td>\n",
       "    </tr>\n",
       "    <tr>\n",
       "      <th>256K</th>\n",
       "      <td>1.601</td>\n",
       "      <td>3.057</td>\n",
       "      <td>2.13854</td>\n",
       "      <td>0.447243</td>\n",
       "    </tr>\n",
       "    <tr>\n",
       "      <th>1M</th>\n",
       "      <td>1.634</td>\n",
       "      <td>1.864</td>\n",
       "      <td>1.74902</td>\n",
       "      <td>0.039188</td>\n",
       "    </tr>\n",
       "  </tbody>\n",
       "</table>\n",
       "</div>"
      ],
      "text/plain": [
       "              min    max     mean       std\n",
       "block_size                                 \n",
       "4K          0.534  0.770  0.72286  0.027863\n",
       "16K         0.685  0.923  0.85426  0.028871\n",
       "64K         1.001  1.235  1.08344  0.037323\n",
       "256K        1.601  3.057  2.13854  0.447243\n",
       "1M          1.634  1.864  1.74902  0.039188"
      ]
     },
     "execution_count": 10,
     "metadata": {},
     "output_type": "execute_result"
    }
   ],
   "source": [
    "print(\"Average results for Acess Time\")\n",
    "\n",
    "mean_df = df_19.groupby(\"block_size\").access_time.agg([\"min\", \"max\", \"mean\", \"std\"])\n",
    "\n",
    "# Sorting the DataFrame on Block Size\n",
    "mean_df[\"sort\"] = mean_df.index.map(lambda x: int(x[:-1]) if x[-1] == \"K\" else int(x[:-1])*1000)\n",
    "mean_df.sort_values(by=\"sort\", inplace=True)\n",
    "mean_df.drop(\"sort\", axis=1, inplace=True)\n",
    "\n",
    "mean_df"
   ]
  },
  {
   "cell_type": "markdown",
   "id": "9f723aca",
   "metadata": {},
   "source": [
    "Creation of main graph. "
   ]
  },
  {
   "cell_type": "code",
   "execution_count": 11,
   "id": "9d8c2b65",
   "metadata": {
    "scrolled": true
   },
   "outputs": [
    {
     "data": {
      "image/png": "[encoded data removed]",
      "text/plain": [
       "<Figure size 720x504 with 1 Axes>"
      ]
     },
     "metadata": {
      "needs_background": "light"
     },
     "output_type": "display_data"
    }
   ],
   "source": [
    "fig, ax = plt.subplots()\n",
    "\n",
    "fig.suptitle(\"Effect of Different Block Sizes on Access Speed with Zstd and SquashFS\", weight=\"bold\", y=1)\n",
    "fig.text(s=f\"Number of Lookups: {NB_LOOKUPS}\", y=0.95, x=0.4)\n",
    "\n",
    "x = [pow(4,i) for i in range(1, 6)] # Array for ticks in X axis \n",
    "\n",
    "ax.semilogx(x, mean_df[\"mean\"], base=4)\n",
    "ax.fill_between(x, mean_df[\"mean\"] - mean_df[\"std\"], mean_df[\"mean\"] + mean_df[\"std\"], alpha=0.2)\n",
    "\n",
    "ax.set_ylabel(\"Access Time(s)\")\n",
    "ax.set_xlabel(\"Block Size\")\n",
    "ax.set_xticks(x)\n",
    "ax.set_xticklabels(block_sizes)\n",
    "\n",
    "fig.tight_layout()\n",
    "plt.show()"
   ]
  }
 ],
 "metadata": {
  "kernelspec": {
   "display_name": "Python 3 (ipykernel)",
   "language": "python",
   "name": "python3"
  },
  "language_info": {
   "codemirror_mode": {
    "name": "ipython",
    "version": 3
   },
   "file_extension": ".py",
   "mimetype": "text/x-python",
   "name": "python",
   "nbconvert_exporter": "python",
   "pygments_lexer": "ipython3",
   "version": "3.9.7"
  }
 },
 "nbformat": 4,
 "nbformat_minor": 5
}
