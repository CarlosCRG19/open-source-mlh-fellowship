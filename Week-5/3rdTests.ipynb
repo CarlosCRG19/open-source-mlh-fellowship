{
 "cells": [
  {
   "cell_type": "markdown",
   "id": "eccf1a58",
   "metadata": {},
   "source": [
    "# Effect of Different Block Sizes on Access Speed with Zstd and SquashFS"
   ]
  },
  {
   "cell_type": "markdown",
   "id": "ed28fb74",
   "metadata": {},
   "source": [
    "### Notebook Configurations"
   ]
  },
  {
   "cell_type": "markdown",
   "id": "515a88c6",
   "metadata": {},
   "source": [
    "_Imports_"
   ]
  },
  {
   "cell_type": "code",
   "execution_count": 10,
   "id": "bf903b92",
   "metadata": {},
   "outputs": [],
   "source": [
    "import os\n",
    "import time \n",
    "import random\n",
    "import getpass\n",
    "import numpy as np\n",
    "import pandas as pd\n",
    "import matplotlib.pyplot as plt"
   ]
  },
  {
   "cell_type": "markdown",
   "id": "6b5eb16b",
   "metadata": {},
   "source": [
    "_Matplotlib Figures Styles_"
   ]
  },
  {
   "cell_type": "code",
   "execution_count": 11,
   "id": "21d04023",
   "metadata": {},
   "outputs": [],
   "source": [
    "plt.rcParams['figure.figsize'] = (10, 7) # for the size of matplotlib plots\n",
    "plt.rcParams['axes.spines.top'] = False\n",
    "plt.rcParams['axes.spines.right'] = False\n",
    "plt.rcParams['axes.grid'] = True\n",
    "plt.rcParams['axes.grid.axis'] = \"y\"\n",
    "plt.rcParams['axes.axisbelow'] = True\n",
    "plt.rcParams['grid.color'] = \"#EEEEEE\""
   ]
  },
  {
   "cell_type": "markdown",
   "id": "c503ad68",
   "metadata": {},
   "source": [
    "### Initial Hyphotesis"
   ]
  },
  {
   "cell_type": "markdown",
   "id": "f3f27bd7",
   "metadata": {},
   "source": [
    "Small block sizes in compression can result in faster random reads, in this case, in a mounted SquashFS image."
   ]
  },
  {
   "cell_type": "markdown",
   "id": "77115488",
   "metadata": {},
   "source": [
    "### Initial variables"
   ]
  },
  {
   "cell_type": "markdown",
   "id": "e14fc889",
   "metadata": {},
   "source": [
    "In the use case of a read-only filesystem (such as SquashFS), the decompression latency is a lot more important than compression latency. Thus, a high compression level for Zstd, which envolves slower compression speed but higher ratios and faster decompression, is optimal. \n",
    "\n",
    "* __Zstd compression level:__ 19"
   ]
  },
  {
   "cell_type": "code",
   "execution_count": 12,
   "id": "879737bf",
   "metadata": {},
   "outputs": [],
   "source": [
    "compression_level = 19 # high compression level for Zstandard (max is 22)"
   ]
  },
  {
   "cell_type": "markdown",
   "id": "e3fefe23",
   "metadata": {},
   "source": [
    "For this tests, the next files are used:\n",
    "\n",
    "* __enwik9__: database based on Wikipedia composed of mostly english text in XML encoded with UTF-8. _Total size of file:_ 1GB"
   ]
  },
  {
   "cell_type": "code",
   "execution_count": 13,
   "id": "c2eb6dee",
   "metadata": {},
   "outputs": [],
   "source": [
    "file = \"enwik9\""
   ]
  },
  {
   "cell_type": "markdown",
   "id": "37cb5f93",
   "metadata": {},
   "source": [
    "For reproducible results, use __42__ as random seed."
   ]
  },
  {
   "cell_type": "code",
   "execution_count": 14,
   "id": "2d216b2c",
   "metadata": {},
   "outputs": [],
   "source": [
    "random.seed(42)"
   ]
  },
  {
   "cell_type": "markdown",
   "id": "34db5b96",
   "metadata": {},
   "source": [
    "_Helper functions_"
   ]
  },
  {
   "cell_type": "code",
   "execution_count": 15,
   "id": "15e25a3d",
   "metadata": {},
   "outputs": [],
   "source": [
    "def get_file_size(file):\n",
    "    \n",
    "    is_directory = os.popen(f\"./is_directory.sh {file}\").read().strip() # shell file to check if string corresponds to dir or file\n",
    "    \n",
    "    if(is_directory == \"1\"):\n",
    "        size = os.popen(f\"du -b {file}\").read().split(\"\\t\")[0]\n",
    "    else:\n",
    "        size = os.popen(f\"ls -l {file}\").read().split(\" \")[4]\n",
    "    \n",
    "    return int(size)\n",
    "\n",
    "\n",
    "def get_speed(size, time):\n",
    "    \n",
    "    size_in_mb = size / (1024*1024)\n",
    "    \n",
    "    return round((size_in_mb/time), 2)\n",
    "\n",
    "\n",
    "def get_compression_ratio(original, new):\n",
    "    return original / new\n"
   ]
  },
  {
   "cell_type": "markdown",
   "id": "d65b4c1a",
   "metadata": {},
   "source": [
    "## Effect of block sizes on Access Speed with Zstd and SquashFS"
   ]
  },
  {
   "cell_type": "markdown",
   "id": "333cadef",
   "metadata": {},
   "source": [
    "In summary, for each of the 5 block sizes a new SquashFS image is created from the enwik9 file. This image is then mounted in the _/mnt/squashfs-practice mountpoint_ from where it will be randomly accessed a N times. \n",
    "\n",
    "The following script calculates the time that it takes to complete the N lookups and stores the results in a Pandas DataFrame."
   ]
  },
  {
   "cell_type": "markdown",
   "id": "990d2d00",
   "metadata": {},
   "source": [
    "__Example Compression:__ _mksquashfs FILE FILE.sqsh -comp zstd -Xcompression-level 19 -b BLOCKSIZE_"
   ]
  },
  {
   "cell_type": "code",
   "execution_count": null,
   "id": "292221a7",
   "metadata": {},
   "outputs": [
    {
     "name": "stdout",
     "output_type": "stream",
     "text": [
      "········\n"
     ]
    },
    {
     "name": "stderr",
     "output_type": "stream",
     "text": [
      "[sudo] password for carloscrg19: [sudo] password for carloscrg19: [sudo] password for carloscrg19: [sudo] password for carloscrg19: [sudo] password for carloscrg19: [sudo] password for carloscrg19: [sudo] password for carloscrg19: "
     ]
    }
   ],
   "source": [
    "%%capture\n",
    "\n",
    "block_sizes = [\"4K\", \"16K\", \"64K\", \"256K\", \"1M\"] # different block sizes, powers of 4\n",
    "\n",
    "# New DataFrame\n",
    "df_19 = pd.DataFrame()\n",
    "\n",
    "filename = file.split(\".\")[0] # in case file has file format extension\n",
    "size_original = get_file_size(file)\n",
    "\n",
    "password = getpass.getpass() # Root user is needed to perform mounting/unmounting\n",
    "\n",
    "n_lookups = 1000 # Number of random accesses to the file\n",
    "\n",
    "for size in block_sizes:\n",
    "\n",
    "    # -- COMPRESSION PROCESS -- #\n",
    "    new_file = f\"{filename}-{size}\"\n",
    "\n",
    "    compression_command = f\"mksquashfs {file} {new_file}.sqsh -comp zstd -Xcompression-level {compression_level} -b {size} > /dev/null\"\n",
    "\n",
    "    # Compress and calculate time\n",
    "    start_time = time.time()\n",
    "    os.system(compression_command)\n",
    "    compression_time = time.time() - start_time\n",
    "\n",
    "    size_new = get_file_size(f\"{new_file}.sqsh\")\n",
    "\n",
    "    # Calc metrics\n",
    "    compression_ratio = get_compression_ratio(size_original, size_new)\n",
    "    compression_speed = get_speed(size_original, compression_time)\n",
    "\n",
    "    # -- MOUNTING PROCESS -- #\n",
    "    mounting_command = f\"sudo -S mount {new_file}.sqsh /mnt/squashfs-practice/ -t squashfs -o loop\"\n",
    "    os.system(\"echo %s | %s\" % (password, mounting_command))\n",
    "         \n",
    "\n",
    "    # -- RANDOM ACCESS PATTERN -- #\n",
    "    \n",
    "    # Get number of characters in file\n",
    "    n_characters = os.popen(f\"wc -m /mnt/squashfs-practice/{filename}\").read().split(\" \")[0]\n",
    "    n_characters = int(n_characters)\n",
    "    \n",
    "    # Create sample of n_lookups random positions\n",
    "    positions = random.sample(range(0, n_characters), n_lookups)\n",
    "    print(f\"Total positions for lookup: {len(positions)}\")\n",
    "    \n",
    "    fhand = open(f\"/mnt/squashfs-practice/{filename}\", \"r\", errors=\"ignore\") # handle to file (read-only)\n",
    "    \n",
    "    start_time = time.time()\n",
    "    for pos in positions:\n",
    "        # for each position, change the handle and send 10 characters to another file\n",
    "        fhand.seek(pos)\n",
    "        print(f\"10 characters in positions {pos}: \", fhand.read(10))\n",
    "    access_time = time.time() - start_time\n",
    "    \n",
    "    # -- RESULTS SAVING -- #\n",
    "    \n",
    "    df_19 = df_19.append({\n",
    "        \"block_size\": size,\n",
    "        f\"compression_ratio\": compression_ratio,\n",
    "        f\"compression_speed\": compression_speed,\n",
    "        f\"access_time\": access_time\n",
    "    }, ignore_index=True)\n",
    "    \n",
    "    # -- UNMOUNTING PROCESS -- #\n",
    "    unmounting_command = f\"sudo -S umount -l /mnt/squashfs-practice/\"\n",
    "    os.system(f\"echo {password} | {unmounting_command}\")\n",
    "\n",
    "os.system(f\"ls | grep {filename}- | xargs rm -R\") # Code to remove the created files "
   ]
  },
  {
   "cell_type": "markdown",
   "id": "3ab09178",
   "metadata": {},
   "source": [
    "### Results"
   ]
  },
  {
   "cell_type": "markdown",
   "id": "9cfb129e",
   "metadata": {},
   "source": [
    "The obtained data stored in the main DataFrame."
   ]
  },
  {
   "cell_type": "code",
   "execution_count": 17,
   "id": "3baf502e",
   "metadata": {
    "scrolled": true
   },
   "outputs": [
    {
     "data": {
      "text/html": [
       "<div>\n",
       "<style scoped>\n",
       "    .dataframe tbody tr th:only-of-type {\n",
       "        vertical-align: middle;\n",
       "    }\n",
       "\n",
       "    .dataframe tbody tr th {\n",
       "        vertical-align: top;\n",
       "    }\n",
       "\n",
       "    .dataframe thead th {\n",
       "        text-align: right;\n",
       "    }\n",
       "</style>\n",
       "<table border=\"1\" class=\"dataframe\">\n",
       "  <thead>\n",
       "    <tr style=\"text-align: right;\">\n",
       "      <th></th>\n",
       "      <th>block_size</th>\n",
       "      <th>compression_ratio</th>\n",
       "      <th>compression_speed</th>\n",
       "      <th>access_time</th>\n",
       "    </tr>\n",
       "  </thead>\n",
       "  <tbody>\n",
       "    <tr>\n",
       "      <th>0</th>\n",
       "      <td>4K</td>\n",
       "      <td>2.255570</td>\n",
       "      <td>52.86</td>\n",
       "      <td>0.235324</td>\n",
       "    </tr>\n",
       "    <tr>\n",
       "      <th>1</th>\n",
       "      <td>16K</td>\n",
       "      <td>2.734336</td>\n",
       "      <td>38.05</td>\n",
       "      <td>0.131258</td>\n",
       "    </tr>\n",
       "    <tr>\n",
       "      <th>2</th>\n",
       "      <td>64K</td>\n",
       "      <td>3.103864</td>\n",
       "      <td>26.74</td>\n",
       "      <td>0.280275</td>\n",
       "    </tr>\n",
       "    <tr>\n",
       "      <th>3</th>\n",
       "      <td>256K</td>\n",
       "      <td>3.401803</td>\n",
       "      <td>24.76</td>\n",
       "      <td>0.180000</td>\n",
       "    </tr>\n",
       "    <tr>\n",
       "      <th>4</th>\n",
       "      <td>1M</td>\n",
       "      <td>3.673055</td>\n",
       "      <td>22.38</td>\n",
       "      <td>0.163070</td>\n",
       "    </tr>\n",
       "  </tbody>\n",
       "</table>\n",
       "</div>"
      ],
      "text/plain": [
       "  block_size  compression_ratio  compression_speed  access_time\n",
       "0         4K           2.255570              52.86     0.235324\n",
       "1        16K           2.734336              38.05     0.131258\n",
       "2        64K           3.103864              26.74     0.280275\n",
       "3       256K           3.401803              24.76     0.180000\n",
       "4         1M           3.673055              22.38     0.163070"
      ]
     },
     "execution_count": 17,
     "metadata": {},
     "output_type": "execute_result"
    }
   ],
   "source": [
    "df_19"
   ]
  },
  {
   "cell_type": "markdown",
   "id": "9f723aca",
   "metadata": {},
   "source": [
    "Creation of main graph. "
   ]
  },
  {
   "cell_type": "code",
   "execution_count": 18,
   "id": "9d8c2b65",
   "metadata": {
    "scrolled": true
   },
   "outputs": [
    {
     "data": {
      "image/png": "[encoded data removed]",
      "text/plain": [
       "<Figure size 720x504 with 1 Axes>"
      ]
     },
     "metadata": {
      "needs_background": "light"
     },
     "output_type": "display_data"
    }
   ],
   "source": [
    "fig, ax = plt.subplots()\n",
    "\n",
    "fig.suptitle(\"Effect of Different Block Sizes on Access Speed with Zstd and SquashFS\", weight=\"bold\", y=1)\n",
    "fig.text(s=\"Number of Lookups: 1000\", y=0.95, x=0.4)\n",
    "\n",
    "compression_ratio_bars = ax.bar(x=df_19[\"block_size\"], height=df_19[\"access_time\"])\n",
    "\n",
    "ax.set_ylabel(\"Access Time(s)\")\n",
    "ax.set_xlabel(\"Block Size\")\n",
    "ax.bar_label(compression_ratio_bars, padding=3)\n",
    "\n",
    "fig.tight_layout()\n",
    "plt.show()"
   ]
  }
 ],
 "metadata": {
  "kernelspec": {
   "display_name": "Python 3 (ipykernel)",
   "language": "python",
   "name": "python3"
  },
  "language_info": {
   "codemirror_mode": {
    "name": "ipython",
    "version": 3
   },
   "file_extension": ".py",
   "mimetype": "text/x-python",
   "name": "python",
   "nbconvert_exporter": "python",
   "pygments_lexer": "ipython3",
   "version": "3.9.7"
  }
 },
 "nbformat": 4,
 "nbformat_minor": 5
}
