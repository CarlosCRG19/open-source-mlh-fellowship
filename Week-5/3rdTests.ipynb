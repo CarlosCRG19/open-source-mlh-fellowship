{
 "cells": [
  {
   "cell_type": "markdown",
   "id": "eccf1a58",
   "metadata": {},
   "source": [
    "# Effect of Different Block Sizes on Access Speed with Zstd and SquashFS"
   ]
  },
  {
   "cell_type": "markdown",
   "id": "ed28fb74",
   "metadata": {},
   "source": [
    "### Notebook Configurations"
   ]
  },
  {
   "cell_type": "markdown",
   "id": "515a88c6",
   "metadata": {},
   "source": [
    "_Imports_"
   ]
  },
  {
   "cell_type": "code",
   "execution_count": 1,
   "id": "bf903b92",
   "metadata": {},
   "outputs": [],
   "source": [
    "import os\n",
    "import time \n",
    "import random\n",
    "import getpass\n",
    "import numpy as np\n",
    "import pandas as pd\n",
    "import matplotlib.pyplot as plt"
   ]
  },
  {
   "cell_type": "markdown",
   "id": "6b5eb16b",
   "metadata": {},
   "source": [
    "_Matplotlib Figures Styles_"
   ]
  },
  {
   "cell_type": "code",
   "execution_count": 2,
   "id": "21d04023",
   "metadata": {},
   "outputs": [],
   "source": [
    "plt.rcParams['figure.figsize'] = (10, 7) # for the size of matplotlib plots\n",
    "plt.rcParams['axes.spines.top'] = False\n",
    "plt.rcParams['axes.spines.right'] = False\n",
    "plt.rcParams['axes.grid'] = True\n",
    "plt.rcParams['axes.grid.axis'] = \"y\"\n",
    "plt.rcParams['axes.axisbelow'] = True\n",
    "plt.rcParams['grid.color'] = \"#EEEEEE\""
   ]
  },
  {
   "cell_type": "markdown",
   "id": "c503ad68",
   "metadata": {},
   "source": [
    "### Initial Hyphotesis"
   ]
  },
  {
   "cell_type": "markdown",
   "id": "f3f27bd7",
   "metadata": {},
   "source": [
    "Small block sizes in compression can result in faster random reads, in this case, in a mounted SquashFS image."
   ]
  },
  {
   "cell_type": "markdown",
   "id": "77115488",
   "metadata": {},
   "source": [
    "### Initial variables"
   ]
  },
  {
   "cell_type": "markdown",
   "id": "e14fc889",
   "metadata": {},
   "source": [
    "In the use case of a read-only filesystem (such as SquashFS), the decompression latency is a lot more important than compression latency. Thus, a high compression level for Zstd, which envolves slower compression speed but higher ratios and faster decompression, is optimal. \n",
    "\n",
    "* __Zstd compression level:__ 19"
   ]
  },
  {
   "cell_type": "code",
   "execution_count": 3,
   "id": "879737bf",
   "metadata": {},
   "outputs": [],
   "source": [
    "compression_level = 19 # high compression level for Zstandard (max is 22)"
   ]
  },
  {
   "cell_type": "markdown",
   "id": "e3fefe23",
   "metadata": {},
   "source": [
    "For this tests, the next files are used:\n",
    "\n",
    "* __enwik9__: database based on Wikipedia composed of mostly english text in XML encoded with UTF-8. _Total size of file:_ 1GB"
   ]
  },
  {
   "cell_type": "code",
   "execution_count": 4,
   "id": "c2eb6dee",
   "metadata": {},
   "outputs": [],
   "source": [
    "file = \"enwik9\""
   ]
  },
  {
   "cell_type": "markdown",
   "id": "37cb5f93",
   "metadata": {},
   "source": [
    "For reproducible results, use __42__ as random seed."
   ]
  },
  {
   "cell_type": "code",
   "execution_count": 5,
   "id": "2d216b2c",
   "metadata": {},
   "outputs": [],
   "source": [
    "random.seed(42)"
   ]
  },
  {
   "cell_type": "markdown",
   "id": "34db5b96",
   "metadata": {},
   "source": [
    "_Helper functions_"
   ]
  },
  {
   "cell_type": "code",
   "execution_count": 6,
   "id": "15e25a3d",
   "metadata": {},
   "outputs": [],
   "source": [
    "def get_file_size(file):\n",
    "    \n",
    "    is_directory = os.popen(f\"./is_directory.sh {file}\").read().strip() # shell script to check if string corresponds to dir or file\n",
    "    \n",
    "    if(is_directory == \"1\"):\n",
    "        size = os.popen(f\"du -b {file}\").read().split(\"\\t\")[0]\n",
    "    else:\n",
    "        size = os.popen(f\"ls -l {file}\").read().split(\" \")[4]\n",
    "    \n",
    "    return int(size)\n",
    "\n",
    "\n",
    "def get_speed(size, time):\n",
    "    \n",
    "    size_in_mb = size / (1024*1024)\n",
    "    \n",
    "    return round((size_in_mb/time), 2)\n",
    "\n",
    "\n",
    "def get_compression_ratio(original, new):\n",
    "    return original / new\n"
   ]
  },
  {
   "cell_type": "markdown",
   "id": "d65b4c1a",
   "metadata": {},
   "source": [
    "## Effect of block sizes on Access Speed with Zstd and SquashFS"
   ]
  },
  {
   "cell_type": "markdown",
   "id": "333cadef",
   "metadata": {},
   "source": [
    "In summary, for each of the 5 block sizes a new SquashFS image is created from the enwik9 file. This image is then mounted in the _/mnt/squashfs-practice mountpoint_ from where it will be randomly accessed a N times. \n",
    "\n",
    "The following script calculates the time that it takes to complete the N lookups and stores the results in a Pandas DataFrame."
   ]
  },
  {
   "cell_type": "markdown",
   "id": "990d2d00",
   "metadata": {},
   "source": [
    "__Example Compression:__ _mksquashfs FILE FILE.sqsh -comp zstd -Xcompression-level 19 -b BLOCKSIZE_"
   ]
  },
  {
   "cell_type": "code",
   "execution_count": 10,
   "id": "292221a7",
   "metadata": {},
   "outputs": [
    {
     "name": "stdout",
     "output_type": "stream",
     "text": [
      "········\n",
      "--| RANDOM ACCESS TO enwik9 |--\n",
      "Total positions for lookup: 10000\n"
     ]
    },
    {
     "name": "stderr",
     "output_type": "stream",
     "text": [
      "[sudo] password for carloscrg19: "
     ]
    },
    {
     "name": "stdout",
     "output_type": "stream",
     "text": [
      "Total sum (block size -> 4K): 880995\n"
     ]
    },
    {
     "name": "stderr",
     "output_type": "stream",
     "text": [
      "[sudo] password for carloscrg19: [sudo] password for carloscrg19: "
     ]
    },
    {
     "name": "stdout",
     "output_type": "stream",
     "text": [
      "Total sum (block size -> 16K): 880995\n"
     ]
    },
    {
     "name": "stderr",
     "output_type": "stream",
     "text": [
      "[sudo] password for carloscrg19: [sudo] password for carloscrg19: "
     ]
    },
    {
     "name": "stdout",
     "output_type": "stream",
     "text": [
      "Total sum (block size -> 64K): 880995\n"
     ]
    },
    {
     "name": "stderr",
     "output_type": "stream",
     "text": [
      "[sudo] password for carloscrg19: [sudo] password for carloscrg19: "
     ]
    },
    {
     "name": "stdout",
     "output_type": "stream",
     "text": [
      "Total sum (block size -> 256K): 880995\n"
     ]
    },
    {
     "name": "stderr",
     "output_type": "stream",
     "text": [
      "[sudo] password for carloscrg19: [sudo] password for carloscrg19: "
     ]
    },
    {
     "name": "stdout",
     "output_type": "stream",
     "text": [
      "Total sum (block size -> 1M): 880995\n"
     ]
    },
    {
     "name": "stderr",
     "output_type": "stream",
     "text": [
      "[sudo] password for carloscrg19: "
     ]
    },
    {
     "name": "stdout",
     "output_type": "stream",
     "text": [
      "Total positions for lookup: 10000\n"
     ]
    },
    {
     "name": "stderr",
     "output_type": "stream",
     "text": [
      "[sudo] password for carloscrg19: "
     ]
    },
    {
     "name": "stdout",
     "output_type": "stream",
     "text": [
      "Total sum (block size -> 4K): 881627\n"
     ]
    },
    {
     "name": "stderr",
     "output_type": "stream",
     "text": [
      "[sudo] password for carloscrg19: [sudo] password for carloscrg19: "
     ]
    },
    {
     "name": "stdout",
     "output_type": "stream",
     "text": [
      "Total sum (block size -> 16K): 881627\n"
     ]
    },
    {
     "name": "stderr",
     "output_type": "stream",
     "text": [
      "[sudo] password for carloscrg19: [sudo] password for carloscrg19: "
     ]
    },
    {
     "name": "stdout",
     "output_type": "stream",
     "text": [
      "Total sum (block size -> 64K): 881627\n"
     ]
    },
    {
     "name": "stderr",
     "output_type": "stream",
     "text": [
      "[sudo] password for carloscrg19: [sudo] password for carloscrg19: "
     ]
    },
    {
     "name": "stdout",
     "output_type": "stream",
     "text": [
      "Total sum (block size -> 256K): 881627\n"
     ]
    },
    {
     "name": "stderr",
     "output_type": "stream",
     "text": [
      "[sudo] password for carloscrg19: [sudo] password for carloscrg19: "
     ]
    },
    {
     "name": "stdout",
     "output_type": "stream",
     "text": [
      "Total sum (block size -> 1M): 881627\n"
     ]
    },
    {
     "name": "stderr",
     "output_type": "stream",
     "text": [
      "[sudo] password for carloscrg19: "
     ]
    },
    {
     "name": "stdout",
     "output_type": "stream",
     "text": [
      "Total positions for lookup: 10000\n"
     ]
    },
    {
     "name": "stderr",
     "output_type": "stream",
     "text": [
      "[sudo] password for carloscrg19: "
     ]
    },
    {
     "name": "stdout",
     "output_type": "stream",
     "text": [
      "Total sum (block size -> 4K): 882095\n"
     ]
    },
    {
     "name": "stderr",
     "output_type": "stream",
     "text": [
      "[sudo] password for carloscrg19: [sudo] password for carloscrg19: "
     ]
    },
    {
     "name": "stdout",
     "output_type": "stream",
     "text": [
      "Total sum (block size -> 16K): 882095\n"
     ]
    },
    {
     "name": "stderr",
     "output_type": "stream",
     "text": [
      "[sudo] password for carloscrg19: [sudo] password for carloscrg19: "
     ]
    },
    {
     "name": "stdout",
     "output_type": "stream",
     "text": [
      "Total sum (block size -> 64K): 882095\n"
     ]
    },
    {
     "name": "stderr",
     "output_type": "stream",
     "text": [
      "[sudo] password for carloscrg19: [sudo] password for carloscrg19: "
     ]
    },
    {
     "name": "stdout",
     "output_type": "stream",
     "text": [
      "Total sum (block size -> 256K): 882095\n"
     ]
    },
    {
     "name": "stderr",
     "output_type": "stream",
     "text": [
      "[sudo] password for carloscrg19: [sudo] password for carloscrg19: "
     ]
    },
    {
     "name": "stdout",
     "output_type": "stream",
     "text": [
      "Total sum (block size -> 1M): 882095\n"
     ]
    },
    {
     "name": "stderr",
     "output_type": "stream",
     "text": [
      "[sudo] password for carloscrg19: "
     ]
    },
    {
     "name": "stdout",
     "output_type": "stream",
     "text": [
      "Total positions for lookup: 10000\n"
     ]
    },
    {
     "name": "stderr",
     "output_type": "stream",
     "text": [
      "[sudo] password for carloscrg19: "
     ]
    },
    {
     "name": "stdout",
     "output_type": "stream",
     "text": [
      "Total sum (block size -> 4K): 873333\n"
     ]
    },
    {
     "name": "stderr",
     "output_type": "stream",
     "text": [
      "[sudo] password for carloscrg19: [sudo] password for carloscrg19: "
     ]
    },
    {
     "name": "stdout",
     "output_type": "stream",
     "text": [
      "Total sum (block size -> 16K): 873333\n"
     ]
    },
    {
     "name": "stderr",
     "output_type": "stream",
     "text": [
      "[sudo] password for carloscrg19: [sudo] password for carloscrg19: "
     ]
    },
    {
     "name": "stdout",
     "output_type": "stream",
     "text": [
      "Total sum (block size -> 64K): 873333\n"
     ]
    },
    {
     "name": "stderr",
     "output_type": "stream",
     "text": [
      "[sudo] password for carloscrg19: [sudo] password for carloscrg19: "
     ]
    },
    {
     "name": "stdout",
     "output_type": "stream",
     "text": [
      "Total sum (block size -> 256K): 873333\n"
     ]
    },
    {
     "name": "stderr",
     "output_type": "stream",
     "text": [
      "[sudo] password for carloscrg19: [sudo] password for carloscrg19: "
     ]
    },
    {
     "name": "stdout",
     "output_type": "stream",
     "text": [
      "Total sum (block size -> 1M): 873333\n"
     ]
    },
    {
     "name": "stderr",
     "output_type": "stream",
     "text": [
      "[sudo] password for carloscrg19: "
     ]
    },
    {
     "name": "stdout",
     "output_type": "stream",
     "text": [
      "Total positions for lookup: 10000\n"
     ]
    },
    {
     "name": "stderr",
     "output_type": "stream",
     "text": [
      "[sudo] password for carloscrg19: "
     ]
    },
    {
     "name": "stdout",
     "output_type": "stream",
     "text": [
      "Total sum (block size -> 4K): 882099\n"
     ]
    },
    {
     "name": "stderr",
     "output_type": "stream",
     "text": [
      "[sudo] password for carloscrg19: [sudo] password for carloscrg19: "
     ]
    },
    {
     "name": "stdout",
     "output_type": "stream",
     "text": [
      "Total sum (block size -> 16K): 882099\n"
     ]
    },
    {
     "name": "stderr",
     "output_type": "stream",
     "text": [
      "[sudo] password for carloscrg19: [sudo] password for carloscrg19: "
     ]
    },
    {
     "name": "stdout",
     "output_type": "stream",
     "text": [
      "Total sum (block size -> 64K): 882099\n"
     ]
    },
    {
     "name": "stderr",
     "output_type": "stream",
     "text": [
      "[sudo] password for carloscrg19: [sudo] password for carloscrg19: "
     ]
    },
    {
     "name": "stdout",
     "output_type": "stream",
     "text": [
      "Total sum (block size -> 256K): 882099\n"
     ]
    },
    {
     "name": "stderr",
     "output_type": "stream",
     "text": [
      "[sudo] password for carloscrg19: [sudo] password for carloscrg19: "
     ]
    },
    {
     "name": "stdout",
     "output_type": "stream",
     "text": [
      "Total sum (block size -> 1M): 882099\n"
     ]
    },
    {
     "name": "stderr",
     "output_type": "stream",
     "text": [
      "[sudo] password for carloscrg19: "
     ]
    },
    {
     "name": "stdout",
     "output_type": "stream",
     "text": [
      "Total positions for lookup: 10000\n"
     ]
    },
    {
     "name": "stderr",
     "output_type": "stream",
     "text": [
      "[sudo] password for carloscrg19: "
     ]
    },
    {
     "name": "stdout",
     "output_type": "stream",
     "text": [
      "Total sum (block size -> 4K): 883800\n"
     ]
    },
    {
     "name": "stderr",
     "output_type": "stream",
     "text": [
      "[sudo] password for carloscrg19: [sudo] password for carloscrg19: "
     ]
    },
    {
     "name": "stdout",
     "output_type": "stream",
     "text": [
      "Total sum (block size -> 16K): 883800\n"
     ]
    },
    {
     "name": "stderr",
     "output_type": "stream",
     "text": [
      "[sudo] password for carloscrg19: [sudo] password for carloscrg19: "
     ]
    },
    {
     "name": "stdout",
     "output_type": "stream",
     "text": [
      "Total sum (block size -> 64K): 883800\n"
     ]
    },
    {
     "name": "stderr",
     "output_type": "stream",
     "text": [
      "[sudo] password for carloscrg19: [sudo] password for carloscrg19: "
     ]
    },
    {
     "name": "stdout",
     "output_type": "stream",
     "text": [
      "Total sum (block size -> 256K): 883800\n"
     ]
    },
    {
     "name": "stderr",
     "output_type": "stream",
     "text": [
      "[sudo] password for carloscrg19: [sudo] password for carloscrg19: "
     ]
    },
    {
     "name": "stdout",
     "output_type": "stream",
     "text": [
      "Total sum (block size -> 1M): 883800\n"
     ]
    },
    {
     "name": "stderr",
     "output_type": "stream",
     "text": [
      "[sudo] password for carloscrg19: "
     ]
    },
    {
     "name": "stdout",
     "output_type": "stream",
     "text": [
      "Total positions for lookup: 10000\n"
     ]
    },
    {
     "name": "stderr",
     "output_type": "stream",
     "text": [
      "[sudo] password for carloscrg19: "
     ]
    },
    {
     "name": "stdout",
     "output_type": "stream",
     "text": [
      "Total sum (block size -> 4K): 881567\n"
     ]
    },
    {
     "name": "stderr",
     "output_type": "stream",
     "text": [
      "[sudo] password for carloscrg19: [sudo] password for carloscrg19: "
     ]
    },
    {
     "name": "stdout",
     "output_type": "stream",
     "text": [
      "Total sum (block size -> 16K): 881567\n"
     ]
    },
    {
     "name": "stderr",
     "output_type": "stream",
     "text": [
      "[sudo] password for carloscrg19: [sudo] password for carloscrg19: "
     ]
    },
    {
     "name": "stdout",
     "output_type": "stream",
     "text": [
      "Total sum (block size -> 64K): 881567\n"
     ]
    },
    {
     "name": "stderr",
     "output_type": "stream",
     "text": [
      "[sudo] password for carloscrg19: [sudo] password for carloscrg19: "
     ]
    },
    {
     "name": "stdout",
     "output_type": "stream",
     "text": [
      "Total sum (block size -> 256K): 881567\n"
     ]
    },
    {
     "name": "stderr",
     "output_type": "stream",
     "text": [
      "[sudo] password for carloscrg19: [sudo] password for carloscrg19: "
     ]
    },
    {
     "name": "stdout",
     "output_type": "stream",
     "text": [
      "Total sum (block size -> 1M): 881567\n"
     ]
    },
    {
     "name": "stderr",
     "output_type": "stream",
     "text": [
      "[sudo] password for carloscrg19: "
     ]
    },
    {
     "name": "stdout",
     "output_type": "stream",
     "text": [
      "Total positions for lookup: 10000\n"
     ]
    },
    {
     "name": "stderr",
     "output_type": "stream",
     "text": [
      "[sudo] password for carloscrg19: "
     ]
    },
    {
     "name": "stdout",
     "output_type": "stream",
     "text": [
      "Total sum (block size -> 4K): 880210\n"
     ]
    },
    {
     "name": "stderr",
     "output_type": "stream",
     "text": [
      "[sudo] password for carloscrg19: [sudo] password for carloscrg19: "
     ]
    },
    {
     "name": "stdout",
     "output_type": "stream",
     "text": [
      "Total sum (block size -> 16K): 880210\n"
     ]
    },
    {
     "name": "stderr",
     "output_type": "stream",
     "text": [
      "[sudo] password for carloscrg19: [sudo] password for carloscrg19: "
     ]
    },
    {
     "name": "stdout",
     "output_type": "stream",
     "text": [
      "Total sum (block size -> 64K): 880210\n"
     ]
    },
    {
     "name": "stderr",
     "output_type": "stream",
     "text": [
      "[sudo] password for carloscrg19: [sudo] password for carloscrg19: "
     ]
    },
    {
     "name": "stdout",
     "output_type": "stream",
     "text": [
      "Total sum (block size -> 256K): 880210\n"
     ]
    },
    {
     "name": "stderr",
     "output_type": "stream",
     "text": [
      "[sudo] password for carloscrg19: [sudo] password for carloscrg19: "
     ]
    },
    {
     "name": "stdout",
     "output_type": "stream",
     "text": [
      "Total sum (block size -> 1M): 880210\n"
     ]
    },
    {
     "name": "stderr",
     "output_type": "stream",
     "text": [
      "[sudo] password for carloscrg19: "
     ]
    },
    {
     "name": "stdout",
     "output_type": "stream",
     "text": [
      "Total positions for lookup: 10000\n"
     ]
    },
    {
     "name": "stderr",
     "output_type": "stream",
     "text": [
      "[sudo] password for carloscrg19: "
     ]
    },
    {
     "name": "stdout",
     "output_type": "stream",
     "text": [
      "Total sum (block size -> 4K): 884684\n"
     ]
    },
    {
     "name": "stderr",
     "output_type": "stream",
     "text": [
      "[sudo] password for carloscrg19: [sudo] password for carloscrg19: "
     ]
    },
    {
     "name": "stdout",
     "output_type": "stream",
     "text": [
      "Total sum (block size -> 16K): 884684\n"
     ]
    },
    {
     "name": "stderr",
     "output_type": "stream",
     "text": [
      "[sudo] password for carloscrg19: [sudo] password for carloscrg19: "
     ]
    },
    {
     "name": "stdout",
     "output_type": "stream",
     "text": [
      "Total sum (block size -> 64K): 884684\n"
     ]
    },
    {
     "name": "stderr",
     "output_type": "stream",
     "text": [
      "[sudo] password for carloscrg19: [sudo] password for carloscrg19: "
     ]
    },
    {
     "name": "stdout",
     "output_type": "stream",
     "text": [
      "Total sum (block size -> 256K): 884684\n"
     ]
    },
    {
     "name": "stderr",
     "output_type": "stream",
     "text": [
      "[sudo] password for carloscrg19: [sudo] password for carloscrg19: "
     ]
    },
    {
     "name": "stdout",
     "output_type": "stream",
     "text": [
      "Total sum (block size -> 1M): 884684\n"
     ]
    },
    {
     "name": "stderr",
     "output_type": "stream",
     "text": [
      "[sudo] password for carloscrg19: "
     ]
    },
    {
     "name": "stdout",
     "output_type": "stream",
     "text": [
      "Total positions for lookup: 10000\n"
     ]
    },
    {
     "name": "stderr",
     "output_type": "stream",
     "text": [
      "[sudo] password for carloscrg19: "
     ]
    },
    {
     "name": "stdout",
     "output_type": "stream",
     "text": [
      "Total sum (block size -> 4K): 876424\n"
     ]
    },
    {
     "name": "stderr",
     "output_type": "stream",
     "text": [
      "[sudo] password for carloscrg19: [sudo] password for carloscrg19: "
     ]
    },
    {
     "name": "stdout",
     "output_type": "stream",
     "text": [
      "Total sum (block size -> 16K): 876424\n"
     ]
    },
    {
     "name": "stderr",
     "output_type": "stream",
     "text": [
      "[sudo] password for carloscrg19: [sudo] password for carloscrg19: "
     ]
    },
    {
     "name": "stdout",
     "output_type": "stream",
     "text": [
      "Total sum (block size -> 64K): 876424\n"
     ]
    },
    {
     "name": "stderr",
     "output_type": "stream",
     "text": [
      "[sudo] password for carloscrg19: [sudo] password for carloscrg19: "
     ]
    },
    {
     "name": "stdout",
     "output_type": "stream",
     "text": [
      "Total sum (block size -> 256K): 876424\n"
     ]
    },
    {
     "name": "stderr",
     "output_type": "stream",
     "text": [
      "[sudo] password for carloscrg19: [sudo] password for carloscrg19: "
     ]
    },
    {
     "name": "stdout",
     "output_type": "stream",
     "text": [
      "Total sum (block size -> 1M): 876424\n"
     ]
    },
    {
     "name": "stderr",
     "output_type": "stream",
     "text": [
      "[sudo] password for carloscrg19: "
     ]
    }
   ],
   "source": [
    "password = getpass.getpass() # Root user is needed to perform mounting/unmounting\n",
    "\n",
    "block_sizes = [\"4K\", \"16K\", \"64K\", \"256K\", \"1M\"] # different block sizes, powers of 4\n",
    "NB_LOOKUPS = 10000 # Number of random accesses to the file\n",
    "\n",
    "df_19 = pd.DataFrame() # new DataFrame to store the data\n",
    "\n",
    "print(f\"--| RANDOM ACCESS TO {file} |--\")\n",
    " \n",
    "size_original = get_file_size(file)\n",
    "filename = file.split(\".\")[0] # in case file has file format extension\n",
    "\n",
    "for i in range(10):\n",
    "    positions = random.sample(range(0, size_original), NB_LOOKUPS) # sample of NB_LOOKUPS random integers\n",
    "    print(f\"Total positions for lookup: {len(positions)}\")\n",
    "\n",
    "    for size in block_sizes:\n",
    "\n",
    "        # -- COMPRESSION PROCESS -- #\n",
    "        new_file = f\"{filename}-{size}\"\n",
    "\n",
    "        compression_command = f\"mksquashfs {file} {new_file}.sqsh -comp zstd -Xcompression-level {compression_level} -b {size} > /dev/null\"\n",
    "\n",
    "        # Compress and calculate time\n",
    "        start_time = time.time()\n",
    "        os.system(compression_command)\n",
    "        compression_time = time.time() - start_time\n",
    "\n",
    "        size_new = get_file_size(f\"{new_file}.sqsh\")\n",
    "\n",
    "        # Calc metrics\n",
    "        compression_ratio = get_compression_ratio(size_original, size_new)\n",
    "        compression_speed = get_speed(size_original, compression_time)\n",
    "\n",
    "        # -- MOUNTING PROCESS -- #\n",
    "        mounting_command = f\"sudo -S mount {new_file}.sqsh /mnt/squashfs-practice/ -t squashfs -o loop\"\n",
    "        os.system(\"echo %s | %s\" % (password, mounting_command))\n",
    "\n",
    "        # -- RANDOM ACCESS PATTERN -- #\n",
    "        fhand = open(f\"/mnt/squashfs-practice/{filename}\", \"rb\") # file object read as binary\n",
    "\n",
    "        start_time = time.time()\n",
    "\n",
    "        acc = 0\n",
    "        for pos in positions:\n",
    "            fhand.seek(pos)\n",
    "            val = ord(fhand.read(1)) # convert char to ASCII int\n",
    "            acc += val\n",
    "\n",
    "        access_time = time.time() - start_time\n",
    "\n",
    "        print(f\"Total sum (block size -> {size}): {acc}\")\n",
    "\n",
    "        os.system(\"sync\") # flush cache to reaload after each mount\n",
    "\n",
    "\n",
    "        # -- RESULTS SAVING -- #\n",
    "\n",
    "        df_19 = df_19.append({\n",
    "            \"block_size\": size,\n",
    "            f\"compression_ratio\": compression_ratio,\n",
    "            f\"compression_speed\": compression_speed,\n",
    "            f\"access_time\": access_time\n",
    "        }, ignore_index=True)\n",
    "\n",
    "        # -- UNMOUNTING PROCESS -- #\n",
    "        unmounting_command = f\"sudo -S umount -l /mnt/squashfs-practice/\"\n",
    "        os.system(f\"echo {password} | {unmounting_command}\")\n",
    "\n",
    "    os.system(f\"ls | grep {filename}- | xargs rm -R\") # Code to remove the created files "
   ]
  },
  {
   "cell_type": "markdown",
   "id": "3ab09178",
   "metadata": {},
   "source": [
    "### Results"
   ]
  },
  {
   "cell_type": "markdown",
   "id": "9cfb129e",
   "metadata": {},
   "source": [
    "The obtained data stored in the main DataFrame."
   ]
  },
  {
   "cell_type": "code",
   "execution_count": 11,
   "id": "3baf502e",
   "metadata": {
    "scrolled": false
   },
   "outputs": [
    {
     "data": {
      "text/html": [
       "<div>\n",
       "<style scoped>\n",
       "    .dataframe tbody tr th:only-of-type {\n",
       "        vertical-align: middle;\n",
       "    }\n",
       "\n",
       "    .dataframe tbody tr th {\n",
       "        vertical-align: top;\n",
       "    }\n",
       "\n",
       "    .dataframe thead th {\n",
       "        text-align: right;\n",
       "    }\n",
       "</style>\n",
       "<table border=\"1\" class=\"dataframe\">\n",
       "  <thead>\n",
       "    <tr style=\"text-align: right;\">\n",
       "      <th></th>\n",
       "      <th>block_size</th>\n",
       "      <th>compression_ratio</th>\n",
       "      <th>compression_speed</th>\n",
       "      <th>access_time</th>\n",
       "    </tr>\n",
       "  </thead>\n",
       "  <tbody>\n",
       "    <tr>\n",
       "      <th>0</th>\n",
       "      <td>4K</td>\n",
       "      <td>2.255570</td>\n",
       "      <td>52.23</td>\n",
       "      <td>1.086546</td>\n",
       "    </tr>\n",
       "    <tr>\n",
       "      <th>1</th>\n",
       "      <td>16K</td>\n",
       "      <td>2.734336</td>\n",
       "      <td>36.13</td>\n",
       "      <td>1.211001</td>\n",
       "    </tr>\n",
       "    <tr>\n",
       "      <th>2</th>\n",
       "      <td>64K</td>\n",
       "      <td>3.103864</td>\n",
       "      <td>24.11</td>\n",
       "      <td>1.474247</td>\n",
       "    </tr>\n",
       "    <tr>\n",
       "      <th>3</th>\n",
       "      <td>256K</td>\n",
       "      <td>3.401803</td>\n",
       "      <td>22.57</td>\n",
       "      <td>2.080417</td>\n",
       "    </tr>\n",
       "    <tr>\n",
       "      <th>4</th>\n",
       "      <td>1M</td>\n",
       "      <td>3.673055</td>\n",
       "      <td>20.57</td>\n",
       "      <td>2.288074</td>\n",
       "    </tr>\n",
       "    <tr>\n",
       "      <th>5</th>\n",
       "      <td>4K</td>\n",
       "      <td>2.255570</td>\n",
       "      <td>43.13</td>\n",
       "      <td>1.134752</td>\n",
       "    </tr>\n",
       "    <tr>\n",
       "      <th>6</th>\n",
       "      <td>16K</td>\n",
       "      <td>2.734336</td>\n",
       "      <td>32.59</td>\n",
       "      <td>1.139660</td>\n",
       "    </tr>\n",
       "    <tr>\n",
       "      <th>7</th>\n",
       "      <td>64K</td>\n",
       "      <td>3.103864</td>\n",
       "      <td>23.25</td>\n",
       "      <td>1.399750</td>\n",
       "    </tr>\n",
       "    <tr>\n",
       "      <th>8</th>\n",
       "      <td>256K</td>\n",
       "      <td>3.401803</td>\n",
       "      <td>21.85</td>\n",
       "      <td>2.105267</td>\n",
       "    </tr>\n",
       "    <tr>\n",
       "      <th>9</th>\n",
       "      <td>1M</td>\n",
       "      <td>3.673055</td>\n",
       "      <td>18.98</td>\n",
       "      <td>2.345601</td>\n",
       "    </tr>\n",
       "    <tr>\n",
       "      <th>10</th>\n",
       "      <td>4K</td>\n",
       "      <td>2.255570</td>\n",
       "      <td>39.64</td>\n",
       "      <td>1.204005</td>\n",
       "    </tr>\n",
       "    <tr>\n",
       "      <th>11</th>\n",
       "      <td>16K</td>\n",
       "      <td>2.734336</td>\n",
       "      <td>30.59</td>\n",
       "      <td>1.248103</td>\n",
       "    </tr>\n",
       "    <tr>\n",
       "      <th>12</th>\n",
       "      <td>64K</td>\n",
       "      <td>3.103864</td>\n",
       "      <td>23.01</td>\n",
       "      <td>1.380059</td>\n",
       "    </tr>\n",
       "    <tr>\n",
       "      <th>13</th>\n",
       "      <td>256K</td>\n",
       "      <td>3.401803</td>\n",
       "      <td>22.26</td>\n",
       "      <td>2.208968</td>\n",
       "    </tr>\n",
       "    <tr>\n",
       "      <th>14</th>\n",
       "      <td>1M</td>\n",
       "      <td>3.673055</td>\n",
       "      <td>19.97</td>\n",
       "      <td>2.324584</td>\n",
       "    </tr>\n",
       "    <tr>\n",
       "      <th>15</th>\n",
       "      <td>4K</td>\n",
       "      <td>2.255570</td>\n",
       "      <td>41.83</td>\n",
       "      <td>1.104692</td>\n",
       "    </tr>\n",
       "    <tr>\n",
       "      <th>16</th>\n",
       "      <td>16K</td>\n",
       "      <td>2.734336</td>\n",
       "      <td>31.49</td>\n",
       "      <td>1.270790</td>\n",
       "    </tr>\n",
       "    <tr>\n",
       "      <th>17</th>\n",
       "      <td>64K</td>\n",
       "      <td>3.103864</td>\n",
       "      <td>20.81</td>\n",
       "      <td>1.440675</td>\n",
       "    </tr>\n",
       "    <tr>\n",
       "      <th>18</th>\n",
       "      <td>256K</td>\n",
       "      <td>3.401803</td>\n",
       "      <td>21.11</td>\n",
       "      <td>2.305639</td>\n",
       "    </tr>\n",
       "    <tr>\n",
       "      <th>19</th>\n",
       "      <td>1M</td>\n",
       "      <td>3.673055</td>\n",
       "      <td>19.79</td>\n",
       "      <td>2.112238</td>\n",
       "    </tr>\n",
       "    <tr>\n",
       "      <th>20</th>\n",
       "      <td>4K</td>\n",
       "      <td>2.255570</td>\n",
       "      <td>40.22</td>\n",
       "      <td>1.140343</td>\n",
       "    </tr>\n",
       "    <tr>\n",
       "      <th>21</th>\n",
       "      <td>16K</td>\n",
       "      <td>2.734336</td>\n",
       "      <td>31.68</td>\n",
       "      <td>1.142056</td>\n",
       "    </tr>\n",
       "    <tr>\n",
       "      <th>22</th>\n",
       "      <td>64K</td>\n",
       "      <td>3.103864</td>\n",
       "      <td>22.87</td>\n",
       "      <td>1.408054</td>\n",
       "    </tr>\n",
       "    <tr>\n",
       "      <th>23</th>\n",
       "      <td>256K</td>\n",
       "      <td>3.401803</td>\n",
       "      <td>22.57</td>\n",
       "      <td>2.285949</td>\n",
       "    </tr>\n",
       "    <tr>\n",
       "      <th>24</th>\n",
       "      <td>1M</td>\n",
       "      <td>3.673055</td>\n",
       "      <td>20.87</td>\n",
       "      <td>2.059565</td>\n",
       "    </tr>\n",
       "    <tr>\n",
       "      <th>25</th>\n",
       "      <td>4K</td>\n",
       "      <td>2.255570</td>\n",
       "      <td>42.76</td>\n",
       "      <td>1.077463</td>\n",
       "    </tr>\n",
       "    <tr>\n",
       "      <th>26</th>\n",
       "      <td>16K</td>\n",
       "      <td>2.734336</td>\n",
       "      <td>32.09</td>\n",
       "      <td>1.172233</td>\n",
       "    </tr>\n",
       "    <tr>\n",
       "      <th>27</th>\n",
       "      <td>64K</td>\n",
       "      <td>3.103864</td>\n",
       "      <td>23.47</td>\n",
       "      <td>1.483376</td>\n",
       "    </tr>\n",
       "    <tr>\n",
       "      <th>28</th>\n",
       "      <td>256K</td>\n",
       "      <td>3.401803</td>\n",
       "      <td>22.64</td>\n",
       "      <td>2.278822</td>\n",
       "    </tr>\n",
       "    <tr>\n",
       "      <th>29</th>\n",
       "      <td>1M</td>\n",
       "      <td>3.673055</td>\n",
       "      <td>21.10</td>\n",
       "      <td>2.157189</td>\n",
       "    </tr>\n",
       "    <tr>\n",
       "      <th>30</th>\n",
       "      <td>4K</td>\n",
       "      <td>2.255570</td>\n",
       "      <td>42.81</td>\n",
       "      <td>1.049045</td>\n",
       "    </tr>\n",
       "    <tr>\n",
       "      <th>31</th>\n",
       "      <td>16K</td>\n",
       "      <td>2.734336</td>\n",
       "      <td>31.95</td>\n",
       "      <td>1.154217</td>\n",
       "    </tr>\n",
       "    <tr>\n",
       "      <th>32</th>\n",
       "      <td>64K</td>\n",
       "      <td>3.103864</td>\n",
       "      <td>23.31</td>\n",
       "      <td>1.425286</td>\n",
       "    </tr>\n",
       "    <tr>\n",
       "      <th>33</th>\n",
       "      <td>256K</td>\n",
       "      <td>3.401803</td>\n",
       "      <td>22.76</td>\n",
       "      <td>2.166350</td>\n",
       "    </tr>\n",
       "    <tr>\n",
       "      <th>34</th>\n",
       "      <td>1M</td>\n",
       "      <td>3.673055</td>\n",
       "      <td>21.13</td>\n",
       "      <td>2.077392</td>\n",
       "    </tr>\n",
       "    <tr>\n",
       "      <th>35</th>\n",
       "      <td>4K</td>\n",
       "      <td>2.255570</td>\n",
       "      <td>42.89</td>\n",
       "      <td>1.090121</td>\n",
       "    </tr>\n",
       "    <tr>\n",
       "      <th>36</th>\n",
       "      <td>16K</td>\n",
       "      <td>2.734336</td>\n",
       "      <td>32.08</td>\n",
       "      <td>1.161252</td>\n",
       "    </tr>\n",
       "    <tr>\n",
       "      <th>37</th>\n",
       "      <td>64K</td>\n",
       "      <td>3.103864</td>\n",
       "      <td>23.58</td>\n",
       "      <td>1.425562</td>\n",
       "    </tr>\n",
       "    <tr>\n",
       "      <th>38</th>\n",
       "      <td>256K</td>\n",
       "      <td>3.401803</td>\n",
       "      <td>22.72</td>\n",
       "      <td>2.140688</td>\n",
       "    </tr>\n",
       "    <tr>\n",
       "      <th>39</th>\n",
       "      <td>1M</td>\n",
       "      <td>3.673055</td>\n",
       "      <td>21.09</td>\n",
       "      <td>2.103031</td>\n",
       "    </tr>\n",
       "    <tr>\n",
       "      <th>40</th>\n",
       "      <td>4K</td>\n",
       "      <td>2.255570</td>\n",
       "      <td>42.94</td>\n",
       "      <td>1.103134</td>\n",
       "    </tr>\n",
       "    <tr>\n",
       "      <th>41</th>\n",
       "      <td>16K</td>\n",
       "      <td>2.734336</td>\n",
       "      <td>32.12</td>\n",
       "      <td>1.144250</td>\n",
       "    </tr>\n",
       "    <tr>\n",
       "      <th>42</th>\n",
       "      <td>64K</td>\n",
       "      <td>3.103864</td>\n",
       "      <td>23.57</td>\n",
       "      <td>1.403920</td>\n",
       "    </tr>\n",
       "    <tr>\n",
       "      <th>43</th>\n",
       "      <td>256K</td>\n",
       "      <td>3.401803</td>\n",
       "      <td>22.74</td>\n",
       "      <td>2.224889</td>\n",
       "    </tr>\n",
       "    <tr>\n",
       "      <th>44</th>\n",
       "      <td>1M</td>\n",
       "      <td>3.673055</td>\n",
       "      <td>21.09</td>\n",
       "      <td>2.031581</td>\n",
       "    </tr>\n",
       "    <tr>\n",
       "      <th>45</th>\n",
       "      <td>4K</td>\n",
       "      <td>2.255570</td>\n",
       "      <td>42.94</td>\n",
       "      <td>1.062177</td>\n",
       "    </tr>\n",
       "    <tr>\n",
       "      <th>46</th>\n",
       "      <td>16K</td>\n",
       "      <td>2.734336</td>\n",
       "      <td>32.15</td>\n",
       "      <td>1.150496</td>\n",
       "    </tr>\n",
       "    <tr>\n",
       "      <th>47</th>\n",
       "      <td>64K</td>\n",
       "      <td>3.103864</td>\n",
       "      <td>22.97</td>\n",
       "      <td>1.373199</td>\n",
       "    </tr>\n",
       "    <tr>\n",
       "      <th>48</th>\n",
       "      <td>256K</td>\n",
       "      <td>3.401803</td>\n",
       "      <td>21.90</td>\n",
       "      <td>2.236240</td>\n",
       "    </tr>\n",
       "    <tr>\n",
       "      <th>49</th>\n",
       "      <td>1M</td>\n",
       "      <td>3.673055</td>\n",
       "      <td>20.36</td>\n",
       "      <td>2.164060</td>\n",
       "    </tr>\n",
       "  </tbody>\n",
       "</table>\n",
       "</div>"
      ],
      "text/plain": [
       "   block_size  compression_ratio  compression_speed  access_time\n",
       "0          4K           2.255570              52.23     1.086546\n",
       "1         16K           2.734336              36.13     1.211001\n",
       "2         64K           3.103864              24.11     1.474247\n",
       "3        256K           3.401803              22.57     2.080417\n",
       "4          1M           3.673055              20.57     2.288074\n",
       "5          4K           2.255570              43.13     1.134752\n",
       "6         16K           2.734336              32.59     1.139660\n",
       "7         64K           3.103864              23.25     1.399750\n",
       "8        256K           3.401803              21.85     2.105267\n",
       "9          1M           3.673055              18.98     2.345601\n",
       "10         4K           2.255570              39.64     1.204005\n",
       "11        16K           2.734336              30.59     1.248103\n",
       "12        64K           3.103864              23.01     1.380059\n",
       "13       256K           3.401803              22.26     2.208968\n",
       "14         1M           3.673055              19.97     2.324584\n",
       "15         4K           2.255570              41.83     1.104692\n",
       "16        16K           2.734336              31.49     1.270790\n",
       "17        64K           3.103864              20.81     1.440675\n",
       "18       256K           3.401803              21.11     2.305639\n",
       "19         1M           3.673055              19.79     2.112238\n",
       "20         4K           2.255570              40.22     1.140343\n",
       "21        16K           2.734336              31.68     1.142056\n",
       "22        64K           3.103864              22.87     1.408054\n",
       "23       256K           3.401803              22.57     2.285949\n",
       "24         1M           3.673055              20.87     2.059565\n",
       "25         4K           2.255570              42.76     1.077463\n",
       "26        16K           2.734336              32.09     1.172233\n",
       "27        64K           3.103864              23.47     1.483376\n",
       "28       256K           3.401803              22.64     2.278822\n",
       "29         1M           3.673055              21.10     2.157189\n",
       "30         4K           2.255570              42.81     1.049045\n",
       "31        16K           2.734336              31.95     1.154217\n",
       "32        64K           3.103864              23.31     1.425286\n",
       "33       256K           3.401803              22.76     2.166350\n",
       "34         1M           3.673055              21.13     2.077392\n",
       "35         4K           2.255570              42.89     1.090121\n",
       "36        16K           2.734336              32.08     1.161252\n",
       "37        64K           3.103864              23.58     1.425562\n",
       "38       256K           3.401803              22.72     2.140688\n",
       "39         1M           3.673055              21.09     2.103031\n",
       "40         4K           2.255570              42.94     1.103134\n",
       "41        16K           2.734336              32.12     1.144250\n",
       "42        64K           3.103864              23.57     1.403920\n",
       "43       256K           3.401803              22.74     2.224889\n",
       "44         1M           3.673055              21.09     2.031581\n",
       "45         4K           2.255570              42.94     1.062177\n",
       "46        16K           2.734336              32.15     1.150496\n",
       "47        64K           3.103864              22.97     1.373199\n",
       "48       256K           3.401803              21.90     2.236240\n",
       "49         1M           3.673055              20.36     2.164060"
      ]
     },
     "execution_count": 11,
     "metadata": {},
     "output_type": "execute_result"
    }
   ],
   "source": [
    "df_19"
   ]
  },
  {
   "cell_type": "markdown",
   "id": "168c684f",
   "metadata": {},
   "source": [
    "Access Time Results for every Block Size."
   ]
  },
  {
   "cell_type": "code",
   "execution_count": 42,
   "id": "b0ef16fd",
   "metadata": {
    "scrolled": false
   },
   "outputs": [
    {
     "name": "stdout",
     "output_type": "stream",
     "text": [
      "Average results for Acess Time\n"
     ]
    },
    {
     "data": {
      "text/html": [
       "<div>\n",
       "<style scoped>\n",
       "    .dataframe tbody tr th:only-of-type {\n",
       "        vertical-align: middle;\n",
       "    }\n",
       "\n",
       "    .dataframe tbody tr th {\n",
       "        vertical-align: top;\n",
       "    }\n",
       "\n",
       "    .dataframe thead th {\n",
       "        text-align: right;\n",
       "    }\n",
       "</style>\n",
       "<table border=\"1\" class=\"dataframe\">\n",
       "  <thead>\n",
       "    <tr style=\"text-align: right;\">\n",
       "      <th></th>\n",
       "      <th>min</th>\n",
       "      <th>max</th>\n",
       "      <th>mean</th>\n",
       "      <th>std</th>\n",
       "    </tr>\n",
       "    <tr>\n",
       "      <th>block_size</th>\n",
       "      <th></th>\n",
       "      <th></th>\n",
       "      <th></th>\n",
       "      <th></th>\n",
       "    </tr>\n",
       "  </thead>\n",
       "  <tbody>\n",
       "    <tr>\n",
       "      <th>4K</th>\n",
       "      <td>1.049045</td>\n",
       "      <td>1.204005</td>\n",
       "      <td>1.105228</td>\n",
       "      <td>0.044999</td>\n",
       "    </tr>\n",
       "    <tr>\n",
       "      <th>16K</th>\n",
       "      <td>1.139660</td>\n",
       "      <td>1.270790</td>\n",
       "      <td>1.179406</td>\n",
       "      <td>0.047294</td>\n",
       "    </tr>\n",
       "    <tr>\n",
       "      <th>64K</th>\n",
       "      <td>1.373199</td>\n",
       "      <td>1.483376</td>\n",
       "      <td>1.421413</td>\n",
       "      <td>0.036549</td>\n",
       "    </tr>\n",
       "    <tr>\n",
       "      <th>256K</th>\n",
       "      <td>2.080417</td>\n",
       "      <td>2.305639</td>\n",
       "      <td>2.203323</td>\n",
       "      <td>0.077880</td>\n",
       "    </tr>\n",
       "    <tr>\n",
       "      <th>1M</th>\n",
       "      <td>2.031581</td>\n",
       "      <td>2.345601</td>\n",
       "      <td>2.166332</td>\n",
       "      <td>0.113769</td>\n",
       "    </tr>\n",
       "  </tbody>\n",
       "</table>\n",
       "</div>"
      ],
      "text/plain": [
       "                 min       max      mean       std\n",
       "block_size                                        \n",
       "4K          1.049045  1.204005  1.105228  0.044999\n",
       "16K         1.139660  1.270790  1.179406  0.047294\n",
       "64K         1.373199  1.483376  1.421413  0.036549\n",
       "256K        2.080417  2.305639  2.203323  0.077880\n",
       "1M          2.031581  2.345601  2.166332  0.113769"
      ]
     },
     "execution_count": 42,
     "metadata": {},
     "output_type": "execute_result"
    }
   ],
   "source": [
    "print(\"Average results for Acess Time\")\n",
    "\n",
    "mean_df = df_19.groupby(\"block_size\").access_time.agg([\"min\", \"max\", \"mean\", \"std\"])\n",
    "\n",
    "# Sorting the DataFrame on Block Size\n",
    "mean_df[\"sort\"] = mean_df.index.map(lambda x: int(x[:-1]) if x[-1] == \"K\" else int(x[:-1])*1000)\n",
    "mean_df.sort_values(by=\"sort\", inplace=True)\n",
    "mean_df.drop(\"sort\", axis=1, inplace=True)\n",
    "\n",
    "mean_df"
   ]
  },
  {
   "cell_type": "markdown",
   "id": "9f723aca",
   "metadata": {},
   "source": [
    "Creation of main graph. "
   ]
  },
  {
   "cell_type": "code",
   "execution_count": 54,
   "id": "9d8c2b65",
   "metadata": {
    "scrolled": true
   },
   "outputs": [
    {
     "data": {
      "image/png": "[encoded data removed]",
      "text/plain": [
       "<Figure size 720x504 with 1 Axes>"
      ]
     },
     "metadata": {
      "needs_background": "light"
     },
     "output_type": "display_data"
    }
   ],
   "source": [
    "fig, ax = plt.subplots()\n",
    "\n",
    "fig.suptitle(\"Effect of Different Block Sizes on Access Speed with Zstd and SquashFS\", weight=\"bold\", y=1)\n",
    "fig.text(s=f\"Number of Lookups: {NB_LOOKUPS}\", y=0.95, x=0.4)\n",
    "\n",
    "x = [pow(4,i) for i in range(1, 6)] # Array for ticks in X axis \n",
    "\n",
    "ax.semilogx(x, mean_df[\"mean\"], base=4)\n",
    "ax.fill_between(x, mean_df[\"mean\"] - mean_df[\"std\"], mean_df[\"mean\"] + mean_df[\"std\"], alpha=0.2)\n",
    "\n",
    "ax.set_ylabel(\"Access Time(s)\")\n",
    "ax.set_xlabel(\"Block Size\")\n",
    "ax.set_xticks(x)\n",
    "ax.set_xticklabels(block_sizes)\n",
    "\n",
    "fig.tight_layout()\n",
    "plt.show()"
   ]
  }
 ],
 "metadata": {
  "kernelspec": {
   "display_name": "Python 3 (ipykernel)",
   "language": "python",
   "name": "python3"
  },
  "language_info": {
   "codemirror_mode": {
    "name": "ipython",
    "version": 3
   },
   "file_extension": ".py",
   "mimetype": "text/x-python",
   "name": "python",
   "nbconvert_exporter": "python",
   "pygments_lexer": "ipython3",
   "version": "3.9.7"
  }
 },
 "nbformat": 4,
 "nbformat_minor": 5
}
