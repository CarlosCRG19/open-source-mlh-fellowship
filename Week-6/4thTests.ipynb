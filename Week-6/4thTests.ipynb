{
 "cells": [
  {
   "cell_type": "markdown",
   "id": "eccf1a58",
   "metadata": {},
   "source": [
    "# Effect of Dictionary Compression on the use of different block sizes"
   ]
  },
  {
   "cell_type": "markdown",
   "id": "ed28fb74",
   "metadata": {},
   "source": [
    "### Notebook Configurations"
   ]
  },
  {
   "cell_type": "markdown",
   "id": "515a88c6",
   "metadata": {},
   "source": [
    "_Imports_"
   ]
  },
  {
   "cell_type": "code",
   "execution_count": 2,
   "id": "bf903b92",
   "metadata": {},
   "outputs": [],
   "source": [
    "import os\n",
    "import re\n",
    "import time \n",
    "import numpy as np\n",
    "import pandas as pd\n",
    "import matplotlib.pyplot as plt\n",
    "from subprocess import Popen, PIPE"
   ]
  },
  {
   "cell_type": "markdown",
   "id": "6b5eb16b",
   "metadata": {},
   "source": [
    "_Matplotlib Figures Styles_"
   ]
  },
  {
   "cell_type": "code",
   "execution_count": 3,
   "id": "21d04023",
   "metadata": {},
   "outputs": [],
   "source": [
    "plt.rcParams['figure.figsize'] = (11, 8) # for the size of matplotlib plots\n",
    "plt.rcParams['axes.spines.top'] = False\n",
    "plt.rcParams['axes.spines.right'] = False\n",
    "plt.rcParams['axes.grid'] = True\n",
    "plt.rcParams['axes.grid.axis'] = \"y\"\n",
    "plt.rcParams['axes.axisbelow'] = True\n",
    "plt.rcParams['grid.color'] = \"#EEEEEE\""
   ]
  },
  {
   "cell_type": "markdown",
   "id": "67657b54",
   "metadata": {},
   "source": [
    "### Initial Hyphotesis"
   ]
  },
  {
   "cell_type": "markdown",
   "id": "b55360f1",
   "metadata": {},
   "source": [
    "In previous tests, it has been proven that smaller blocks (4K or 16K) are the best for random access. This justifies the need for using this sizes in a use case like a read-only filesystem (such as SquashFS).\n",
    "\n",
    "Now, when it comes to using small block sizes in data compression, dictionary compression can provide a better performance in terms of compression ratio, compression speed and decompression speed, compared to other traditional algorithms."
   ]
  },
  {
   "cell_type": "markdown",
   "id": "310e73ca",
   "metadata": {},
   "source": [
    "### Initial Variables"
   ]
  },
  {
   "cell_type": "markdown",
   "id": "b5a105d6",
   "metadata": {},
   "source": [
    "__enwik9__ file is used for the purpose of these tests, it is a database based on Wikipedia composed of mostly english text in XML encoded with UTF-8. The file is very large at 1GB so it is good for testing compression.\n",
    "\n",
    "Two Zstd compression levels are used for comparison with using a dictionary. The expectation is that dictionary compression will outperform both of them."
   ]
  },
  {
   "cell_type": "code",
   "execution_count": 4,
   "id": "c446a512",
   "metadata": {},
   "outputs": [],
   "source": [
    "file = \"enwik9\""
   ]
  },
  {
   "cell_type": "code",
   "execution_count": 5,
   "id": "e9122a55",
   "metadata": {},
   "outputs": [],
   "source": [
    "compression_levels = [3, 19] # compression levels for Zstandard"
   ]
  },
  {
   "cell_type": "markdown",
   "id": "34db5b96",
   "metadata": {},
   "source": [
    "_Helper functions_"
   ]
  },
  {
   "cell_type": "code",
   "execution_count": 6,
   "id": "d002aa01",
   "metadata": {},
   "outputs": [],
   "source": [
    "def get_metrics(stream):\n",
    "    \n",
    "    output = stream.read().decode(\"utf-8\")\n",
    "    results = output.split(\":\")[-1] \n",
    "    \n",
    "    metrics_list = results.split(\",\")\n",
    "    \n",
    "    print(metrics_list)\n",
    "    \n",
    "    compression_ratio = metrics_list[0][-6:-1]\n",
    "    compression_speed = metrics_list[1][:6]\n",
    "    decompression_speed = metrics_list[2][:6]\n",
    "    \n",
    "    return float(compression_ratio), float(compression_speed), float(decompression_speed)    "
   ]
  },
  {
   "cell_type": "markdown",
   "id": "d65b4c1a",
   "metadata": {},
   "source": [
    "## Effect of Dictionary Compression on the use of different block sizes"
   ]
  },
  {
   "cell_type": "markdown",
   "id": "990d2d00",
   "metadata": {},
   "source": [
    "The following uses the -b option of Zstd to calculate the metrics of compression with different block sizes. First it gets the results for dictionary compression and then it calculates performance with traditional compression using the specified compression levels. All of this data is saved in a Pandas DataFrame for further exploration.\n",
    "\n",
    "__Example Compression:__ _zstd -b -B{BLOCK SIZE} {FILE} (-D {DICTIONARY})_"
   ]
  },
  {
   "cell_type": "code",
   "execution_count": 6,
   "id": "d7dd18d6",
   "metadata": {
    "scrolled": false
   },
   "outputs": [
    {
     "name": "stderr",
     "output_type": "stream",
     "text": [
      "Trying 5 different sets of parameters                                          \n",
      "k=537                                                                          \n",
      "d=8\n",
      "f=20\n",
      "steps=4\n",
      "split=75\n",
      "accel=1\n",
      "Save dictionary of size 112640 into file dictionary \n"
     ]
    },
    {
     "name": "stdout",
     "output_type": "stream",
     "text": [
      "['1000000000 -> 360101455 (2.777)', ' 146.3 MB/s ', ' 657.2 MB/s \\r 3#\\n']\n",
      "['1000000000 -> 460118093 (2.173)', ' 144.7 MB/s ', ' 584.7 MB/s \\r 3#\\n']\n",
      "['1000000000 -> 442903310 (2.258)', '  6.28 MB/s ', ' 556.6 MB/s \\r19#\\n']\n"
     ]
    },
    {
     "name": "stderr",
     "output_type": "stream",
     "text": [
      "Trying 5 different sets of parameters                                          \n",
      "k=50                                                                           \n",
      "d=8\n",
      "f=20\n",
      "steps=4\n",
      "split=75\n",
      "accel=1\n",
      "Save dictionary of size 112640 into file dictionary \n"
     ]
    },
    {
     "name": "stdout",
     "output_type": "stream",
     "text": [
      "['1000000000 -> 339208010 (2.948)', ' 144.5 MB/s ', ' 689.9 MB/s \\r 3#\\n']\n",
      "['1000000000 -> 390034338 (2.564)', ' 188.7 MB/s ', ' 770.4 MB/s \\r 3#\\n']\n",
      "['1000000000 -> 365586903 (2.735)', '  4.63 MB/s ', ' 744.7 MB/s \\r19#\\n']\n"
     ]
    },
    {
     "name": "stderr",
     "output_type": "stream",
     "text": [
      "Trying 5 different sets of parameters                                          \n",
      "k=50                                                                           \n",
      "d=8\n",
      "f=20\n",
      "steps=4\n",
      "split=75\n",
      "accel=1\n",
      "Save dictionary of size 112640 into file dictionary \n"
     ]
    },
    {
     "name": "stdout",
     "output_type": "stream",
     "text": [
      "['1000000000 -> 323880824 (3.088)', ' 159.3 MB/s ', ' 784.7 MB/s \\r 3#\\n']\n",
      "['1000000000 -> 353665173 (2.828)', ' 191.4 MB/s ', ' 979.6 MB/s \\r 3#\\n']\n",
      "['1000000000 -> 322142139 (3.104)', '  2.91 MB/s ', ' 941.6 MB/s \\r19#\\n']\n"
     ]
    },
    {
     "name": "stderr",
     "output_type": "stream",
     "text": [
      "Trying 5 different sets of parameters                                          \n",
      "k=50                                                                           \n",
      "d=8\n",
      "f=20\n",
      "steps=4\n",
      "split=75\n",
      "accel=1\n",
      "Save dictionary of size 112640 into file dictionary \n"
     ]
    },
    {
     "name": "stdout",
     "output_type": "stream",
     "text": [
      "['1000000000 -> 320986811 (3.115)', ' 137.9 MB/s ', ' 934.2 MB/s \\r 3#\\n']\n",
      "['1000000000 -> 336470286 (2.972)', ' 173.4 MB/s ', ' 969.6 MB/s \\r 3#\\n']\n",
      "['1000000000 -> 293596442 (3.406)', '  3.19 MB/s ', ' 992.0 MB/s \\r19#\\n']\n"
     ]
    },
    {
     "name": "stderr",
     "output_type": "stream",
     "text": [
      "!  Warning : some sample(s) are very large \n",
      "!  Note that dictionary is only useful for small samples. \n",
      "!  As a consequence, only the first 131072 bytes of each sample are loaded \n",
      "Trying 5 different sets of parameters                                          \n",
      "k=50                                                                           \n",
      "d=8\n",
      "f=20\n",
      "steps=4\n",
      "split=75\n",
      "accel=1\n",
      "Save dictionary of size 112640 into file dictionary \n"
     ]
    },
    {
     "name": "stdout",
     "output_type": "stream",
     "text": [
      "['1000000000 -> 320669907 (3.118)', ' 149.5 MB/s ', ' 893.1 MB/s \\r 3#\\n']\n",
      "['1000000000 -> 319338150 (3.131)', ' 121.1 MB/s ', ' 963.0 MB/s \\r 3#\\n']\n",
      "['1000000000 -> 272097833 (3.675)', '  2.75 MB/s ', '1062.3 MB/s \\r19#\\n']\n"
     ]
    }
   ],
   "source": [
    "block_sizes = [\"4K\", \"16K\", \"64K\", \"256K\", \"1M\"] # different block sizes, powers of 4\n",
    "\n",
    "# New DataFrame\n",
    "df = pd.DataFrame()\n",
    "\n",
    "for size in block_sizes:\n",
    "    \n",
    "    row = { \"block_size\": size }\n",
    "    \n",
    "    # -- DICTIONARY COMPRESSION -- #\n",
    "    \n",
    "    # Building dictionary\n",
    "    dic_building_command = f\"zstd --train -3 -B{size} {file}\"\n",
    "    os.system(dic_building_command)\n",
    "    \n",
    "    # Benchmarks with dictionary\n",
    "    dic_benchmark_command = f\"zstd -b3 -B{size} {file} -D dictionary\"\n",
    "    dic_stream = Popen(dic_benchmark_command,\n",
    "                       shell=True,\n",
    "                       stdout=PIPE,\n",
    "                       stderr=PIPE)\n",
    "   \n",
    "    # Metrics extraction\n",
    "    dic_compression_ratio, dic_compression_speed, dic_decompression_speed = get_metrics(dic_stream.stderr)\n",
    "    \n",
    "    \n",
    "    # Result saving\n",
    "    row[\"compression_ratio_dic\"] = dic_compression_ratio\n",
    "    row[\"compression_speed_dic\"] = dic_compression_speed\n",
    "    row[\"decompression_speed_dic\"] = dic_decompression_speed\n",
    "    \n",
    "    os.system(\"rm dictionary\") # remove created dictionary\n",
    "    \n",
    "    # -- NORMAL COMPRESSION -- #\n",
    "    \n",
    "    for level in compression_levels:\n",
    "        \n",
    "        benchmark_command = f\"zstd -b{level} -B{size} {file}\"\n",
    "        \n",
    "        stream = Popen(benchmark_command,\n",
    "                       shell=True,\n",
    "                       stdout=PIPE,\n",
    "                       stderr=PIPE)\n",
    "    \n",
    "        compression_ratio, compression_speed, decompression_speed = get_metrics(stream.stderr)\n",
    "        \n",
    "        row[f\"compression_ratio_l{level}\"] = compression_ratio\n",
    "        row[f\"compression_speed_l{level}\"] = compression_speed\n",
    "        row[f\"decompression_speed_l{level}\"] = decompression_speed\n",
    "        \n",
    "        \n",
    "    df = df.append(row, ignore_index=True)"
   ]
  },
  {
   "cell_type": "markdown",
   "id": "3ab09178",
   "metadata": {},
   "source": [
    "### Results"
   ]
  },
  {
   "cell_type": "markdown",
   "id": "9cfb129e",
   "metadata": {},
   "source": [
    "The obtained data stored in the main DataFrame."
   ]
  },
  {
   "cell_type": "code",
   "execution_count": 7,
   "id": "3baf502e",
   "metadata": {
    "scrolled": false
   },
   "outputs": [
    {
     "data": {
      "text/html": [
       "<div>\n",
       "<style scoped>\n",
       "    .dataframe tbody tr th:only-of-type {\n",
       "        vertical-align: middle;\n",
       "    }\n",
       "\n",
       "    .dataframe tbody tr th {\n",
       "        vertical-align: top;\n",
       "    }\n",
       "\n",
       "    .dataframe thead th {\n",
       "        text-align: right;\n",
       "    }\n",
       "</style>\n",
       "<table border=\"1\" class=\"dataframe\">\n",
       "  <thead>\n",
       "    <tr style=\"text-align: right;\">\n",
       "      <th></th>\n",
       "      <th>block_size</th>\n",
       "      <th>compression_ratio_dic</th>\n",
       "      <th>compression_speed_dic</th>\n",
       "      <th>decompression_speed_dic</th>\n",
       "      <th>compression_ratio_l3</th>\n",
       "      <th>compression_speed_l3</th>\n",
       "      <th>decompression_speed_l3</th>\n",
       "      <th>compression_ratio_l19</th>\n",
       "      <th>compression_speed_l19</th>\n",
       "      <th>decompression_speed_l19</th>\n",
       "    </tr>\n",
       "  </thead>\n",
       "  <tbody>\n",
       "    <tr>\n",
       "      <th>0</th>\n",
       "      <td>4K</td>\n",
       "      <td>2.777</td>\n",
       "      <td>146.3</td>\n",
       "      <td>657.2</td>\n",
       "      <td>2.173</td>\n",
       "      <td>144.7</td>\n",
       "      <td>584.7</td>\n",
       "      <td>2.258</td>\n",
       "      <td>6.28</td>\n",
       "      <td>556.6</td>\n",
       "    </tr>\n",
       "    <tr>\n",
       "      <th>1</th>\n",
       "      <td>16K</td>\n",
       "      <td>2.948</td>\n",
       "      <td>144.5</td>\n",
       "      <td>689.9</td>\n",
       "      <td>2.564</td>\n",
       "      <td>188.7</td>\n",
       "      <td>770.4</td>\n",
       "      <td>2.735</td>\n",
       "      <td>4.63</td>\n",
       "      <td>744.7</td>\n",
       "    </tr>\n",
       "    <tr>\n",
       "      <th>2</th>\n",
       "      <td>64K</td>\n",
       "      <td>3.088</td>\n",
       "      <td>159.3</td>\n",
       "      <td>784.7</td>\n",
       "      <td>2.828</td>\n",
       "      <td>191.4</td>\n",
       "      <td>979.6</td>\n",
       "      <td>3.104</td>\n",
       "      <td>2.91</td>\n",
       "      <td>941.6</td>\n",
       "    </tr>\n",
       "    <tr>\n",
       "      <th>3</th>\n",
       "      <td>256K</td>\n",
       "      <td>3.115</td>\n",
       "      <td>137.9</td>\n",
       "      <td>934.2</td>\n",
       "      <td>2.972</td>\n",
       "      <td>173.4</td>\n",
       "      <td>969.6</td>\n",
       "      <td>3.406</td>\n",
       "      <td>3.19</td>\n",
       "      <td>992.0</td>\n",
       "    </tr>\n",
       "    <tr>\n",
       "      <th>4</th>\n",
       "      <td>1M</td>\n",
       "      <td>3.118</td>\n",
       "      <td>149.5</td>\n",
       "      <td>893.1</td>\n",
       "      <td>3.131</td>\n",
       "      <td>121.1</td>\n",
       "      <td>963.0</td>\n",
       "      <td>3.675</td>\n",
       "      <td>2.75</td>\n",
       "      <td>1062.3</td>\n",
       "    </tr>\n",
       "  </tbody>\n",
       "</table>\n",
       "</div>"
      ],
      "text/plain": [
       "  block_size  compression_ratio_dic  compression_speed_dic  \\\n",
       "0         4K                  2.777                  146.3   \n",
       "1        16K                  2.948                  144.5   \n",
       "2        64K                  3.088                  159.3   \n",
       "3       256K                  3.115                  137.9   \n",
       "4         1M                  3.118                  149.5   \n",
       "\n",
       "   decompression_speed_dic  compression_ratio_l3  compression_speed_l3  \\\n",
       "0                    657.2                 2.173                 144.7   \n",
       "1                    689.9                 2.564                 188.7   \n",
       "2                    784.7                 2.828                 191.4   \n",
       "3                    934.2                 2.972                 173.4   \n",
       "4                    893.1                 3.131                 121.1   \n",
       "\n",
       "   decompression_speed_l3  compression_ratio_l19  compression_speed_l19  \\\n",
       "0                   584.7                  2.258                   6.28   \n",
       "1                   770.4                  2.735                   4.63   \n",
       "2                   979.6                  3.104                   2.91   \n",
       "3                   969.6                  3.406                   3.19   \n",
       "4                   963.0                  3.675                   2.75   \n",
       "\n",
       "   decompression_speed_l19  \n",
       "0                    556.6  \n",
       "1                    744.7  \n",
       "2                    941.6  \n",
       "3                    992.0  \n",
       "4                   1062.3  "
      ]
     },
     "execution_count": 7,
     "metadata": {},
     "output_type": "execute_result"
    }
   ],
   "source": [
    "df"
   ]
  },
  {
   "cell_type": "markdown",
   "id": "9f723aca",
   "metadata": {},
   "source": [
    "Creation of main graph. "
   ]
  },
  {
   "cell_type": "code",
   "execution_count": 9,
   "id": "9d8c2b65",
   "metadata": {
    "scrolled": false
   },
   "outputs": [
    {
     "name": "stderr",
     "output_type": "stream",
     "text": [
      "/tmp/ipykernel_6466/1479605419.py:36: UserWarning: You have mixed positional and keyword arguments, some input may be discarded.\n",
      "  fig.legend([ax1, ax2, ax3],\n"
     ]
    },
    {
     "data": {
      "image/png": "[encoded data removed]",
      "text/plain": [
       "<Figure size 792x576 with 3 Axes>"
      ]
     },
     "metadata": {
      "needs_background": "light"
     },
     "output_type": "display_data"
    }
   ],
   "source": [
    "# GRAPH IMPLEMENTED WITH MATPLOTLIB SUBPLOTS\n",
    "\n",
    "# Creation of subplots\n",
    "fig, (ax1, ax2, ax3) = plt.subplots(3, 1, sharex=True)\n",
    "fig.suptitle(\"Effect of Dictionary in Compression Ratio, Compression Speed and Decompression Speed\", weight=\"bold\")\n",
    "fig.text(s=f\"File used: {file}\", y=0.93, x=0.4)\n",
    "\n",
    "markers = [\"o\", \"^\", \"x\", \"s\", \".\"] # Possible markers to differentiate the plots for each file (allows for 5 different files)\n",
    "\n",
    "columns = [\"compression_ratio\", \"compression_speed\", \"decompression_speed\"] \n",
    "x = [pow(4,i) for i in range(1, 6)] # Array for ticks in X axis \n",
    "\n",
    "benchmarks = [\"dic\"] + [f\"l{level}\" for level in compression_levels]\n",
    "\n",
    "for (i, benchmark) in enumerate(benchmarks):\n",
    "        \n",
    "    # semilogx is used for these plots as it allows a logaritmic\n",
    "    # progression in the x axis. Block sizes are selected following a progression of base 4\n",
    "    ax1.semilogx(x, df[f\"compression_ratio_{benchmark}\"], label=benchmark, base=4, marker=markers[i])\n",
    "    ax2.semilogx(x, df[f\"compression_speed_{benchmark}\"], label=benchmark, base=4, marker=markers[i])\n",
    "    ax3.semilogx(x, df[f\"decompression_speed_{benchmark}\"], label=benchmark, base=4, marker=markers[i])\n",
    "\n",
    "# AXES STYLES\n",
    "\n",
    "# Y axis\n",
    "ax1.set_ylabel(\"Compression Ratio\", labelpad=10)\n",
    "ax2.set_ylabel(\"Comp Speed (MB/s)\", labelpad=10)\n",
    "ax3.set_ylabel(\"Decomp Speed (MB/s)\", labelpad=10)\n",
    "\n",
    "# X axis\n",
    "ax3.set_xlabel(\"Block Size\", labelpad=10)\n",
    "ax3.set_xticks(x)\n",
    "ax3.set_xticklabels(block_sizes)\n",
    "    \n",
    "# Labels to identify each file\n",
    "fig.legend([ax1, ax2, ax3],\n",
    "           labels=[\"Dictionary\", \"Level 3\", \"Level 19\"],      \n",
    "           loc=\"center right\",\n",
    "           borderaxespad=0.1,\n",
    "           title=\"File\"\n",
    "          )\n",
    "    \n",
    "plt.show()"
   ]
  },
  {
   "cell_type": "code",
   "execution_count": 23,
   "id": "d2fbd3d6",
   "metadata": {},
   "outputs": [
    {
     "data": {
      "image/png": "[encoded data removed]",
      "text/plain": [
       "<Figure size 792x576 with 1 Axes>"
      ]
     },
     "metadata": {
      "needs_background": "light"
     },
     "output_type": "display_data"
    }
   ],
   "source": [
    "fig, ax = plt.subplots()\n",
    "\n",
    "x = np.arange(len(df))\n",
    "width = 0.27\n",
    "\n",
    "bars_dic = ax.bar(x, df[\"compression_ratio_dic\"], width, label=\"Dictionary\")\n",
    "bars_l3 = ax.bar(x + width, df[\"compression_ratio_l3\"], width, label=\"Level 3\")\n",
    "bars_l19 = ax.bar(x + width*2, df[\"compression_ratio_l19\"], width, label=\"Level 19\")\n",
    "\n",
    "ax.set_ylabel(\"Compression Ratio\")\n",
    "ax.set_xlabel(\"Block Size\")\n",
    "ax.set_xticks(x+width)\n",
    "ax.set_xticklabels(df[\"block_size\"])\n",
    "ax.legend()\n",
    "\n",
    "ax.bar_label(bars_dic, padding=3)\n",
    "ax.bar_label(bars_l3, padding=3)\n",
    "ax.bar_label(bars_l19, padding=3)\n",
    "\n",
    "ax.set_title('Compression Ratio', color='#333333', pad=30, weight='bold')\n",
    "fig.text(s=f\"File used: {file}\", y=0.93, x=0.465)\n",
    "\n",
    "fig.tight_layout()\n",
    "plt.show()"
   ]
  },
  {
   "cell_type": "markdown",
   "id": "27e34b68",
   "metadata": {},
   "source": [
    "### Insights"
   ]
  },
  {
   "cell_type": "markdown",
   "id": "653c3e4f",
   "metadata": {},
   "source": [
    "It can be observed that the smaller the block size, the bigger is the difference in performance in favor of dictionary compression. In this case, using a dictionary, with the default compression level (level 3), was the overall best for the 4K size; specially, it shined in terms of Compression Ratio (24% improvement over Level 19).\n",
    "\n",
    "Regarding compression ratio, Dictionary Compression was outperformed by \"regular\" compression with Level 19 until reaching the 64K size (even though it was still faster in compression speed). \n",
    "\n",
    "Level 3 surpassed the compression ratio of a dictionary until 256K size.\n",
    "\n",
    "With this, the effectiveness of Dictionary Compression with small blocks (or small files) is proven."
   ]
  },
  {
   "cell_type": "markdown",
   "id": "56b3863b",
   "metadata": {},
   "source": [
    "## Testing different levels for Dictionary Compression"
   ]
  },
  {
   "cell_type": "markdown",
   "id": "e112ae98",
   "metadata": {},
   "source": [
    "A compression level (1 to 19) can also be specified when creating and using a Dictionary. If a compression level is specified in training, the resulting dictionary is supposed to be more efficient with the target compression level."
   ]
  },
  {
   "cell_type": "code",
   "execution_count": 10,
   "id": "86ab44e7",
   "metadata": {},
   "outputs": [],
   "source": [
    "# The next tests will be run with a small\n",
    "# block size. In this case, 4K will be used\n",
    "block_size = \"4K\""
   ]
  },
  {
   "cell_type": "code",
   "execution_count": 8,
   "id": "60621949",
   "metadata": {},
   "outputs": [
    {
     "name": "stderr",
     "output_type": "stream",
     "text": [
      "Trying 5 different sets of parameters                                          \n",
      "k=537                                                                          \n",
      "d=8\n",
      "f=20\n",
      "steps=4\n",
      "split=75\n",
      "accel=1\n",
      "Save dictionary of size 112640 into file dictionary \n"
     ]
    },
    {
     "data": {
      "text/plain": [
       "0"
      ]
     },
     "execution_count": 8,
     "metadata": {},
     "output_type": "execute_result"
    }
   ],
   "source": [
    "# Train dictionary with level 3 of compression\n",
    "os.system(f\"zstd --train -3  -B{block_size} {file}\")"
   ]
  },
  {
   "cell_type": "code",
   "execution_count": 9,
   "id": "ad87c559",
   "metadata": {
    "scrolled": true
   },
   "outputs": [
    {
     "name": "stderr",
     "output_type": "stream",
     "text": [
      " 1#enwik9            :1000000000 -> 402965694 (2.482), 181.7 MB/s , 659.7 MB/s \n",
      " 2#enwik9            :1000000000 -> 379225912 (2.637), 181.0 MB/s , 567.8 MB/s \n",
      " 3#enwik9            :1000000000 -> 360101455 (2.777), 105.1 MB/s , 581.1 MB/s \n",
      " 4#enwik9            :1000000000 -> 380487898 (2.628),  81.5 MB/s , 525.9 MB/s \n",
      " 5#enwik9            :1000000000 -> 367904291 (2.718),  67.0 MB/s , 568.5 MB/s \n"
     ]
    },
    {
     "data": {
      "text/plain": [
       "0"
      ]
     },
     "execution_count": 9,
     "metadata": {},
     "output_type": "execute_result"
    }
   ],
   "source": [
    "# Test dictionary with levels from 1 to 5\n",
    "os.system(f\"zstd -b1e5 -B{block_size} {file} -D dictionary\")"
   ]
  },
  {
   "cell_type": "markdown",
   "id": "d90517c5",
   "metadata": {},
   "source": [
    "As it can be seen, the compression ratio was the highest with the target compression level (3). "
   ]
  },
  {
   "cell_type": "code",
   "execution_count": 25,
   "id": "b8f5a5bc",
   "metadata": {
    "scrolled": false
   },
   "outputs": [
    {
     "name": "stderr",
     "output_type": "stream",
     "text": [
      "rm: cannot remove 'dictionary': No such file or directory\n"
     ]
    },
    {
     "data": {
      "text/plain": [
       "256"
      ]
     },
     "execution_count": 25,
     "metadata": {},
     "output_type": "execute_result"
    }
   ],
   "source": [
    "os.system(f\"rm dictionary\") # remove created dictionary"
   ]
  },
  {
   "cell_type": "markdown",
   "id": "aa7e412b",
   "metadata": {},
   "source": [
    "Now, as with \"regular compression\", it is expected that in Dictionary Compression lower levels provide faster compression but lower ratio (and slower decompression), when higher levels sacrifice compression speed to improve the ratio and decompression."
   ]
  },
  {
   "cell_type": "code",
   "execution_count": 23,
   "id": "e79343d5",
   "metadata": {},
   "outputs": [
    {
     "name": "stdout",
     "output_type": "stream",
     "text": [
      "Compression levels -> [1, 5, 9, 13, 17]\n"
     ]
    }
   ],
   "source": [
    "# 5 different compression levels\n",
    "compression_levels = [i for i in range(1, 20, 4)]\n",
    "print(\"Compression levels ->\", compression_levels)"
   ]
  },
  {
   "cell_type": "code",
   "execution_count": 26,
   "id": "6a929ef9",
   "metadata": {
    "scrolled": true
   },
   "outputs": [
    {
     "name": "stdout",
     "output_type": "stream",
     "text": [
      "Compressing with level 1...\n"
     ]
    },
    {
     "name": "stderr",
     "output_type": "stream",
     "text": [
      "Trying 5 different sets of parameters                                          \n",
      "k=537                                                                          \n",
      "d=8\n",
      "f=20\n",
      "steps=4\n",
      "split=75\n",
      "accel=1\n",
      "Save dictionary of size 112640 into file dictionary \n"
     ]
    },
    {
     "name": "stdout",
     "output_type": "stream",
     "text": [
      "['1000000000 -> 395439257 (2.529)', ' 194.1 MB/s ', ' 688.0 MB/s \\r 1#\\n']\n",
      "Compressing with level 5...\n"
     ]
    },
    {
     "name": "stderr",
     "output_type": "stream",
     "text": [
      "Trying 5 different sets of parameters                                          \n",
      "k=537                                                                          \n",
      "d=8\n",
      "f=20\n",
      "steps=4\n",
      "split=75\n",
      "accel=1\n",
      "Save dictionary of size 112640 into file dictionary \n"
     ]
    },
    {
     "name": "stdout",
     "output_type": "stream",
     "text": [
      "['1000000000 -> 345112438 (2.898)', '  72.7 MB/s ', ' 599.9 MB/s \\r 5#\\n']\n",
      "Compressing with level 9...\n"
     ]
    },
    {
     "name": "stderr",
     "output_type": "stream",
     "text": [
      "Trying 5 different sets of parameters                                          \n",
      "k=537                                                                          \n",
      "d=8\n",
      "f=20\n",
      "steps=4\n",
      "split=75\n",
      "accel=1\n",
      "Save dictionary of size 112640 into file dictionary \n"
     ]
    },
    {
     "name": "stdout",
     "output_type": "stream",
     "text": [
      "['1000000000 -> 326995774 (3.058)', '  21.2 MB/s ', ' 518.9 MB/s \\r 9#\\n']\n",
      "Compressing with level 13...\n"
     ]
    },
    {
     "name": "stderr",
     "output_type": "stream",
     "text": [
      "Trying 5 different sets of parameters                                          \n",
      "k=537                                                                          \n",
      "d=8\n",
      "f=20\n",
      "steps=4\n",
      "split=75\n",
      "accel=1\n",
      "Save dictionary of size 112640 into file dictionary \n"
     ]
    },
    {
     "name": "stdout",
     "output_type": "stream",
     "text": [
      "['1000000000 -> 321568541 (3.110)', '  8.73 MB/s ', ' 540.3 MB/s \\r13#\\n']\n",
      "Compressing with level 17...\n"
     ]
    },
    {
     "name": "stderr",
     "output_type": "stream",
     "text": [
      "Trying 5 different sets of parameters                                          \n",
      "k=537                                                                          \n",
      "d=8\n",
      "f=20\n",
      "steps=4\n",
      "split=75\n",
      "accel=1\n",
      "Save dictionary of size 112640 into file dictionary \n"
     ]
    },
    {
     "name": "stdout",
     "output_type": "stream",
     "text": [
      "['1000000000 -> 313862082 (3.186)', '  3.71 MB/s ', ' 577.3 MB/s \\r17#\\n']\n"
     ]
    }
   ],
   "source": [
    "df_levels = pd.DataFrame() # new DataFrame for data storing\n",
    "\n",
    "for level in compression_levels:\n",
    "    \n",
    "    print(f\"Compressing with level {level}...\")\n",
    "    \n",
    "    # -- DICTIONARY BUILDING -- #\n",
    "    building_command = f\"zstd --train -B{block_size} -{level} {file}\"\n",
    "    os.system(building_command)\n",
    "    \n",
    "    # -- BENCHMARK -- #\n",
    "    benchmark_command = f\"zstd -b -B{block_size} -{level} {file} -D dictionary\"\n",
    "    stream = Popen(benchmark_command, \n",
    "                   shell=True,\n",
    "                   stdout=PIPE,\n",
    "                   stderr=PIPE)\n",
    "       \n",
    "    # Metrics extraction\n",
    "    compression_ratio, compression_speed, decompression_speed = get_metrics(stream.stderr)\n",
    "    \n",
    "    # -- RESULTS STORING -- #\n",
    "    df_levels = df_levels.append({\n",
    "        \"compression_level\": level,\n",
    "        \"compression_ratio\": compression_ratio,\n",
    "        \"compression_speed\": compression_speed,\n",
    "        \"decompression_speed\": decompression_speed\n",
    "    }, ignore_index=True)\n",
    "\n",
    "    \n",
    "    os.system(\"rm dictionary\")"
   ]
  },
  {
   "cell_type": "code",
   "execution_count": 30,
   "id": "416fabf3",
   "metadata": {
    "scrolled": true
   },
   "outputs": [
    {
     "data": {
      "text/html": [
       "<div>\n",
       "<style scoped>\n",
       "    .dataframe tbody tr th:only-of-type {\n",
       "        vertical-align: middle;\n",
       "    }\n",
       "\n",
       "    .dataframe tbody tr th {\n",
       "        vertical-align: top;\n",
       "    }\n",
       "\n",
       "    .dataframe thead th {\n",
       "        text-align: right;\n",
       "    }\n",
       "</style>\n",
       "<table border=\"1\" class=\"dataframe\">\n",
       "  <thead>\n",
       "    <tr style=\"text-align: right;\">\n",
       "      <th></th>\n",
       "      <th>compression_level</th>\n",
       "      <th>compression_ratio</th>\n",
       "      <th>compression_speed</th>\n",
       "      <th>decompression_speed</th>\n",
       "    </tr>\n",
       "  </thead>\n",
       "  <tbody>\n",
       "    <tr>\n",
       "      <th>0</th>\n",
       "      <td>1.0</td>\n",
       "      <td>2.529</td>\n",
       "      <td>194.10</td>\n",
       "      <td>688.0</td>\n",
       "    </tr>\n",
       "    <tr>\n",
       "      <th>1</th>\n",
       "      <td>5.0</td>\n",
       "      <td>2.898</td>\n",
       "      <td>72.70</td>\n",
       "      <td>599.9</td>\n",
       "    </tr>\n",
       "    <tr>\n",
       "      <th>2</th>\n",
       "      <td>9.0</td>\n",
       "      <td>3.058</td>\n",
       "      <td>21.20</td>\n",
       "      <td>518.9</td>\n",
       "    </tr>\n",
       "    <tr>\n",
       "      <th>3</th>\n",
       "      <td>13.0</td>\n",
       "      <td>3.110</td>\n",
       "      <td>8.73</td>\n",
       "      <td>540.3</td>\n",
       "    </tr>\n",
       "    <tr>\n",
       "      <th>4</th>\n",
       "      <td>17.0</td>\n",
       "      <td>3.186</td>\n",
       "      <td>3.71</td>\n",
       "      <td>577.3</td>\n",
       "    </tr>\n",
       "  </tbody>\n",
       "</table>\n",
       "</div>"
      ],
      "text/plain": [
       "   compression_level  compression_ratio  compression_speed  \\\n",
       "0                1.0              2.529             194.10   \n",
       "1                5.0              2.898              72.70   \n",
       "2                9.0              3.058              21.20   \n",
       "3               13.0              3.110               8.73   \n",
       "4               17.0              3.186               3.71   \n",
       "\n",
       "   decompression_speed  \n",
       "0                688.0  \n",
       "1                599.9  \n",
       "2                518.9  \n",
       "3                540.3  \n",
       "4                577.3  "
      ]
     },
     "execution_count": 30,
     "metadata": {},
     "output_type": "execute_result"
    }
   ],
   "source": [
    "df_levels"
   ]
  },
  {
   "cell_type": "code",
   "execution_count": 42,
   "id": "bc08999b",
   "metadata": {},
   "outputs": [
    {
     "data": {
      "image/png": "[encoded data removed]",
      "text/plain": [
       "<Figure size 1080x576 with 3 Axes>"
      ]
     },
     "metadata": {
      "needs_background": "light"
     },
     "output_type": "display_data"
    }
   ],
   "source": [
    "# GRAPH IMPLEMENTED WITH MATPLOTLIB SUBPLOTS\n",
    "\n",
    "# Creation of subplots\n",
    "fig, (ax1, ax2, ax3) = plt.subplots(1, 3, figsize=(15,8))\n",
    "fig.suptitle(\"Different Compression Levels with Dictionary Compression\", weight=\"bold\")\n",
    "fig.text(s=f\"File used: {file}\", y=0.93, x=0.45)\n",
    "\n",
    "# Plots\n",
    "ax1.plot(df_levels[\"compression_level\"], df_levels[\"compression_ratio\"])\n",
    "ax2.plot(df_levels[\"compression_level\"], df_levels[\"compression_speed\"])\n",
    "ax3.plot(df_levels[\"compression_level\"], df_levels[\"decompression_speed\"])\n",
    "\n",
    "# X axis\n",
    "ax1.set_xticks(df_levels[\"compression_level\"])\n",
    "ax2.set_xticks(df_levels[\"compression_level\"])\n",
    "ax3.set_xticks(df_levels[\"compression_level\"])\n",
    "ax2.set_xlabel(\"Compression Level\", labelpad=20)\n",
    "\n",
    "# Y axis\n",
    "ax1.set_ylabel(\"Compression Ratio\", labelpad=10)\n",
    "ax2.set_ylabel(\"Comp Speed (MB/s)\", labelpad=10)\n",
    "ax3.set_ylabel(\"Decomp Speed (MB/s)\", labelpad=10)\n",
    "\n",
    "plt.show()"
   ]
  },
  {
   "cell_type": "markdown",
   "id": "1ab125ec",
   "metadata": {},
   "source": [
    "### Insights\n",
    "\n",
    "Choosing the proper compression level really depends on the use-case and what is mostly desired with compression (either a faster compression, decompression; a better ratio or a balance). \n",
    "\n",
    "With read-only filesystems, we suspect that they will be compressed only once and read (decompressed) many times. Thus, the most important metrics can be Compression Ratio and Decompression Speed. A good balance is achieved using the 5th level (2.9 for ratio and about 600 MB/s for decomp; even comp speed is really good). \n",
    "\n",
    "Now, both decompression speed and compression ratio are increasing after the 9th level, so maybe level 19th will offer the best compression ratio while having an equiparable decompression speed to that of level 5. However, there is a tremendous sacrifice with compression speed - if this can be tolerated, level 19 can maximize compression ratio. "
   ]
  },
  {
   "cell_type": "markdown",
   "id": "b1e68ab0",
   "metadata": {},
   "source": [
    "## Testing different sizes of Dictionary"
   ]
  },
  {
   "cell_type": "markdown",
   "id": "9de70b5f",
   "metadata": {},
   "source": [
    "The larger the dictionary is the more impactful it can be in compression ratio (positively) but also memory usage and speed (negatively).\n",
    "\n",
    "The idea here is to find a \"good enough\" dictionary size according to block size.\n",
    "\n",
    "NOTE: by default, dictionary size is 110KB. In zstd's documentation, it is said that normally a bigger dictionary would not be necessary."
   ]
  },
  {
   "cell_type": "code",
   "execution_count": 16,
   "id": "374d0e66",
   "metadata": {},
   "outputs": [],
   "source": [
    "dictionary_sizes = [\"30K\", \"70K\", \"110K\", \"150K\"] # 4 different sizes to be tested"
   ]
  },
  {
   "cell_type": "markdown",
   "id": "22e07f0b",
   "metadata": {},
   "source": [
    "Level 5 is specified when training the dictionaries. This level is also used for a \"regular\" compression to compare it with the different dictionary sizes."
   ]
  },
  {
   "cell_type": "code",
   "execution_count": 17,
   "id": "d510b363",
   "metadata": {},
   "outputs": [],
   "source": [
    "compression_level = 5 # provided good results in previous tests"
   ]
  },
  {
   "cell_type": "code",
   "execution_count": 18,
   "id": "ad04dc7d",
   "metadata": {},
   "outputs": [],
   "source": [
    "block_sizes = [\"4K\", \"8K\", \"16K\", \"32K\", \"64K\"] # different block sizes, powers of 4"
   ]
  },
  {
   "cell_type": "code",
   "execution_count": 19,
   "id": "e8a8f63c",
   "metadata": {
    "scrolled": true
   },
   "outputs": [
    {
     "name": "stdout",
     "output_type": "stream",
     "text": [
      "['1000000000 -> 450260303 (2.221)', '  77.0 MB/s ', ' 589.8 MB/s \\r 5#\\n']\n"
     ]
    },
    {
     "name": "stderr",
     "output_type": "stream",
     "text": [
      "Trying 5 different sets of parameters                                          \n",
      "k=537                                                                          \n",
      "d=8\n",
      "f=20\n",
      "steps=4\n",
      "split=75\n",
      "accel=1\n",
      "Save dictionary of size 30720 into file dictionary \n"
     ]
    },
    {
     "name": "stdout",
     "output_type": "stream",
     "text": [
      "['1000000000 -> 358804700 (2.787)', '  81.6 MB/s ', ' 576.2 MB/s \\r 5#\\n']\n"
     ]
    },
    {
     "name": "stderr",
     "output_type": "stream",
     "text": [
      "Trying 5 different sets of parameters                                          \n",
      "k=537                                                                          \n",
      "d=8\n",
      "f=20\n",
      "steps=4\n",
      "split=75\n",
      "accel=1\n",
      "Save dictionary of size 71680 into file dictionary \n"
     ]
    },
    {
     "name": "stdout",
     "output_type": "stream",
     "text": [
      "['1000000000 -> 349014871 (2.865)', '  77.2 MB/s ', ' 589.5 MB/s \\r 5#\\n']\n"
     ]
    },
    {
     "name": "stderr",
     "output_type": "stream",
     "text": [
      "Trying 5 different sets of parameters                                          \n",
      "k=537                                                                          \n",
      "d=8\n",
      "f=20\n",
      "steps=4\n",
      "split=75\n",
      "accel=1\n",
      "Save dictionary of size 112640 into file dictionary \n"
     ]
    },
    {
     "name": "stdout",
     "output_type": "stream",
     "text": [
      "['1000000000 -> 345112438 (2.898)', '  77.4 MB/s ', ' 589.5 MB/s \\r 5#\\n']\n"
     ]
    },
    {
     "name": "stderr",
     "output_type": "stream",
     "text": [
      "Trying 5 different sets of parameters                                          \n",
      "k=537                                                                          \n",
      "d=8\n",
      "f=20\n",
      "steps=4\n",
      "split=75\n",
      "accel=1\n",
      "Save dictionary of size 153600 into file dictionary \n"
     ]
    },
    {
     "name": "stdout",
     "output_type": "stream",
     "text": [
      "['1000000000 -> 336402054 (2.973)', '  71.6 MB/s ', ' 659.3 MB/s \\r 5#\\n']\n",
      "['1000000000 -> 407788894 (2.452)', '  90.6 MB/s ', ' 669.4 MB/s \\r 5#\\n']\n"
     ]
    },
    {
     "name": "stderr",
     "output_type": "stream",
     "text": [
      "Trying 5 different sets of parameters                                          \n",
      "k=50                                                                           \n",
      "d=8\n",
      "f=20\n",
      "steps=4\n",
      "split=75\n",
      "accel=1\n",
      "Save dictionary of size 30720 into file dictionary \n"
     ]
    },
    {
     "name": "stdout",
     "output_type": "stream",
     "text": [
      "['1000000000 -> 347940630 (2.874)', '  78.3 MB/s ', ' 587.2 MB/s \\r 5#\\n']\n"
     ]
    },
    {
     "name": "stderr",
     "output_type": "stream",
     "text": [
      "Trying 5 different sets of parameters                                          \n",
      "k=50                                                                           \n",
      "d=8\n",
      "f=20\n",
      "steps=4\n",
      "split=75\n",
      "accel=1\n",
      "Save dictionary of size 71680 into file dictionary \n"
     ]
    },
    {
     "name": "stdout",
     "output_type": "stream",
     "text": [
      "['1000000000 -> 339425796 (2.946)', '  73.5 MB/s ', ' 541.0 MB/s \\r 5#\\n']\n"
     ]
    },
    {
     "name": "stderr",
     "output_type": "stream",
     "text": [
      "Trying 5 different sets of parameters                                          \n",
      "k=50                                                                           \n",
      "d=8\n",
      "f=20\n",
      "steps=4\n",
      "split=75\n",
      "accel=1\n",
      "Save dictionary of size 112640 into file dictionary \n"
     ]
    },
    {
     "name": "stdout",
     "output_type": "stream",
     "text": [
      "['1000000000 -> 336288624 (2.974)', '  79.8 MB/s ', ' 576.1 MB/s \\r 5#\\n']\n"
     ]
    },
    {
     "name": "stderr",
     "output_type": "stream",
     "text": [
      "Trying 5 different sets of parameters                                          \n",
      "k=537                                                                          \n",
      "d=8\n",
      "f=20\n",
      "steps=4\n",
      "split=75\n",
      "accel=1\n",
      "Save dictionary of size 153600 into file dictionary \n"
     ]
    },
    {
     "name": "stdout",
     "output_type": "stream",
     "text": [
      "['1000000000 -> 325595715 (3.071)', '  80.1 MB/s ', ' 707.7 MB/s \\r 5#\\n']\n",
      "['1000000000 -> 376281691 (2.658)', '  89.6 MB/s ', ' 766.5 MB/s \\r 5#\\n']\n"
     ]
    },
    {
     "name": "stderr",
     "output_type": "stream",
     "text": [
      "Trying 5 different sets of parameters                                          \n",
      "k=50                                                                           \n",
      "d=8\n",
      "f=20\n",
      "steps=4\n",
      "split=75\n",
      "accel=1\n",
      "Save dictionary of size 30720 into file dictionary \n"
     ]
    },
    {
     "name": "stdout",
     "output_type": "stream",
     "text": [
      "['1000000000 -> 337028397 (2.967)', '  81.7 MB/s ', ' 630.9 MB/s \\r 5#\\n']\n"
     ]
    },
    {
     "name": "stderr",
     "output_type": "stream",
     "text": [
      "Trying 5 different sets of parameters                                          \n",
      "k=50                                                                           \n",
      "d=8\n",
      "f=20\n",
      "steps=4\n",
      "split=75\n",
      "accel=1\n",
      "Save dictionary of size 71680 into file dictionary \n"
     ]
    },
    {
     "name": "stdout",
     "output_type": "stream",
     "text": [
      "['1000000000 -> 328408850 (3.045)', '  83.5 MB/s ', ' 617.3 MB/s \\r 5#\\n']\n"
     ]
    },
    {
     "name": "stderr",
     "output_type": "stream",
     "text": [
      "Trying 5 different sets of parameters                                          \n",
      "k=50                                                                           \n",
      "d=8\n",
      "f=20\n",
      "steps=4\n",
      "split=75\n",
      "accel=1\n",
      "Save dictionary of size 112640 into file dictionary \n"
     ]
    },
    {
     "name": "stdout",
     "output_type": "stream",
     "text": [
      "['1000000000 -> 325049215 (3.076)', '  81.6 MB/s ', ' 611.3 MB/s \\r 5#\\n']\n"
     ]
    },
    {
     "name": "stderr",
     "output_type": "stream",
     "text": [
      "Trying 5 different sets of parameters                                          \n",
      "k=50                                                                           \n",
      "d=8\n",
      "f=20\n",
      "steps=4\n",
      "split=75\n",
      "accel=1\n",
      "Save dictionary of size 153600 into file dictionary \n"
     ]
    },
    {
     "name": "stdout",
     "output_type": "stream",
     "text": [
      "['1000000000 -> 318804593 (3.137)', '  86.9 MB/s ', ' 676.1 MB/s \\r 5#\\n']\n",
      "['1000000000 -> 359155240 (2.784)', ' 113.1 MB/s ', ' 842.4 MB/s \\r 5#\\n']\n"
     ]
    },
    {
     "name": "stderr",
     "output_type": "stream",
     "text": [
      "Trying 5 different sets of parameters                                          \n",
      "k=50                                                                           \n",
      "d=8\n",
      "f=20\n",
      "steps=4\n",
      "split=75\n",
      "accel=1\n",
      "Save dictionary of size 30720 into file dictionary \n"
     ]
    },
    {
     "name": "stdout",
     "output_type": "stream",
     "text": [
      "['1000000000 -> 327069791 (3.057)', '  84.9 MB/s ', ' 701.3 MB/s \\r 5#\\n']\n"
     ]
    },
    {
     "name": "stderr",
     "output_type": "stream",
     "text": [
      "Trying 5 different sets of parameters                                          \n",
      "k=50                                                                           \n",
      "d=8\n",
      "f=20\n",
      "steps=4\n",
      "split=75\n",
      "accel=1\n",
      "Save dictionary of size 71680 into file dictionary \n"
     ]
    },
    {
     "name": "stdout",
     "output_type": "stream",
     "text": [
      "['1000000000 -> 319865275 (3.126)', '  78.8 MB/s ', ' 661.7 MB/s \\r 5#\\n']\n"
     ]
    },
    {
     "name": "stderr",
     "output_type": "stream",
     "text": [
      "Trying 5 different sets of parameters                                          \n",
      "k=50                                                                           \n",
      "d=8\n",
      "f=20\n",
      "steps=4\n",
      "split=75\n",
      "accel=1\n",
      "Save dictionary of size 112640 into file dictionary \n"
     ]
    },
    {
     "name": "stdout",
     "output_type": "stream",
     "text": [
      "['1000000000 -> 317005604 (3.155)', '  66.1 MB/s ', ' 612.8 MB/s \\r 5#\\n']\n"
     ]
    },
    {
     "name": "stderr",
     "output_type": "stream",
     "text": [
      "Trying 5 different sets of parameters                                          \n",
      "k=50                                                                           \n",
      "d=8\n",
      "f=20\n",
      "steps=4\n",
      "split=75\n",
      "accel=1\n",
      "Save dictionary of size 153600 into file dictionary \n"
     ]
    },
    {
     "name": "stdout",
     "output_type": "stream",
     "text": [
      "['1000000000 -> 309744817 (3.228)', '  57.4 MB/s ', ' 634.6 MB/s \\r 5#\\n']\n",
      "['1000000000 -> 343653936 (2.910)', '  99.9 MB/s ', ' 880.4 MB/s \\r 5#\\n']\n"
     ]
    },
    {
     "name": "stderr",
     "output_type": "stream",
     "text": [
      "Trying 5 different sets of parameters                                          \n",
      "k=50                                                                           \n",
      "d=8\n",
      "f=20\n",
      "steps=4\n",
      "split=75\n",
      "accel=1\n",
      "Save dictionary of size 30720 into file dictionary \n"
     ]
    },
    {
     "name": "stdout",
     "output_type": "stream",
     "text": [
      "['1000000000 -> 323339998 (3.093)', '  95.3 MB/s ', ' 777.4 MB/s \\r 5#\\n']\n"
     ]
    },
    {
     "name": "stderr",
     "output_type": "stream",
     "text": [
      "Trying 5 different sets of parameters                                          \n",
      "k=50                                                                           \n",
      "d=8\n",
      "f=20\n",
      "steps=4\n",
      "split=75\n",
      "accel=1\n",
      "Save dictionary of size 71680 into file dictionary \n"
     ]
    },
    {
     "name": "stdout",
     "output_type": "stream",
     "text": [
      "['1000000000 -> 315941551 (3.165)', '  83.2 MB/s ', ' 704.8 MB/s \\r 5#\\n']\n"
     ]
    },
    {
     "name": "stderr",
     "output_type": "stream",
     "text": [
      "Trying 5 different sets of parameters                                          \n",
      "k=50                                                                           \n",
      "d=8\n",
      "f=20\n",
      "steps=4\n",
      "split=75\n",
      "accel=1\n",
      "Save dictionary of size 112640 into file dictionary \n"
     ]
    },
    {
     "name": "stdout",
     "output_type": "stream",
     "text": [
      "['1000000000 -> 313835582 (3.186)', '  86.2 MB/s ', ' 724.8 MB/s \\r 5#\\n']\n"
     ]
    },
    {
     "name": "stderr",
     "output_type": "stream",
     "text": [
      "Trying 5 different sets of parameters                                          \n",
      "k=50                                                                           \n",
      "d=8\n",
      "f=20\n",
      "steps=4\n",
      "split=75\n",
      "accel=1\n",
      "Save dictionary of size 153600 into file dictionary \n"
     ]
    },
    {
     "name": "stdout",
     "output_type": "stream",
     "text": [
      "['1000000000 -> 304792662 (3.281)', '  70.1 MB/s ', ' 733.7 MB/s \\r 5#\\n']\n"
     ]
    }
   ],
   "source": [
    "# New DataFrame\n",
    "df_dsizes = pd.DataFrame()\n",
    "\n",
    "for block_size in block_sizes:\n",
    "    \n",
    "    row = { \"block_size\": block_size }\n",
    "    \n",
    "    # -- \"REGULAR\" COMPRESSION (Level 5) -- #\n",
    "    stream_l5 = Popen(f\"zstd -b{compression_level} -B{block_size} {file}\",\n",
    "                           shell=True,\n",
    "                           stdout=PIPE,\n",
    "                           stderr=PIPE)\n",
    "   \n",
    "    # Metrics extraction\n",
    "    compression_ratio_l5, compression_speed_l5, decompression_speed_l5 = get_metrics(stream_l5.stderr)\n",
    "    \n",
    "    # Result saving\n",
    "    row.update({\n",
    "        \"compression_ratio_l5\": compression_ratio_l5,\n",
    "        \"compression_speed_l5\": compression_speed_l5,\n",
    "        \"decompression_speed_l5\": decompression_speed_l5\n",
    "    })\n",
    "    \n",
    "    # -- DICTIONARY COMPRESSION -- #\n",
    "    \n",
    "    for dictionary_size in dictionary_sizes:\n",
    "    \n",
    "        # Training\n",
    "        os.system(f\"zstd --train -{compression_level} -B{block_size} --maxdict={dictionary_size} {file}\")\n",
    "    \n",
    "        # Benchmarks\n",
    "        stream = Popen(f\"zstd -b{compression_level} -B{block_size} {file} -D dictionary\", \n",
    "                      shell=True,\n",
    "                      stdout=PIPE,\n",
    "                      stderr=PIPE)\n",
    "        \n",
    "        # Metrics\n",
    "        compression_ratio, compression_speed, decompression_speed = get_metrics(stream.stderr)\n",
    "        \n",
    "        # Result saving\n",
    "        row.update({\n",
    "            f\"compression_ratio_d{dictionary_size}\": compression_ratio,\n",
    "            f\"compression_speed_d{dictionary_size}\": compression_speed,\n",
    "            f\"decompression_speed_d{dictionary_size}\": decompression_speed\n",
    "        })\n",
    "        \n",
    "        # Clearing\n",
    "        os.system(\"rm dictionary\")\n",
    "        \n",
    "        \n",
    "    df_dsizes = df_dsizes.append(row, ignore_index=True)"
   ]
  },
  {
   "cell_type": "markdown",
   "id": "176a9eb6",
   "metadata": {},
   "source": [
    "Results in DataFrame"
   ]
  },
  {
   "cell_type": "code",
   "execution_count": 20,
   "id": "c858ec75",
   "metadata": {
    "scrolled": true
   },
   "outputs": [
    {
     "data": {
      "text/html": [
       "<div>\n",
       "<style scoped>\n",
       "    .dataframe tbody tr th:only-of-type {\n",
       "        vertical-align: middle;\n",
       "    }\n",
       "\n",
       "    .dataframe tbody tr th {\n",
       "        vertical-align: top;\n",
       "    }\n",
       "\n",
       "    .dataframe thead th {\n",
       "        text-align: right;\n",
       "    }\n",
       "</style>\n",
       "<table border=\"1\" class=\"dataframe\">\n",
       "  <thead>\n",
       "    <tr style=\"text-align: right;\">\n",
       "      <th></th>\n",
       "      <th>block_size</th>\n",
       "      <th>compression_ratio_l5</th>\n",
       "      <th>compression_speed_l5</th>\n",
       "      <th>decompression_speed_l5</th>\n",
       "      <th>compression_ratio_d30K</th>\n",
       "      <th>compression_speed_d30K</th>\n",
       "      <th>decompression_speed_d30K</th>\n",
       "      <th>compression_ratio_d70K</th>\n",
       "      <th>compression_speed_d70K</th>\n",
       "      <th>decompression_speed_d70K</th>\n",
       "      <th>compression_ratio_d110K</th>\n",
       "      <th>compression_speed_d110K</th>\n",
       "      <th>decompression_speed_d110K</th>\n",
       "      <th>compression_ratio_d150K</th>\n",
       "      <th>compression_speed_d150K</th>\n",
       "      <th>decompression_speed_d150K</th>\n",
       "    </tr>\n",
       "  </thead>\n",
       "  <tbody>\n",
       "    <tr>\n",
       "      <th>0</th>\n",
       "      <td>4K</td>\n",
       "      <td>2.221</td>\n",
       "      <td>77.0</td>\n",
       "      <td>589.8</td>\n",
       "      <td>2.787</td>\n",
       "      <td>81.6</td>\n",
       "      <td>576.2</td>\n",
       "      <td>2.865</td>\n",
       "      <td>77.2</td>\n",
       "      <td>589.5</td>\n",
       "      <td>2.898</td>\n",
       "      <td>77.4</td>\n",
       "      <td>589.5</td>\n",
       "      <td>2.973</td>\n",
       "      <td>71.6</td>\n",
       "      <td>659.3</td>\n",
       "    </tr>\n",
       "    <tr>\n",
       "      <th>1</th>\n",
       "      <td>8K</td>\n",
       "      <td>2.452</td>\n",
       "      <td>90.6</td>\n",
       "      <td>669.4</td>\n",
       "      <td>2.874</td>\n",
       "      <td>78.3</td>\n",
       "      <td>587.2</td>\n",
       "      <td>2.946</td>\n",
       "      <td>73.5</td>\n",
       "      <td>541.0</td>\n",
       "      <td>2.974</td>\n",
       "      <td>79.8</td>\n",
       "      <td>576.1</td>\n",
       "      <td>3.071</td>\n",
       "      <td>80.1</td>\n",
       "      <td>707.7</td>\n",
       "    </tr>\n",
       "    <tr>\n",
       "      <th>2</th>\n",
       "      <td>16K</td>\n",
       "      <td>2.658</td>\n",
       "      <td>89.6</td>\n",
       "      <td>766.5</td>\n",
       "      <td>2.967</td>\n",
       "      <td>81.7</td>\n",
       "      <td>630.9</td>\n",
       "      <td>3.045</td>\n",
       "      <td>83.5</td>\n",
       "      <td>617.3</td>\n",
       "      <td>3.076</td>\n",
       "      <td>81.6</td>\n",
       "      <td>611.3</td>\n",
       "      <td>3.137</td>\n",
       "      <td>86.9</td>\n",
       "      <td>676.1</td>\n",
       "    </tr>\n",
       "    <tr>\n",
       "      <th>3</th>\n",
       "      <td>32K</td>\n",
       "      <td>2.784</td>\n",
       "      <td>113.1</td>\n",
       "      <td>842.4</td>\n",
       "      <td>3.057</td>\n",
       "      <td>84.9</td>\n",
       "      <td>701.3</td>\n",
       "      <td>3.126</td>\n",
       "      <td>78.8</td>\n",
       "      <td>661.7</td>\n",
       "      <td>3.155</td>\n",
       "      <td>66.1</td>\n",
       "      <td>612.8</td>\n",
       "      <td>3.228</td>\n",
       "      <td>57.4</td>\n",
       "      <td>634.6</td>\n",
       "    </tr>\n",
       "    <tr>\n",
       "      <th>4</th>\n",
       "      <td>64K</td>\n",
       "      <td>2.910</td>\n",
       "      <td>99.9</td>\n",
       "      <td>880.4</td>\n",
       "      <td>3.093</td>\n",
       "      <td>95.3</td>\n",
       "      <td>777.4</td>\n",
       "      <td>3.165</td>\n",
       "      <td>83.2</td>\n",
       "      <td>704.8</td>\n",
       "      <td>3.186</td>\n",
       "      <td>86.2</td>\n",
       "      <td>724.8</td>\n",
       "      <td>3.281</td>\n",
       "      <td>70.1</td>\n",
       "      <td>733.7</td>\n",
       "    </tr>\n",
       "  </tbody>\n",
       "</table>\n",
       "</div>"
      ],
      "text/plain": [
       "  block_size  compression_ratio_l5  compression_speed_l5  \\\n",
       "0         4K                 2.221                  77.0   \n",
       "1         8K                 2.452                  90.6   \n",
       "2        16K                 2.658                  89.6   \n",
       "3        32K                 2.784                 113.1   \n",
       "4        64K                 2.910                  99.9   \n",
       "\n",
       "   decompression_speed_l5  compression_ratio_d30K  compression_speed_d30K  \\\n",
       "0                   589.8                   2.787                    81.6   \n",
       "1                   669.4                   2.874                    78.3   \n",
       "2                   766.5                   2.967                    81.7   \n",
       "3                   842.4                   3.057                    84.9   \n",
       "4                   880.4                   3.093                    95.3   \n",
       "\n",
       "   decompression_speed_d30K  compression_ratio_d70K  compression_speed_d70K  \\\n",
       "0                     576.2                   2.865                    77.2   \n",
       "1                     587.2                   2.946                    73.5   \n",
       "2                     630.9                   3.045                    83.5   \n",
       "3                     701.3                   3.126                    78.8   \n",
       "4                     777.4                   3.165                    83.2   \n",
       "\n",
       "   decompression_speed_d70K  compression_ratio_d110K  compression_speed_d110K  \\\n",
       "0                     589.5                    2.898                     77.4   \n",
       "1                     541.0                    2.974                     79.8   \n",
       "2                     617.3                    3.076                     81.6   \n",
       "3                     661.7                    3.155                     66.1   \n",
       "4                     704.8                    3.186                     86.2   \n",
       "\n",
       "   decompression_speed_d110K  compression_ratio_d150K  \\\n",
       "0                      589.5                    2.973   \n",
       "1                      576.1                    3.071   \n",
       "2                      611.3                    3.137   \n",
       "3                      612.8                    3.228   \n",
       "4                      724.8                    3.281   \n",
       "\n",
       "   compression_speed_d150K  decompression_speed_d150K  \n",
       "0                     71.6                      659.3  \n",
       "1                     80.1                      707.7  \n",
       "2                     86.9                      676.1  \n",
       "3                     57.4                      634.6  \n",
       "4                     70.1                      733.7  "
      ]
     },
     "execution_count": 20,
     "metadata": {},
     "output_type": "execute_result"
    }
   ],
   "source": [
    "df_dsizes"
   ]
  },
  {
   "cell_type": "code",
   "execution_count": 59,
   "id": "23f71a39",
   "metadata": {
    "scrolled": false
   },
   "outputs": [
    {
     "name": "stderr",
     "output_type": "stream",
     "text": [
      "/tmp/ipykernel_4643/1396304521.py:56: UserWarning: You have mixed positional and keyword arguments, some input may be discarded.\n",
      "  fig.legend([ax1, ax2, ax3],\n"
     ]
    },
    {
     "data": {
      "image/png": "[encoded data removed]",
      "text/plain": [
       "<Figure size 1080x1080 with 3 Axes>"
      ]
     },
     "metadata": {
      "needs_background": "light"
     },
     "output_type": "display_data"
    }
   ],
   "source": [
    "# GRAPH IMPLEMENTED WITH MATPLOTLIB SUBPLOTS\n",
    "\n",
    "# Creation of subplots\n",
    "fig, (ax1, ax2, ax3) = plt.subplots(3, 1, figsize=(15, 15))\n",
    "fig.suptitle(\"Effect of Different Dictionary Sizes\", weight=\"bold\")\n",
    "fig.text(s=f\"File used: {file} | Compression Level: {compression_level}\", y=0.95, x=0.4)\n",
    "\n",
    "x = np.arange(len(df_dsizes))\n",
    "width = 0.15\n",
    "\n",
    "# Creation of barplots\n",
    "ax1_barplots = []\n",
    "ax2_barplots = []\n",
    "ax3_barplots = []\n",
    "\n",
    "for (i, dictionary_size) in enumerate(dictionary_sizes):\n",
    "    \n",
    "    ax1.bar(x + width*i, df_dsizes[f\"compression_ratio_d{dictionary_size}\"],\n",
    "                          width, label=f\"{dictionary_size} Dic\")\n",
    "        \n",
    "    ax2.bar(x + width*i, df_dsizes[f\"compression_speed_d{dictionary_size}\"],\n",
    "                          width, label=f\"{dictionary_size} Dic\")\n",
    "    \n",
    "    ax3.bar(x + width*i, df_dsizes[f\"decompression_speed_d{dictionary_size}\"],\n",
    "                          width, label=f\"{dictionary_size} Dic\")\n",
    "\n",
    "\n",
    "# Barplot for compression without dictionary\n",
    "ax1.bar(x + (len(x)-1)*width, df_dsizes[f\"compression_ratio_l{compression_level}\"],\n",
    "                     width, label=f\"L{compression_level} No Dic\")\n",
    "\n",
    "ax2.bar(x + (len(x)-1)*width, df_dsizes[f\"compression_speed_l{compression_level}\"],\n",
    "                     width, label=f\"L{compression_level} No Dic\")\n",
    "\n",
    "ax3.bar(x + (len(x)-1)*width, df_dsizes[f\"decompression_speed_l{compression_level}\"],\n",
    "                     width, label=f\"L{compression_level} No Dic\")\n",
    "    \n",
    "    \n",
    "# Ticks and axis labels\n",
    "ax1.set_ylabel(\"Compression Ratio\")\n",
    "ax1.set_xlabel(\"Block Size\")\n",
    "ax1.set_xticks(x + 2*width)\n",
    "ax1.set_xticklabels(df_dsizes[\"block_size\"])\n",
    "\n",
    "ax2.set_ylabel(\"Compression Speed\")\n",
    "ax2.set_xlabel(\"Block Size\")\n",
    "ax2.set_xticks(x + 2*width)\n",
    "ax2.set_xticklabels(df_dsizes[\"block_size\"])\n",
    "\n",
    "ax3.set_ylabel(\"Deompression Speed\")\n",
    "ax3.set_xlabel(\"Block Size\")\n",
    "ax3.set_xticks(x + 2*width)\n",
    "ax3.set_xticklabels(df_dsizes[\"block_size\"])\n",
    "\n",
    "# Labels to identify each file\n",
    "fig.legend([ax1, ax2, ax3],\n",
    "           labels=[\"30K Dic\", \"70K Dic\", \"110K Dic\", \"150K Dic\", \"L5 No Dic\"],      \n",
    "           loc=\"center right\",\n",
    "           borderaxespad=0.1,\n",
    "           title=\"Compression Type\"\n",
    "          )\n",
    "    \n",
    "plt.show()"
   ]
  },
  {
   "cell_type": "code",
   "execution_count": 63,
   "id": "b0b8093b",
   "metadata": {
    "scrolled": false
   },
   "outputs": [
    {
     "name": "stderr",
     "output_type": "stream",
     "text": [
      "/tmp/ipykernel_4643/63545762.py:36: UserWarning: You have mixed positional and keyword arguments, some input may be discarded.\n",
      "  fig.legend([ax1, ax2, ax3],\n"
     ]
    },
    {
     "data": {
      "image/png": "[encoded data removed]",
      "text/plain": [
       "<Figure size 1080x1080 with 3 Axes>"
      ]
     },
     "metadata": {
      "needs_background": "light"
     },
     "output_type": "display_data"
    }
   ],
   "source": [
    "fig, (ax1, ax2, ax3) = plt.subplots(3, 1, sharex=True, figsize=(15,15))\n",
    "fig.suptitle(\"Effect of Different Dictionary Sizes\", weight=\"bold\", y=0.95)\n",
    "fig.text(s=f\"File used: {file} | Compression Level: {compression_level}\", y=0.92, x=0.4)\n",
    "\n",
    "markers = [\"o\", \"^\", \"x\", \"s\", \".\"] # Possible markers to differentiate the plots for each file (allows for 5 different files)\n",
    "\n",
    "columns = [\"compression_ratio\", \"compression_speed\", \"decompression_speed\"] \n",
    "x = [pow(2,i) for i in range(2, 7)] # Array for ticks in X axis \n",
    "\n",
    "for (i, dictionary_size) in enumerate(dictionary_sizes):\n",
    "        \n",
    "    # semilogx is used for these plots as it allows a logaritmic\n",
    "    # progression in the x axis. Block sizes are selected following a progression of base 4\n",
    "    ax1.semilogx(x, df_dsizes[f\"compression_ratio_d{dictionary_size}\"], label=dictionary_size, base=2, marker=markers[i])\n",
    "    ax2.semilogx(x, df_dsizes[f\"compression_speed_d{dictionary_size}\"], label=dictionary_size, base=2, marker=markers[i])\n",
    "    ax3.semilogx(x, df_dsizes[f\"decompression_speed_d{dictionary_size}\"], label=dictionary_size, base=2, marker=markers[i])\n",
    "\n",
    "# No Dic Compression  plot\n",
    "ax1.semilogx(x, df_dsizes[f\"compression_ratio_l5\"], \"--\", label=\"nodic\", base=2)\n",
    "ax2.semilogx(x, df_dsizes[f\"compression_speed_l5\"], \"--\", label=\"nodic\", base=2)\n",
    "ax3.semilogx(x, df_dsizes[f\"decompression_speed_l5\"], \"--\", label=\"nodic\", base=2)\n",
    "    \n",
    "# AXES STYLES\n",
    "\n",
    "# Y axis\n",
    "ax1.set_ylabel(\"Compression Ratio\", labelpad=10)\n",
    "ax2.set_ylabel(\"Comp Speed (MB/s)\", labelpad=10)\n",
    "ax3.set_ylabel(\"Decomp Speed (MB/s)\", labelpad=10)\n",
    "\n",
    "# X axis\n",
    "ax3.set_xlabel(\"Block Size\", labelpad=10)\n",
    "ax3.set_xticks(x)\n",
    "ax3.set_xticklabels(block_sizes)\n",
    "    \n",
    "# Labels to identify each file\n",
    "fig.legend([ax1, ax2, ax3],\n",
    "           labels=[\"30K Dic\", \"70K Dic\", \"110K Dic\", \"150K Dic\", \"L5 No Dic\"],      \n",
    "           loc=\"center right\",\n",
    "           borderaxespad=0.1,\n",
    "           title=\"Compression\"\n",
    "          )\n",
    "    \n",
    "plt.show()"
   ]
  },
  {
   "cell_type": "markdown",
   "id": "b22985cc",
   "metadata": {},
   "source": [
    "### Insights \n",
    "\n",
    "* I cannot perceive a direct impact in decompression speed depending on the size of the dictionary. Even in compression speed, it is not until larger block sizes (32K and 64K) that bigger dictionaries appear to be slower.\n",
    "\n",
    "* Compression with dictionary is always better than using no dictionary. in terms of compression ratio. From 16K block size, L5 trained dictionaries are always slower. \n",
    "\n",
    "* For the smallest block size. Compression annd Decompression Speeds are pretty much identical between 70K, 110K dics and L5 with no dic.\n",
    "\n",
    "When compressing with 4K block sizes, 70K dictionaries offer the same compression and decompression speeds than the 110K size with just a .033 difference in compression ratio. Therefore, for this specific case, 70K might be a decent size."
   ]
  },
  {
   "cell_type": "markdown",
   "id": "b8443464",
   "metadata": {},
   "source": [
    "## Proposed Compression"
   ]
  },
  {
   "cell_type": "code",
   "execution_count": null,
   "id": "e4491e71",
   "metadata": {},
   "outputs": [
    {
     "name": "stderr",
     "output_type": "stream",
     "text": [
      "Trying 5 different sets of parameters                                          \n",
      "20%       "
     ]
    }
   ],
   "source": [
    "%%capture \n",
    "\n",
    "BLOCK_SIZE = \"4K\"\n",
    "DICTIONARY_SIZE = \"70K\"\n",
    "COMPRESSION_LEVEL = 5\n",
    "\n",
    "df = pd.DataFrame()\n",
    "\n",
    "for i in range(50):\n",
    "    \n",
    "    # Dictionary Training \n",
    "    os.system(f\"zstd --train -B{BLOCK_SIZE} -{COMPRESSION_LEVEL} --maxdict={DICTIONARY_SIZE} {file}\")\n",
    "    \n",
    "    # Benchmarks\n",
    "    stream = Popen(f\"zstd -b{COMPRESSION_LEVEL} -B{BLOCK_SIZE} {file} -D dictionary\", \n",
    "                  shell=True,\n",
    "                  stdout=PIPE,\n",
    "                  stderr=PIPE)\n",
    "    \n",
    "    # Metrics extraction\n",
    "    compression_ratio, compression_speed, decompression_speed = get_metrics(stream.stderr)\n",
    "    \n",
    "    df = df.append({\n",
    "        \"compression_ratio\": compression_ratio,\n",
    "        \"compression_speed\": compression_speed,\n",
    "        \"decompression_speed\": decompression_speed\n",
    "    })\n",
    "    \n",
    "    os.system(\"rm dictionary\")"
   ]
  },
  {
   "cell_type": "code",
   "execution_count": null,
   "id": "db694057",
   "metadata": {},
   "outputs": [],
   "source": []
  }
 ],
 "metadata": {
  "kernelspec": {
   "display_name": "Python 3 (ipykernel)",
   "language": "python",
   "name": "python3"
  },
  "language_info": {
   "codemirror_mode": {
    "name": "ipython",
    "version": 3
   },
   "file_extension": ".py",
   "mimetype": "text/x-python",
   "name": "python",
   "nbconvert_exporter": "python",
   "pygments_lexer": "ipython3",
   "version": "3.9.7"
  }
 },
 "nbformat": 4,
 "nbformat_minor": 5
}
